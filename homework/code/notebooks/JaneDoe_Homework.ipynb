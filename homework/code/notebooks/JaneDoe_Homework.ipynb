{
 "cells": [
  {
   "cell_type": "markdown",
   "metadata": {},
   "source": [
    "# Case Study\n",
    "#### Jane Doe, Feb 2021"
   ]
  },
  {
   "cell_type": "code",
   "execution_count": 2,
   "metadata": {},
   "outputs": [
    {
     "data": {
      "text/html": [
       "<style>.container { width:80% !important; }</style>"
      ],
      "text/plain": [
       "<IPython.core.display.HTML object>"
      ]
     },
     "metadata": {},
     "output_type": "display_data"
    },
    {
     "data": {
      "application/javascript": [
       "\n",
       "            setTimeout(function() {\n",
       "                var nbb_cell_id = 2;\n",
       "                var nbb_unformatted_code = \"%load_ext nb_black\\n# we are using autoreload extension, in charge to reload all the imported package/modules\\n# without the need to restart the kernel\\n%reload_ext autoreload\\n%autoreload 2\\nimport os\\nimport sys\\nimport glob\\n\\n\\ndef set_paths() -> None:\\n    \\\"\\\"\\\"\\n    set correct working directory\\n    \\\"\\\"\\\"\\n    # only change the directory if we have not yet done so\\n    if \\\"cwd\\\" not in globals():\\n        # noinspection PyGlobalUndefined\\n        global cwd\\n        cwd = os.path.join(os.getcwd(), os.pardir)\\n        os.chdir(cwd)\\n\\n\\n# we are setting the path to the root directory of the project\\n# allowing us to load the packages\\nset_paths()\\n\\n# Increases the width of the notebookk\\nfrom IPython.core.display import display, HTML\\n\\ndisplay(HTML(\\\"<style>.container { width:80% !important; }</style>\\\"))\";\n",
       "                var nbb_formatted_code = \"%load_ext nb_black\\n# we are using autoreload extension, in charge to reload all the imported package/modules\\n# without the need to restart the kernel\\n%reload_ext autoreload\\n%autoreload 2\\nimport os\\nimport sys\\nimport glob\\n\\n\\ndef set_paths() -> None:\\n    \\\"\\\"\\\"\\n    set correct working directory\\n    \\\"\\\"\\\"\\n    # only change the directory if we have not yet done so\\n    if \\\"cwd\\\" not in globals():\\n        # noinspection PyGlobalUndefined\\n        global cwd\\n        cwd = os.path.join(os.getcwd(), os.pardir)\\n        os.chdir(cwd)\\n\\n\\n# we are setting the path to the root directory of the project\\n# allowing us to load the packages\\nset_paths()\\n\\n# Increases the width of the notebookk\\nfrom IPython.core.display import display, HTML\\n\\ndisplay(HTML(\\\"<style>.container { width:80% !important; }</style>\\\"))\";\n",
       "                var nbb_cells = Jupyter.notebook.get_cells();\n",
       "                for (var i = 0; i < nbb_cells.length; ++i) {\n",
       "                    if (nbb_cells[i].input_prompt_number == nbb_cell_id) {\n",
       "                        if (nbb_cells[i].get_text() == nbb_unformatted_code) {\n",
       "                             nbb_cells[i].set_text(nbb_formatted_code);\n",
       "                        }\n",
       "                        break;\n",
       "                    }\n",
       "                }\n",
       "            }, 500);\n",
       "            "
      ],
      "text/plain": [
       "<IPython.core.display.Javascript object>"
      ]
     },
     "metadata": {},
     "output_type": "display_data"
    }
   ],
   "source": [
    "%load_ext nb_black\n",
    "# we are using autoreload extension, in charge to reload all the imported package/modules\n",
    "# without the need to restart the kernel\n",
    "%reload_ext autoreload\n",
    "%autoreload 2\n",
    "import os\n",
    "import sys\n",
    "import glob\n",
    "\n",
    "\n",
    "def set_paths() -> None:\n",
    "    \"\"\"\n",
    "    set correct working directory\n",
    "    \"\"\"\n",
    "    # only change the directory if we have not yet done so\n",
    "    if \"cwd\" not in globals():\n",
    "        global cwd\n",
    "        cwd = os.path.join(os.getcwd(), os.pardir)\n",
    "        os.chdir(cwd)\n",
    "\n",
    "\n",
    "# we are setting the path to the root directory of the project\n",
    "# allowing us to load the packages\n",
    "set_paths()\n",
    "\n",
    "# Increases the width of the notebookk\n",
    "from IPython.core.display import display, HTML\n",
    "\n",
    "display(HTML(\"<style>.container { width:80% !important; }</style>\"))"
   ]
  },
  {
   "cell_type": "code",
   "execution_count": 3,
   "metadata": {},
   "outputs": [
    {
     "data": {
      "application/javascript": [
       "\n",
       "            setTimeout(function() {\n",
       "                var nbb_cell_id = 3;\n",
       "                var nbb_unformatted_code = \"import os\\nfrom typing import Set, Dict, List\\n\\nimport pandas as pd\\nimport numpy as np\\n\\nimport matplotlib.pyplot as plt\\nimport seaborn as sns\\n\\n# Custom Libraries\\nfrom src.eda import EDA\";\n",
       "                var nbb_formatted_code = \"import os\\nfrom typing import Set, Dict, List\\n\\nimport pandas as pd\\nimport numpy as np\\n\\nimport matplotlib.pyplot as plt\\nimport seaborn as sns\\n\\n# Custom Libraries\\nfrom src.eda import EDA\";\n",
       "                var nbb_cells = Jupyter.notebook.get_cells();\n",
       "                for (var i = 0; i < nbb_cells.length; ++i) {\n",
       "                    if (nbb_cells[i].input_prompt_number == nbb_cell_id) {\n",
       "                        if (nbb_cells[i].get_text() == nbb_unformatted_code) {\n",
       "                             nbb_cells[i].set_text(nbb_formatted_code);\n",
       "                        }\n",
       "                        break;\n",
       "                    }\n",
       "                }\n",
       "            }, 500);\n",
       "            "
      ],
      "text/plain": [
       "<IPython.core.display.Javascript object>"
      ]
     },
     "metadata": {},
     "output_type": "display_data"
    }
   ],
   "source": [
    "import os\n",
    "from typing import Set, Dict, List\n",
    "\n",
    "import pandas as pd\n",
    "import numpy as np\n",
    "\n",
    "import matplotlib.pyplot as plt\n",
    "import seaborn as sns\n",
    "\n",
    "# Custom Libraries\n",
    "from src.eda import EDA"
   ]
  },
  {
   "cell_type": "markdown",
   "metadata": {},
   "source": [
    "## Load the Data"
   ]
  },
  {
   "cell_type": "code",
   "execution_count": 4,
   "metadata": {},
   "outputs": [
    {
     "name": "stdout",
     "output_type": "stream",
     "text": [
      "No file to read\n"
     ]
    },
    {
     "data": {
      "application/javascript": [
       "\n",
       "            setTimeout(function() {\n",
       "                var nbb_cell_id = 4;\n",
       "                var nbb_unformatted_code = \"eda = EDA(root_path=\\\"data\\\")\\ndf = eda.load(file_name=None)\";\n",
       "                var nbb_formatted_code = \"eda = EDA(root_path=\\\"data\\\")\\ndf = eda.load(file_name=None)\";\n",
       "                var nbb_cells = Jupyter.notebook.get_cells();\n",
       "                for (var i = 0; i < nbb_cells.length; ++i) {\n",
       "                    if (nbb_cells[i].input_prompt_number == nbb_cell_id) {\n",
       "                        if (nbb_cells[i].get_text() == nbb_unformatted_code) {\n",
       "                             nbb_cells[i].set_text(nbb_formatted_code);\n",
       "                        }\n",
       "                        break;\n",
       "                    }\n",
       "                }\n",
       "            }, 500);\n",
       "            "
      ],
      "text/plain": [
       "<IPython.core.display.Javascript object>"
      ]
     },
     "metadata": {},
     "output_type": "display_data"
    }
   ],
   "source": [
    "eda = EDA(root_path=\"data\")\n",
    "df = eda.load(file_name=None)"
   ]
  },
  {
   "cell_type": "markdown",
   "metadata": {},
   "source": [
    "## Pipeline"
   ]
  },
  {
   "cell_type": "markdown",
   "metadata": {},
   "source": [
    "## Output"
   ]
  }
 ],
 "metadata": {
  "kernelspec": {
   "display_name": "Python 3",
   "language": "python",
   "name": "python3"
  },
  "language_info": {
   "codemirror_mode": {
    "name": "ipython",
    "version": 3
   },
   "file_extension": ".py",
   "mimetype": "text/x-python",
   "name": "python",
   "nbconvert_exporter": "python",
   "pygments_lexer": "ipython3",
   "version": "3.7.9"
  }
 },
 "nbformat": 4,
 "nbformat_minor": 4
}
