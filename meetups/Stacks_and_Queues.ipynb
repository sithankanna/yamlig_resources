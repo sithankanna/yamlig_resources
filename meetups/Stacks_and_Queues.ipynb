{
 "cells": [
  {
   "cell_type": "markdown",
   "id": "radical-miami",
   "metadata": {},
   "source": [
    "# Stacks"
   ]
  },
  {
   "cell_type": "code",
   "execution_count": null,
   "id": "dutch-cover",
   "metadata": {},
   "outputs": [],
   "source": [
    "# Let's add thing to a stack\n",
    "\n",
    "\n",
    "# Reversing, checking for balances\n",
    "\n",
    "#    \n",
    "# []\n",
    "\n",
    "#    v --- the only way something can come in and out\n",
    "# [] :\n",
    "\n",
    "\n",
    "# to push \"a\"\n",
    "\n",
    "# [ : <- \"a\"\n",
    "\n",
    "# [a]\n",
    "\n",
    "\n",
    "# to push \"b\"\n",
    "\n",
    "# [a, :<- \"b\"\n",
    "\n",
    "# [a, b]\n",
    "\n",
    "\n",
    "\n",
    "# to push \"c\"\n",
    "\n",
    "# [a, b, :<- \"c\"\n",
    "\n",
    "# [a, b, c]\n",
    "\n",
    "\n",
    "\n",
    "# -------------------\n",
    "\n",
    "\n",
    "\n",
    "# to peek\n",
    "\n",
    "# [a, b, c] \n",
    "#        ^---- peek     \n",
    "\n",
    "\n",
    "\n",
    "\n",
    "# -------------------\n",
    "\n",
    "\n",
    "\n",
    "\n",
    "# to pop\n",
    "\n",
    "# stack.pop()\n",
    "\n",
    "# [a, b,     :----> \"c\"\n",
    "\n",
    "# [a, b]           \n",
    "\n",
    "\n",
    "# stack.pop()\n",
    "\n",
    "# [a,      :----> \"b\"\n",
    "\n",
    "# [a]           \n",
    "\n",
    "\n",
    "\n",
    "# Last In First Out (LIFO)"
   ]
  },
  {
   "cell_type": "code",
   "execution_count": null,
   "id": "attended-split",
   "metadata": {},
   "outputs": [],
   "source": [
    "from collections import deque\n"
   ]
  },
  {
   "cell_type": "code",
   "execution_count": null,
   "id": "rapid-apache",
   "metadata": {},
   "outputs": [],
   "source": [
    "list1 = deque()\n",
    "list1.append(99)\n",
    "list1.append(15)"
   ]
  },
  {
   "cell_type": "code",
   "execution_count": null,
   "id": "parental-glenn",
   "metadata": {},
   "outputs": [],
   "source": [
    "list1"
   ]
  },
  {
   "cell_type": "code",
   "execution_count": null,
   "id": "dedicated-divide",
   "metadata": {},
   "outputs": [],
   "source": [
    "list1"
   ]
  },
  {
   "cell_type": "markdown",
   "id": "going-blast",
   "metadata": {},
   "source": [
    "## Data Structure"
   ]
  },
  {
   "cell_type": "code",
   "execution_count": 2,
   "id": "surgical-density",
   "metadata": {},
   "outputs": [],
   "source": [
    "from collections import deque\n",
    "\n",
    "class Stack:\n",
    "    \n",
    "    def __init__(self):\n",
    "        self.container = deque()\n",
    "        \n",
    "    def pop(self):\n",
    "        return self.container.pop()\n",
    "    \n",
    "    def push(self, val):\n",
    "        return self.container.append(val)\n",
    "    \n",
    "    def peek(self):\n",
    "        return self.container[-1]\n",
    "\n",
    "    def is_empty(self):\n",
    "        return len(self.container) == 0\n",
    "    \n",
    "    def __repr__(self):\n",
    "        return self.container.__repr__()"
   ]
  },
  {
   "cell_type": "code",
   "execution_count": 3,
   "id": "alleged-biology",
   "metadata": {},
   "outputs": [
    {
     "data": {
      "text/plain": [
       "deque(['a'])"
      ]
     },
     "execution_count": 3,
     "metadata": {},
     "output_type": "execute_result"
    }
   ],
   "source": [
    "stack = Stack()\n",
    "\n",
    "stack.push(\"a\")\n",
    "stack"
   ]
  },
  {
   "cell_type": "code",
   "execution_count": 4,
   "id": "parental-hampton",
   "metadata": {},
   "outputs": [
    {
     "data": {
      "text/plain": [
       "deque(['a', 'b'])"
      ]
     },
     "execution_count": 4,
     "metadata": {},
     "output_type": "execute_result"
    }
   ],
   "source": [
    "stack.push(\"b\")\n",
    "stack"
   ]
  },
  {
   "cell_type": "code",
   "execution_count": 5,
   "id": "increasing-punishment",
   "metadata": {},
   "outputs": [
    {
     "name": "stdout",
     "output_type": "stream",
     "text": [
      "Peeking b\n"
     ]
    },
    {
     "data": {
      "text/plain": [
       "deque(['a', 'b'])"
      ]
     },
     "execution_count": 5,
     "metadata": {},
     "output_type": "execute_result"
    }
   ],
   "source": [
    "print(\"Peeking\", stack.peek())\n",
    "stack"
   ]
  },
  {
   "cell_type": "code",
   "execution_count": 6,
   "id": "valued-malpractice",
   "metadata": {},
   "outputs": [
    {
     "name": "stdout",
     "output_type": "stream",
     "text": [
      "Popping b\n"
     ]
    },
    {
     "data": {
      "text/plain": [
       "deque(['a'])"
      ]
     },
     "execution_count": 6,
     "metadata": {},
     "output_type": "execute_result"
    }
   ],
   "source": [
    "print(\"Popping\", stack.pop())\n",
    "stack"
   ]
  },
  {
   "cell_type": "code",
   "execution_count": 7,
   "id": "formed-effect",
   "metadata": {},
   "outputs": [
    {
     "name": "stdout",
     "output_type": "stream",
     "text": [
      "Popping a\n"
     ]
    },
    {
     "data": {
      "text/plain": [
       "deque([])"
      ]
     },
     "execution_count": 7,
     "metadata": {},
     "output_type": "execute_result"
    }
   ],
   "source": [
    "print(\"Popping\", stack.pop())\n",
    "stack"
   ]
  },
  {
   "cell_type": "code",
   "execution_count": 8,
   "id": "extreme-giant",
   "metadata": {},
   "outputs": [
    {
     "ename": "IndexError",
     "evalue": "pop from an empty deque",
     "output_type": "error",
     "traceback": [
      "\u001b[0;31m---------------------------------------------------------------------------\u001b[0m",
      "\u001b[0;31mIndexError\u001b[0m                                Traceback (most recent call last)",
      "\u001b[0;32m<ipython-input-8-430743ab0b25>\u001b[0m in \u001b[0;36m<module>\u001b[0;34m\u001b[0m\n\u001b[0;32m----> 1\u001b[0;31m \u001b[0mprint\u001b[0m\u001b[0;34m(\u001b[0m\u001b[0;34m\"Popping\"\u001b[0m\u001b[0;34m,\u001b[0m \u001b[0mstack\u001b[0m\u001b[0;34m.\u001b[0m\u001b[0mpop\u001b[0m\u001b[0;34m(\u001b[0m\u001b[0;34m)\u001b[0m\u001b[0;34m)\u001b[0m\u001b[0;34m\u001b[0m\u001b[0;34m\u001b[0m\u001b[0m\n\u001b[0m\u001b[1;32m      2\u001b[0m \u001b[0mstack\u001b[0m\u001b[0;34m\u001b[0m\u001b[0;34m\u001b[0m\u001b[0m\n",
      "\u001b[0;32m<ipython-input-2-50885ebaff4b>\u001b[0m in \u001b[0;36mpop\u001b[0;34m(self)\u001b[0m\n\u001b[1;32m      7\u001b[0m \u001b[0;34m\u001b[0m\u001b[0m\n\u001b[1;32m      8\u001b[0m     \u001b[0;32mdef\u001b[0m \u001b[0mpop\u001b[0m\u001b[0;34m(\u001b[0m\u001b[0mself\u001b[0m\u001b[0;34m)\u001b[0m\u001b[0;34m:\u001b[0m\u001b[0;34m\u001b[0m\u001b[0;34m\u001b[0m\u001b[0m\n\u001b[0;32m----> 9\u001b[0;31m         \u001b[0;32mreturn\u001b[0m \u001b[0mself\u001b[0m\u001b[0;34m.\u001b[0m\u001b[0mcontainer\u001b[0m\u001b[0;34m.\u001b[0m\u001b[0mpop\u001b[0m\u001b[0;34m(\u001b[0m\u001b[0;34m)\u001b[0m\u001b[0;34m\u001b[0m\u001b[0;34m\u001b[0m\u001b[0m\n\u001b[0m\u001b[1;32m     10\u001b[0m \u001b[0;34m\u001b[0m\u001b[0m\n\u001b[1;32m     11\u001b[0m     \u001b[0;32mdef\u001b[0m \u001b[0mpush\u001b[0m\u001b[0;34m(\u001b[0m\u001b[0mself\u001b[0m\u001b[0;34m,\u001b[0m \u001b[0mval\u001b[0m\u001b[0;34m)\u001b[0m\u001b[0;34m:\u001b[0m\u001b[0;34m\u001b[0m\u001b[0;34m\u001b[0m\u001b[0m\n",
      "\u001b[0;31mIndexError\u001b[0m: pop from an empty deque"
     ]
    }
   ],
   "source": [
    "print(\"Popping\", stack.pop())\n",
    "stack"
   ]
  },
  {
   "cell_type": "markdown",
   "id": "canadian-charlotte",
   "metadata": {},
   "source": [
    "### Application 1: Reversing Strings/Arrays"
   ]
  },
  {
   "cell_type": "code",
   "execution_count": 9,
   "id": "overall-affair",
   "metadata": {},
   "outputs": [],
   "source": [
    "string = \"My name\"\n",
    "\n",
    "\n",
    "stck = Stack()\n",
    "\n",
    "for i in string:\n",
    "    stck.push(i)"
   ]
  },
  {
   "cell_type": "code",
   "execution_count": 10,
   "id": "cognitive-objective",
   "metadata": {},
   "outputs": [
    {
     "data": {
      "text/plain": [
       "deque(['M', 'y', ' ', 'n', 'a', 'm', 'e'])"
      ]
     },
     "execution_count": 10,
     "metadata": {},
     "output_type": "execute_result"
    }
   ],
   "source": [
    "stck"
   ]
  },
  {
   "cell_type": "code",
   "execution_count": 11,
   "id": "fourth-section",
   "metadata": {},
   "outputs": [
    {
     "name": "stdout",
     "output_type": "stream",
     "text": [
      "e\n",
      "m\n",
      "a\n",
      "n\n",
      " \n",
      "y\n",
      "M\n"
     ]
    }
   ],
   "source": [
    "for i in range(len(string)): \n",
    "    print(stck.pop())"
   ]
  },
  {
   "cell_type": "code",
   "execution_count": null,
   "id": "crucial-dakota",
   "metadata": {},
   "outputs": [],
   "source": [
    "a = deque()"
   ]
  },
  {
   "cell_type": "code",
   "execution_count": null,
   "id": "political-postcard",
   "metadata": {},
   "outputs": [],
   "source": [
    "a.append(1)\n",
    "a"
   ]
  },
  {
   "cell_type": "code",
   "execution_count": null,
   "id": "wanted-federal",
   "metadata": {},
   "outputs": [],
   "source": [
    "a.append(9)\n",
    "a"
   ]
  },
  {
   "cell_type": "code",
   "execution_count": null,
   "id": "surrounded-grammar",
   "metadata": {},
   "outputs": [],
   "source": [
    "val_ = a.pop()"
   ]
  },
  {
   "cell_type": "markdown",
   "id": "controlled-dispute",
   "metadata": {},
   "source": [
    "### Application 2: Checking for balanced characters"
   ]
  },
  {
   "cell_type": "code",
   "execution_count": 22,
   "id": "documentary-spanking",
   "metadata": {},
   "outputs": [
    {
     "data": {
      "text/plain": [
       "True"
      ]
     },
     "execution_count": 22,
     "metadata": {},
     "output_type": "execute_result"
    }
   ],
   "source": [
    "\"(a (+ b)\"\n",
    "\n",
    "\n",
    "\n",
    "def check_balance(string: str) -> bool:\n",
    "    \n",
    "    bracket_stack = Stack()\n",
    "    \n",
    "    for char in string:\n",
    "        if char == \"(\":\n",
    "            bracket_stack.push(char)\n",
    "        elif char == \")\":\n",
    "            if  bracket_stack.is_empty():\n",
    "                is_balance = False\n",
    "                return is_balance\n",
    "    \n",
    "            bracket_stack.pop()\n",
    "       \n",
    "    return bracket_stack.is_empty()\n",
    "\n",
    "\n",
    "check_balance(\"((a(+b)))\")"
   ]
  },
  {
   "cell_type": "code",
   "execution_count": null,
   "id": "formal-performance",
   "metadata": {},
   "outputs": [],
   "source": [
    "\n",
    "\n"
   ]
  },
  {
   "cell_type": "code",
   "execution_count": null,
   "id": "accessory-cincinnati",
   "metadata": {},
   "outputs": [],
   "source": []
  },
  {
   "cell_type": "code",
   "execution_count": null,
   "id": "sonic-mediterranean",
   "metadata": {},
   "outputs": [],
   "source": []
  },
  {
   "cell_type": "code",
   "execution_count": null,
   "id": "moved-cambodia",
   "metadata": {},
   "outputs": [],
   "source": []
  },
  {
   "cell_type": "code",
   "execution_count": null,
   "id": "comparative-imperial",
   "metadata": {},
   "outputs": [],
   "source": []
  },
  {
   "cell_type": "code",
   "execution_count": null,
   "id": "hungry-criminal",
   "metadata": {},
   "outputs": [],
   "source": []
  },
  {
   "cell_type": "markdown",
   "id": "finite-parish",
   "metadata": {},
   "source": [
    "# Queue"
   ]
  },
  {
   "cell_type": "code",
   "execution_count": null,
   "id": "derived-criterion",
   "metadata": {},
   "outputs": [],
   "source": [
    "# Let's add thing to a stack\n",
    "\n",
    "# Reversing, checking for balances\n",
    "\n",
    "#    \n",
    "# []\n",
    "\n",
    "# in ---v      v--- out\n",
    "#       : [  ] :\n",
    "\n",
    "\n",
    "# to enqueue \"a\"\n",
    "\n",
    "#  \"a\" -> :[  ] \n",
    "\n",
    "# [a]\n",
    "\n",
    "\n",
    "# to enqueue \"b\"\n",
    "\n",
    "# \"b\" -> :[ ,a]\n",
    "\n",
    "# [b, a]\n",
    "\n",
    "\n",
    "\n",
    "# to enqueue \"c\"\n",
    "\n",
    "#  \"c\" -> :[ , b, a]\n",
    "\n",
    "# [c, b, a]\n",
    "\n",
    "\n",
    "\n",
    "# -------------------\n",
    "\n",
    "\n",
    "\n",
    "# to peek\n",
    "\n",
    "# [c, b, a] \n",
    "#        ^---- peek     \n",
    "\n",
    "\n",
    "\n",
    "\n",
    "# -------------------\n",
    "\n",
    "\n",
    "\n",
    "\n",
    "# to pop\n",
    "\n",
    "# queue.pop()\n",
    "\n",
    "# [c, b,     :----> \"a\"\n",
    "\n",
    "# [c, b]           \n",
    "\n",
    "\n",
    "# stack.pop()\n",
    "\n",
    "# [c,      :----> \"b\"\n",
    "\n",
    "# [c]           \n",
    "\n",
    "\n",
    "# First In Fist Out (FIFO)"
   ]
  },
  {
   "cell_type": "code",
   "execution_count": 24,
   "id": "grave-liberty",
   "metadata": {},
   "outputs": [],
   "source": [
    "class Queue:\n",
    "    \n",
    "    def __init__(self):\n",
    "        self.container = deque()\n",
    "        \n",
    "    def de_q(self):\n",
    "        \"\"\"dequeue\"\"\"\n",
    "        return self.container.pop()\n",
    "    \n",
    "    def en_q(self, val):\n",
    "        \"\"\"enqueue\"\"\"\n",
    "        return self.container.appendleft(val)\n",
    "    \n",
    "    def peek(self):    \n",
    "        return self.container[-1]\n",
    "\n",
    "    def is_empty(self):\n",
    "        return len(self.container) == 0\n",
    "    \n",
    "    def __repr__(self):\n",
    "        return self.container.__repr__()\n",
    "    "
   ]
  },
  {
   "cell_type": "code",
   "execution_count": 25,
   "id": "therapeutic-booth",
   "metadata": {},
   "outputs": [
    {
     "data": {
      "text/plain": [
       "deque([])"
      ]
     },
     "execution_count": 25,
     "metadata": {},
     "output_type": "execute_result"
    }
   ],
   "source": [
    "q = Queue()\n",
    "q"
   ]
  },
  {
   "cell_type": "code",
   "execution_count": 26,
   "id": "fleet-chambers",
   "metadata": {},
   "outputs": [
    {
     "data": {
      "text/plain": [
       "deque([6, 5, 3, 1])"
      ]
     },
     "execution_count": 26,
     "metadata": {},
     "output_type": "execute_result"
    }
   ],
   "source": [
    "q.en_q(1)\n",
    "q.en_q(3)\n",
    "q.en_q(5)\n",
    "q.en_q(6)\n",
    "q"
   ]
  },
  {
   "cell_type": "code",
   "execution_count": null,
   "id": "subtle-situation",
   "metadata": {},
   "outputs": [],
   "source": [
    "[1, 2, 5, 6]\n",
    "L = 3\n",
    "\n",
    "[1, 2, 4]\n",
    "\n",
    "\n",
    "\n"
   ]
  },
  {
   "cell_type": "markdown",
   "id": "banner-stage",
   "metadata": {},
   "source": [
    "# Moving Sum - Sliding Window"
   ]
  },
  {
   "cell_type": "code",
   "execution_count": 27,
   "id": "embedded-inquiry",
   "metadata": {},
   "outputs": [],
   "source": [
    "class FixedQueue:\n",
    "    \n",
    "    def __init__(self, size: int):\n",
    "        self.container = deque()\n",
    "        self.size = size\n",
    "        \n",
    "    def de_q(self):\n",
    "        return self.container.pop()\n",
    "    \n",
    "    def en_q(self, val):\n",
    "        \"\"\"enqueue\"\"\"\n",
    "        if self.is_full():\n",
    "            sum_ = sum(self.container)\n",
    "            self.de_q()\n",
    "            print(sum_)\n",
    "        return self.container.appendleft(val)\n",
    "    \n",
    "    def peek(self):\n",
    "        \"\"\"dequeue\"\"\"\n",
    "        return self.container[-1]\n",
    "\n",
    "    def is_empty(self):\n",
    "        return len(self.container) == 0\n",
    "    \n",
    "    def __repr__(self):\n",
    "        return self.container.__repr__()\n",
    "    \n",
    "    def is_full(self) -> bool:\n",
    "        return len(self.container) == self.size\n"
   ]
  },
  {
   "cell_type": "code",
   "execution_count": 29,
   "id": "appropriate-investigator",
   "metadata": {},
   "outputs": [
    {
     "data": {
      "text/plain": [
       "deque([])"
      ]
     },
     "execution_count": 29,
     "metadata": {},
     "output_type": "execute_result"
    }
   ],
   "source": [
    "fq = FixedQueue(size=3)\n",
    "fq"
   ]
  },
  {
   "cell_type": "code",
   "execution_count": 30,
   "id": "vital-appliance",
   "metadata": {},
   "outputs": [
    {
     "name": "stdout",
     "output_type": "stream",
     "text": [
      "6\n",
      "9\n"
     ]
    }
   ],
   "source": [
    "for i in [1, 2, 3, 4, 5]:\n",
    "    fq.en_q(i)"
   ]
  },
  {
   "cell_type": "code",
   "execution_count": 33,
   "id": "apparent-relation",
   "metadata": {},
   "outputs": [
    {
     "data": {
      "text/plain": [
       "deque([5, 4, 3])"
      ]
     },
     "execution_count": 33,
     "metadata": {},
     "output_type": "execute_result"
    }
   ],
   "source": [
    "fq"
   ]
  },
  {
   "cell_type": "code",
   "execution_count": null,
   "id": "formal-westminster",
   "metadata": {},
   "outputs": [],
   "source": []
  },
  {
   "cell_type": "code",
   "execution_count": null,
   "id": "coordinated-answer",
   "metadata": {},
   "outputs": [],
   "source": []
  },
  {
   "cell_type": "code",
   "execution_count": null,
   "id": "persistent-scholar",
   "metadata": {},
   "outputs": [],
   "source": []
  },
  {
   "cell_type": "code",
   "execution_count": null,
   "id": "confident-terrain",
   "metadata": {},
   "outputs": [],
   "source": [
    "\n"
   ]
  },
  {
   "cell_type": "code",
   "execution_count": null,
   "id": "blank-worthy",
   "metadata": {},
   "outputs": [],
   "source": []
  }
 ],
 "metadata": {
  "kernelspec": {
   "display_name": "Python 3",
   "language": "python",
   "name": "python3"
  },
  "language_info": {
   "codemirror_mode": {
    "name": "ipython",
    "version": 3
   },
   "file_extension": ".py",
   "mimetype": "text/x-python",
   "name": "python",
   "nbconvert_exporter": "python",
   "pygments_lexer": "ipython3",
   "version": "3.7.9"
  }
 },
 "nbformat": 4,
 "nbformat_minor": 5
}
