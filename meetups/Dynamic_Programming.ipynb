{
 "cells": [
  {
   "cell_type": "markdown",
   "id": "overall-tattoo",
   "metadata": {},
   "source": [
    "# Dynamic Programming \n",
    "\n",
    "### Conditions:\n",
    "\n",
    "Solve problems by:\n",
    "- Using sub-problems \n",
    "- Re-use the solutions to sub-problems \n",
    "\n",
    "### Problem 1: Fibonacci Series \n",
    "#### Recap Recursive + Memoisation"
   ]
  },
  {
   "cell_type": "code",
   "execution_count": 20,
   "id": "level-profession",
   "metadata": {},
   "outputs": [
    {
     "data": {
      "application/javascript": [
       "\n",
       "            setTimeout(function() {\n",
       "                var nbb_cell_id = 20;\n",
       "                var nbb_unformatted_code = \"%load_ext nb_black\";\n",
       "                var nbb_formatted_code = \"%load_ext nb_black\";\n",
       "                var nbb_cells = Jupyter.notebook.get_cells();\n",
       "                for (var i = 0; i < nbb_cells.length; ++i) {\n",
       "                    if (nbb_cells[i].input_prompt_number == nbb_cell_id) {\n",
       "                        if (nbb_cells[i].get_text() == nbb_unformatted_code) {\n",
       "                             nbb_cells[i].set_text(nbb_formatted_code);\n",
       "                        }\n",
       "                        break;\n",
       "                    }\n",
       "                }\n",
       "            }, 500);\n",
       "            "
      ],
      "text/plain": [
       "<IPython.core.display.Javascript object>"
      ]
     },
     "metadata": {},
     "output_type": "display_data"
    }
   ],
   "source": [
    "%load_ext nb_black"
   ]
  },
  {
   "cell_type": "code",
   "execution_count": 46,
   "id": "continental-chemistry",
   "metadata": {},
   "outputs": [
    {
     "data": {
      "text/plain": [
       "5"
      ]
     },
     "execution_count": 46,
     "metadata": {},
     "output_type": "execute_result"
    },
    {
     "data": {
      "application/javascript": [
       "\n",
       "            setTimeout(function() {\n",
       "                var nbb_cell_id = 46;\n",
       "                var nbb_unformatted_code = \"# 1,1,2,3,5,8,13,....\\n# fib(n) = fib(n-1) + fib(n-2)\\n\\nmemo = {1: 1, 2: 1}\\n\\n\\ndef fib(n: int, memo: dict):\\n\\n    if n in memo:\\n        return memo[n]\\n    else:\\n        memo[n] = fib(n - 1, memo) + fib(n - 2, memo)\\n        return memo[n]\\n\\n\\nfib(5, memo)\";\n",
       "                var nbb_formatted_code = \"# 1,1,2,3,5,8,13,....\\n# fib(n) = fib(n-1) + fib(n-2)\\n\\nmemo = {1: 1, 2: 1}\\n\\n\\ndef fib(n: int, memo: dict):\\n\\n    if n in memo:\\n        return memo[n]\\n    else:\\n        memo[n] = fib(n - 1, memo) + fib(n - 2, memo)\\n        return memo[n]\\n\\n\\nfib(5, memo)\";\n",
       "                var nbb_cells = Jupyter.notebook.get_cells();\n",
       "                for (var i = 0; i < nbb_cells.length; ++i) {\n",
       "                    if (nbb_cells[i].input_prompt_number == nbb_cell_id) {\n",
       "                        if (nbb_cells[i].get_text() == nbb_unformatted_code) {\n",
       "                             nbb_cells[i].set_text(nbb_formatted_code);\n",
       "                        }\n",
       "                        break;\n",
       "                    }\n",
       "                }\n",
       "            }, 500);\n",
       "            "
      ],
      "text/plain": [
       "<IPython.core.display.Javascript object>"
      ]
     },
     "metadata": {},
     "output_type": "display_data"
    }
   ],
   "source": [
    "# 1,1,2,3,5,8,13,....\n",
    "# fib(n) = fib(n-1) + fib(n-2)\n",
    "\n",
    "memo = {1: 1, 2: 1}\n",
    "\n",
    "\n",
    "def fib(n: int, memo: dict):\n",
    "\n",
    "    if n in memo:\n",
    "        return memo[n]\n",
    "    else:\n",
    "        memo[n] = fib(n - 1, memo) + fib(n - 2, memo)\n",
    "        return memo[n]\n",
    "\n",
    "\n",
    "fib(5, memo)"
   ]
  },
  {
   "cell_type": "code",
   "execution_count": 28,
   "id": "aboriginal-pathology",
   "metadata": {},
   "outputs": [
    {
     "data": {
      "text/plain": [
       "5"
      ]
     },
     "execution_count": 28,
     "metadata": {},
     "output_type": "execute_result"
    },
    {
     "data": {
      "application/javascript": [
       "\n",
       "            setTimeout(function() {\n",
       "                var nbb_cell_id = 28;\n",
       "                var nbb_unformatted_code = \"# Fibonacci Using the bottom-up approach\\n\\n\\ndef fib_bottom_up(n: int):\\n\\n    memo = {1: 1, 2: 1}\\n    for i in range(3, n + 1):\\n        memo[i] = memo[i - 1] + memo[i - 2]\\n\\n    return memo[n]\\n\\n\\nfib_bottom_up(5)\";\n",
       "                var nbb_formatted_code = \"# Fibonacci Using the bottom-up approach\\n\\n\\ndef fib_bottom_up(n: int):\\n\\n    memo = {1: 1, 2: 1}\\n    for i in range(3, n + 1):\\n        memo[i] = memo[i - 1] + memo[i - 2]\\n\\n    return memo[n]\\n\\n\\nfib_bottom_up(5)\";\n",
       "                var nbb_cells = Jupyter.notebook.get_cells();\n",
       "                for (var i = 0; i < nbb_cells.length; ++i) {\n",
       "                    if (nbb_cells[i].input_prompt_number == nbb_cell_id) {\n",
       "                        if (nbb_cells[i].get_text() == nbb_unformatted_code) {\n",
       "                             nbb_cells[i].set_text(nbb_formatted_code);\n",
       "                        }\n",
       "                        break;\n",
       "                    }\n",
       "                }\n",
       "            }, 500);\n",
       "            "
      ],
      "text/plain": [
       "<IPython.core.display.Javascript object>"
      ]
     },
     "metadata": {},
     "output_type": "display_data"
    }
   ],
   "source": [
    "# Fibonacci Using the bottom-up approach\n",
    "# 1,1,2,3,5,8,13,....c\n",
    "fib(10)\n",
    "\n",
    "def fib_bottom_up(n: int):\n",
    "    memo = {1: 1, 2: 1}\n",
    "    for i in range(3, n + 1):\n",
    "        memo[i] = memo[i - 1] + memo[i - 2]\n",
    "\n",
    "    return memo[n]\n",
    "\n",
    "fib_bottom_up(5)"
   ]
  },
  {
   "cell_type": "markdown",
   "id": "cardiovascular-merchant",
   "metadata": {},
   "source": [
    "### Problem 2: How many ways to get to step 8 if you can take 1, 3, or 5 steps?\n",
    "\n",
    "#### Useful concepts about Python Dictionaries"
   ]
  },
  {
   "cell_type": "code",
   "execution_count": 29,
   "id": "fantastic-stack",
   "metadata": {},
   "outputs": [
    {
     "data": {
      "text/plain": [
       "{0: 0, 1: 1, 2: 4, 3: 9, 4: 16}"
      ]
     },
     "execution_count": 29,
     "metadata": {},
     "output_type": "execute_result"
    },
    {
     "data": {
      "application/javascript": [
       "\n",
       "            setTimeout(function() {\n",
       "                var nbb_cell_id = 29;\n",
       "                var nbb_unformatted_code = \"eg_dict = {i:i**2 for i in range(5)} \\n\\neg_dict\";\n",
       "                var nbb_formatted_code = \"eg_dict = {i: i ** 2 for i in range(5)}\\n\\neg_dict\";\n",
       "                var nbb_cells = Jupyter.notebook.get_cells();\n",
       "                for (var i = 0; i < nbb_cells.length; ++i) {\n",
       "                    if (nbb_cells[i].input_prompt_number == nbb_cell_id) {\n",
       "                        if (nbb_cells[i].get_text() == nbb_unformatted_code) {\n",
       "                             nbb_cells[i].set_text(nbb_formatted_code);\n",
       "                        }\n",
       "                        break;\n",
       "                    }\n",
       "                }\n",
       "            }, 500);\n",
       "            "
      ],
      "text/plain": [
       "<IPython.core.display.Javascript object>"
      ]
     },
     "metadata": {},
     "output_type": "display_data"
    }
   ],
   "source": [
    "eg_dict = {i: i ** 2 for i in range(5)}\n",
    "\n",
    "eg_dict"
   ]
  },
  {
   "cell_type": "code",
   "execution_count": 52,
   "id": "fewer-clerk",
   "metadata": {},
   "outputs": [
    {
     "name": "stdout",
     "output_type": "stream",
     "text": [
      "9\n"
     ]
    },
    {
     "data": {
      "application/javascript": [
       "\n",
       "            setTimeout(function() {\n",
       "                var nbb_cell_id = 52;\n",
       "                var nbb_unformatted_code = \"# Using the .get method\\n# print(eg_dict[5])\\n# print(eg_dict.get(5, None))\\n\\n\\nprint(eg_dict.get(3, -1))\";\n",
       "                var nbb_formatted_code = \"# Using the .get method\\n# print(eg_dict[5])\\n# print(eg_dict.get(5, None))\\n\\n\\nprint(eg_dict.get(3, -1))\";\n",
       "                var nbb_cells = Jupyter.notebook.get_cells();\n",
       "                for (var i = 0; i < nbb_cells.length; ++i) {\n",
       "                    if (nbb_cells[i].input_prompt_number == nbb_cell_id) {\n",
       "                        if (nbb_cells[i].get_text() == nbb_unformatted_code) {\n",
       "                             nbb_cells[i].set_text(nbb_formatted_code);\n",
       "                        }\n",
       "                        break;\n",
       "                    }\n",
       "                }\n",
       "            }, 500);\n",
       "            "
      ],
      "text/plain": [
       "<IPython.core.display.Javascript object>"
      ]
     },
     "metadata": {},
     "output_type": "display_data"
    }
   ],
   "source": [
    "# Using the .get method\n",
    "# print(eg_dict[5])\n",
    "# print(eg_dict.get(5, None))\n",
    "\n",
    "print(eg_dict.get(3, -1))"
   ]
  },
  {
   "cell_type": "code",
   "execution_count": 38,
   "id": "sudden-verification",
   "metadata": {},
   "outputs": [
    {
     "name": "stdout",
     "output_type": "stream",
     "text": [
      "1 1\n",
      "2 1\n",
      "3 2\n",
      "4 3\n",
      "5 5\n",
      "6 8\n",
      "7 12\n",
      "8 19\n"
     ]
    },
    {
     "data": {
      "application/javascript": [
       "\n",
       "            setTimeout(function() {\n",
       "                var nbb_cell_id = 38;\n",
       "                var nbb_unformatted_code = \"# How many ways to get to step 8 if you can take 1, 3, or 5 steps\\n#\\nn = 8\\n\\n#            --\\n#         --\\n#       --\\n#    --\\n#  --\\n\\n\\n\\n# Key: Think About it from the end\\n\\n# If you were at step 8,\\n# How many ways can you get to step 8\\n# You could take 1 step from step 7\\n# You could take 3 steps from step 5\\n# You could take 5 steps from step 3\\n\\n# How many ways can you get to step 7\\n# .....\\n\\n# ways(8) = ways(7) + ways(5) + ways(3)\\n# ways(n) = ways(n - opt1) + ways(n - opt2) + ways(n - opt3)\\n\\n\\n# Problem is how about ways(3) = ways(2) + ways(0) + ways(-2)\\n\\nways = {}\\nways[0] = 1\\n\\nfor i in range(1, n + 1):\\n    ways[i] = ways.get(i - 1, 0) + ways.get(i - 3, 0) + ways.get(i - 5, 0)\\n    print(i, ways[i])\";\n",
       "                var nbb_formatted_code = \"# How many ways to get to step 8 if you can take 1, 3, or 5 steps\\n#\\nn = 8\\n\\n#            --\\n#         --\\n#       --\\n#    --\\n#  --\\n\\n\\n# Key: Think About it from the end\\n\\n# If you were at step 8,\\n# How many ways can you get to step 8\\n# You could take 1 step from step 7\\n# You could take 3 steps from step 5\\n# You could take 5 steps from step 3\\n\\n# How many ways can you get to step 7\\n# .....\\n\\n# ways(8) = ways(7) + ways(5) + ways(3)\\n# ways(n) = ways(n - opt1) + ways(n - opt2) + ways(n - opt3)\\n\\n\\n# Problem is how about ways(3) = ways(2) + ways(0) + ways(-2)\\n\\nways = {}\\nways[0] = 1\\n\\nfor i in range(1, n + 1):\\n    ways[i] = ways.get(i - 1, 0) + ways.get(i - 3, 0) + ways.get(i - 5, 0)\\n    print(i, ways[i])\";\n",
       "                var nbb_cells = Jupyter.notebook.get_cells();\n",
       "                for (var i = 0; i < nbb_cells.length; ++i) {\n",
       "                    if (nbb_cells[i].input_prompt_number == nbb_cell_id) {\n",
       "                        if (nbb_cells[i].get_text() == nbb_unformatted_code) {\n",
       "                             nbb_cells[i].set_text(nbb_formatted_code);\n",
       "                        }\n",
       "                        break;\n",
       "                    }\n",
       "                }\n",
       "            }, 500);\n",
       "            "
      ],
      "text/plain": [
       "<IPython.core.display.Javascript object>"
      ]
     },
     "metadata": {},
     "output_type": "display_data"
    }
   ],
   "source": [
    "# How many ways to get to step 8 if you can take 1, 3, or 5 steps\n",
    "#\n",
    "n = 8\n",
    "\n",
    "#            --\n",
    "#         --\n",
    "#       --\n",
    "#    --\n",
    "#  --\n",
    "\n",
    "\n",
    "# Key: Think About it from the end\n",
    "\n",
    "# If you were at step 8,\n",
    "# How many ways can you get to step 8\n",
    "# You could take 1 step from step 7\n",
    "# You could take 3 steps from step 5\n",
    "# You could take 5 steps from step 3\n",
    "\n",
    "# How many ways can you get to step 7\n",
    "# .....\n",
    "\n",
    "# ways(8) = ways(7) + ways(5) + ways(3)\n",
    "# ways(n) = ways(n - opt1) + ways(n - opt2) + ways(n - opt3)\n",
    "\n",
    "\n",
    "# Problem is how about ways(3) = ways(2) + ways(0) + ways(-2)\n",
    "\n",
    "ways = {}\n",
    "ways[0] = 1\n",
    "\n",
    "for i in range(1, n + 1):\n",
    "    ways[i] = ways.get(i - 1, 0) + ways.get(i - 3, 0) + ways.get(i - 5, 0)\n",
    "    print(i, ways[i])"
   ]
  },
  {
   "cell_type": "markdown",
   "id": "integrated-secret",
   "metadata": {},
   "source": [
    "### Problem 3: How many ways can you get to $\\$30$ if you had $\\$1$, $\\$5$, $\\$10$  notes? "
   ]
  },
  {
   "cell_type": "code",
   "execution_count": 42,
   "id": "difficult-bolivia",
   "metadata": {},
   "outputs": [
    {
     "name": "stdout",
     "output_type": "stream",
     "text": [
      "1 1\n",
      "2 1\n",
      "3 1\n",
      "4 1\n",
      "5 2\n",
      "6 3\n",
      "7 4\n",
      "8 5\n",
      "9 6\n",
      "10 9\n",
      "11 13\n",
      "12 18\n",
      "13 24\n",
      "14 31\n",
      "15 42\n",
      "16 58\n",
      "17 80\n",
      "18 109\n",
      "19 146\n",
      "20 197\n",
      "21 268\n",
      "22 366\n",
      "23 499\n",
      "24 676\n",
      "25 915\n",
      "26 1241\n",
      "27 1687\n",
      "28 2295\n",
      "29 3117\n",
      "30 4229\n"
     ]
    },
    {
     "data": {
      "application/javascript": [
       "\n",
       "            setTimeout(function() {\n",
       "                var nbb_cell_id = 42;\n",
       "                var nbb_unformatted_code = \"n = 30\\n\\nsteps = [1, 5, 10]\\n\\n\\n\\nways = {}\\nways[0] = 1\\n\\n\\nfor i in range(1, n+1):\\n    ways[i] = ways.get(i-1, 0) + ways.get(i-5, 0) + ways.get(i-10, 0)\\n    print(i, ways[i])\";\n",
       "                var nbb_formatted_code = \"n = 30\\n\\nsteps = [1, 5, 10]\\n\\n\\nways = {}\\nways[0] = 1\\n\\n\\nfor i in range(1, n + 1):\\n    ways[i] = ways.get(i - 1, 0) + ways.get(i - 5, 0) + ways.get(i - 10, 0)\\n    print(i, ways[i])\";\n",
       "                var nbb_cells = Jupyter.notebook.get_cells();\n",
       "                for (var i = 0; i < nbb_cells.length; ++i) {\n",
       "                    if (nbb_cells[i].input_prompt_number == nbb_cell_id) {\n",
       "                        if (nbb_cells[i].get_text() == nbb_unformatted_code) {\n",
       "                             nbb_cells[i].set_text(nbb_formatted_code);\n",
       "                        }\n",
       "                        break;\n",
       "                    }\n",
       "                }\n",
       "            }, 500);\n",
       "            "
      ],
      "text/plain": [
       "<IPython.core.display.Javascript object>"
      ]
     },
     "metadata": {},
     "output_type": "display_data"
    }
   ],
   "source": [
    "n = 30\n",
    "\n",
    "steps = [1, 5, 10]\n",
    "\n",
    "\n",
    "ways = {}\n",
    "ways[0] = 1\n",
    "\n",
    "\n",
    "for i in range(1, n + 1):\n",
    "    ways[i] = ways.get(i - 1, 0) + ways.get(i - 5, 0) + ways.get(i - 10, 0)\n",
    "    print(i, ways[i])"
   ]
  },
  {
   "cell_type": "code",
   "execution_count": null,
   "id": "executive-sequence",
   "metadata": {},
   "outputs": [],
   "source": [
    "fucn[func[array], fucn[array2]]"
   ]
  }
 ],
 "metadata": {
  "kernelspec": {
   "display_name": "Python 3",
   "language": "python",
   "name": "python3"
  },
  "language_info": {
   "codemirror_mode": {
    "name": "ipython",
    "version": 3
   },
   "file_extension": ".py",
   "mimetype": "text/x-python",
   "name": "python",
   "nbconvert_exporter": "python",
   "pygments_lexer": "ipython3",
   "version": "3.7.9"
  }
 },
 "nbformat": 4,
 "nbformat_minor": 5
}
