{
 "cells": [
  {
   "cell_type": "code",
   "execution_count": 1,
   "id": "constitutional-reggae",
   "metadata": {},
   "outputs": [
    {
     "data": {
      "application/javascript": [
       "\n",
       "            setTimeout(function() {\n",
       "                var nbb_cell_id = 1;\n",
       "                var nbb_unformatted_code = \"%load_ext nb_black\";\n",
       "                var nbb_formatted_code = \"%load_ext nb_black\";\n",
       "                var nbb_cells = Jupyter.notebook.get_cells();\n",
       "                for (var i = 0; i < nbb_cells.length; ++i) {\n",
       "                    if (nbb_cells[i].input_prompt_number == nbb_cell_id) {\n",
       "                        if (nbb_cells[i].get_text() == nbb_unformatted_code) {\n",
       "                             nbb_cells[i].set_text(nbb_formatted_code);\n",
       "                        }\n",
       "                        break;\n",
       "                    }\n",
       "                }\n",
       "            }, 500);\n",
       "            "
      ],
      "text/plain": [
       "<IPython.core.display.Javascript object>"
      ]
     },
     "metadata": {},
     "output_type": "display_data"
    }
   ],
   "source": [
    "%load_ext nb_black"
   ]
  },
  {
   "cell_type": "markdown",
   "id": "raised-numbers",
   "metadata": {},
   "source": [
    "# Hash Tables and Hash Functions\n",
    "\n",
    "### tldr: We're building a Python dictionary from scratch using lists"
   ]
  },
  {
   "cell_type": "code",
   "execution_count": null,
   "id": "associate-strength",
   "metadata": {},
   "outputs": [],
   "source": [
    "Key Concepts:\n",
    "    \n",
    "    1. Hash Table / Hash Map <=> Dictionary\n",
    "    2. Why use it => Fast Lookup O(1)\n",
    "        - Application: Lookup\n",
    "    3. Key idea is why are array lookups fast arr[0], arr[1]?\n",
    "    4. Use Hash Functions (convert strings -> numbers)\n",
    "        * Deterministic\n",
    "        * Evenly distributed \n",
    "        * Use all the characters\n",
    "        * (Opt) Unique Mapping \n",
    "        * ASCII representation, mod\n",
    "    5. Collisions\n"
   ]
  },
  {
   "cell_type": "code",
   "execution_count": null,
   "id": "twenty-cartridge",
   "metadata": {},
   "outputs": [],
   "source": [
    "# f(apple) = 5\n",
    "# f(orange) = 10\n",
    "# f(apple) == f(app) \n",
    "\n",
    "\n",
    "# [, , , , , , ]\n",
    "\n",
    "# {\n",
    "\n",
    "\"apple\": 10, --> idx 1\n",
    "\"orange\": -5,  --> idx 5\n",
    "\"grapes\": 0, --> idx 0\n",
    "    \n",
    "    \n",
    "# }\n",
    "\n",
    "\n",
    "f(\"abba\") = 6\n",
    "# 26 a -> 1, b -> 2, .....\n",
    "\n",
    "1 + 2 + 2 + 1 = 6\n",
    "f(\"f\") = 6\n",
    "\n",
    "# pie == eip == iep = \n",
    "[]"
   ]
  },
  {
   "cell_type": "code",
   "execution_count": 10,
   "id": "special-mattress",
   "metadata": {},
   "outputs": [
    {
     "data": {
      "text/plain": [
       "2"
      ]
     },
     "execution_count": 10,
     "metadata": {},
     "output_type": "execute_result"
    },
    {
     "data": {
      "application/javascript": [
       "\n",
       "            setTimeout(function() {\n",
       "                var nbb_cell_id = 10;\n",
       "                var nbb_unformatted_code = \"# print(\\\"The ASCII value of b is\\\", ord(\\\"b\\\"))\\n# for char in \\\"abba\\\":\\n#     print(char, ord(char))\\n\\n\\n7 % 5\";\n",
       "                var nbb_formatted_code = \"# print(\\\"The ASCII value of b is\\\", ord(\\\"b\\\"))\\n# for char in \\\"abba\\\":\\n#     print(char, ord(char))\\n\\n\\n7 % 5\";\n",
       "                var nbb_cells = Jupyter.notebook.get_cells();\n",
       "                for (var i = 0; i < nbb_cells.length; ++i) {\n",
       "                    if (nbb_cells[i].input_prompt_number == nbb_cell_id) {\n",
       "                        if (nbb_cells[i].get_text() == nbb_unformatted_code) {\n",
       "                             nbb_cells[i].set_text(nbb_formatted_code);\n",
       "                        }\n",
       "                        break;\n",
       "                    }\n",
       "                }\n",
       "            }, 500);\n",
       "            "
      ],
      "text/plain": [
       "<IPython.core.display.Javascript object>"
      ]
     },
     "metadata": {},
     "output_type": "display_data"
    }
   ],
   "source": [
    "# print(\"The ASCII value of b is\", ord(\"b\"))\n",
    "for char in \"abba\":\n",
    "    print(char, ord(char))\n",
    "\n",
    "\n",
    ".put(\"key\", 10)"
   ]
  },
  {
   "cell_type": "code",
   "execution_count": 14,
   "id": "union-valuation",
   "metadata": {},
   "outputs": [
    {
     "data": {
      "application/javascript": [
       "\n",
       "            setTimeout(function() {\n",
       "                var nbb_cell_id = 14;\n",
       "                var nbb_unformatted_code = \"class HashTable:\\n    def __init__(self, size_array: int = 10):\\n        self.size_array = size_array\\n        self.arr = [None for i in range(size_array)]\\n\\n    def calc_hash(self, key: str) -> int:\\n        h = 0\\n        for char in key:\\n            h += ord(char)\\n\\n        h = h % self.size_array\\n        return h\\n    \\n    # Better hash function\\n    \\n    def put(self, key: str, value: int) -> int:\\n        h = self.calc_hash(key)\\n        self.arr[h] = value\\n\\n    def get(self, key: str):\\n        h = self.calc_hash(key)\\n        return self.arr[h]\";\n",
       "                var nbb_formatted_code = \"class HashTable:\\n    def __init__(self, size_array: int = 10):\\n        self.size_array = size_array\\n        self.arr = [None for i in range(size_array)]\\n\\n    def calc_hash(self, key: str) -> int:\\n        h = 0\\n        for char in key:\\n            h += ord(char)\\n\\n        h = h % self.size_array\\n        return h\\n\\n    # Better hash function\\n\\n    def put(self, key: str, value: int) -> int:\\n        h = self.calc_hash(key)\\n        self.arr[h] = value\\n\\n    def get(self, key: str):\\n        h = self.calc_hash(key)\\n        return self.arr[h]\";\n",
       "                var nbb_cells = Jupyter.notebook.get_cells();\n",
       "                for (var i = 0; i < nbb_cells.length; ++i) {\n",
       "                    if (nbb_cells[i].input_prompt_number == nbb_cell_id) {\n",
       "                        if (nbb_cells[i].get_text() == nbb_unformatted_code) {\n",
       "                             nbb_cells[i].set_text(nbb_formatted_code);\n",
       "                        }\n",
       "                        break;\n",
       "                    }\n",
       "                }\n",
       "            }, 500);\n",
       "            "
      ],
      "text/plain": [
       "<IPython.core.display.Javascript object>"
      ]
     },
     "metadata": {},
     "output_type": "display_data"
    }
   ],
   "source": [
    "class HashTable:\n",
    "    def __init__(self, size_array: int = 10):\n",
    "        self.size_array = size_array\n",
    "        self.arr = [None for i in range(size_array)]\n",
    "\n",
    "    def calc_hash(self, key: str) -> int:\n",
    "        h = 0\n",
    "        for char in key:\n",
    "            h += ord(char)\n",
    "\n",
    "        h = h % self.size_array\n",
    "        return h\n",
    "\n",
    "    # Better hash function\n",
    "\n",
    "    def put(self, key: str, value: int) -> int:\n",
    "        h = self.calc_hash(key)\n",
    "        self.arr[h] = value\n",
    "\n",
    "    def get(self, key: str):\n",
    "        h = self.calc_hash(key)\n",
    "        return self.arr[h]"
   ]
  },
  {
   "cell_type": "code",
   "execution_count": 11,
   "id": "analyzed-sense",
   "metadata": {},
   "outputs": [
    {
     "name": "stdout",
     "output_type": "stream",
     "text": [
      "The ASCII value of B is 98\n"
     ]
    },
    {
     "data": {
      "application/javascript": [
       "\n",
       "            setTimeout(function() {\n",
       "                var nbb_cell_id = 11;\n",
       "                var nbb_unformatted_code = \"print(\\\"The ASCII value of B is\\\", ord(\\\"b\\\"))\";\n",
       "                var nbb_formatted_code = \"print(\\\"The ASCII value of B is\\\", ord(\\\"b\\\"))\";\n",
       "                var nbb_cells = Jupyter.notebook.get_cells();\n",
       "                for (var i = 0; i < nbb_cells.length; ++i) {\n",
       "                    if (nbb_cells[i].input_prompt_number == nbb_cell_id) {\n",
       "                        if (nbb_cells[i].get_text() == nbb_unformatted_code) {\n",
       "                             nbb_cells[i].set_text(nbb_formatted_code);\n",
       "                        }\n",
       "                        break;\n",
       "                    }\n",
       "                }\n",
       "            }, 500);\n",
       "            "
      ],
      "text/plain": [
       "<IPython.core.display.Javascript object>"
      ]
     },
     "metadata": {},
     "output_type": "display_data"
    }
   ],
   "source": [
    "print(\"The ASCII value of B is\", ord(\"b\"))"
   ]
  },
  {
   "cell_type": "code",
   "execution_count": 12,
   "id": "utility-choice",
   "metadata": {},
   "outputs": [
    {
     "name": "stdout",
     "output_type": "stream",
     "text": [
      "Mod 1\n"
     ]
    },
    {
     "data": {
      "application/javascript": [
       "\n",
       "            setTimeout(function() {\n",
       "                var nbb_cell_id = 12;\n",
       "                var nbb_unformatted_code = \"print(\\\"Mod\\\", 11 % 2)\";\n",
       "                var nbb_formatted_code = \"print(\\\"Mod\\\", 11 % 2)\";\n",
       "                var nbb_cells = Jupyter.notebook.get_cells();\n",
       "                for (var i = 0; i < nbb_cells.length; ++i) {\n",
       "                    if (nbb_cells[i].input_prompt_number == nbb_cell_id) {\n",
       "                        if (nbb_cells[i].get_text() == nbb_unformatted_code) {\n",
       "                             nbb_cells[i].set_text(nbb_formatted_code);\n",
       "                        }\n",
       "                        break;\n",
       "                    }\n",
       "                }\n",
       "            }, 500);\n",
       "            "
      ],
      "text/plain": [
       "<IPython.core.display.Javascript object>"
      ]
     },
     "metadata": {},
     "output_type": "display_data"
    }
   ],
   "source": [
    "print(\"Mod\", 11 % 2)"
   ]
  },
  {
   "cell_type": "code",
   "execution_count": 15,
   "id": "standing-multimedia",
   "metadata": {},
   "outputs": [
    {
     "data": {
      "application/javascript": [
       "\n",
       "            setTimeout(function() {\n",
       "                var nbb_cell_id = 15;\n",
       "                var nbb_unformatted_code = \"my_table = HashTable()\";\n",
       "                var nbb_formatted_code = \"my_table = HashTable()\";\n",
       "                var nbb_cells = Jupyter.notebook.get_cells();\n",
       "                for (var i = 0; i < nbb_cells.length; ++i) {\n",
       "                    if (nbb_cells[i].input_prompt_number == nbb_cell_id) {\n",
       "                        if (nbb_cells[i].get_text() == nbb_unformatted_code) {\n",
       "                             nbb_cells[i].set_text(nbb_formatted_code);\n",
       "                        }\n",
       "                        break;\n",
       "                    }\n",
       "                }\n",
       "            }, 500);\n",
       "            "
      ],
      "text/plain": [
       "<IPython.core.display.Javascript object>"
      ]
     },
     "metadata": {},
     "output_type": "display_data"
    }
   ],
   "source": [
    "my_table = HashTable()"
   ]
  },
  {
   "cell_type": "code",
   "execution_count": 16,
   "id": "diagnostic-techno",
   "metadata": {},
   "outputs": [
    {
     "data": {
      "text/plain": [
       "[None, None, None, None, None, None, None, None, None, None]"
      ]
     },
     "execution_count": 16,
     "metadata": {},
     "output_type": "execute_result"
    },
    {
     "data": {
      "application/javascript": [
       "\n",
       "            setTimeout(function() {\n",
       "                var nbb_cell_id = 16;\n",
       "                var nbb_unformatted_code = \"my_table.arr\";\n",
       "                var nbb_formatted_code = \"my_table.arr\";\n",
       "                var nbb_cells = Jupyter.notebook.get_cells();\n",
       "                for (var i = 0; i < nbb_cells.length; ++i) {\n",
       "                    if (nbb_cells[i].input_prompt_number == nbb_cell_id) {\n",
       "                        if (nbb_cells[i].get_text() == nbb_unformatted_code) {\n",
       "                             nbb_cells[i].set_text(nbb_formatted_code);\n",
       "                        }\n",
       "                        break;\n",
       "                    }\n",
       "                }\n",
       "            }, 500);\n",
       "            "
      ],
      "text/plain": [
       "<IPython.core.display.Javascript object>"
      ]
     },
     "metadata": {},
     "output_type": "display_data"
    }
   ],
   "source": [
    "my_table.arr"
   ]
  },
  {
   "cell_type": "code",
   "execution_count": 2,
   "id": "difficult-program",
   "metadata": {},
   "outputs": [
    {
     "data": {
      "application/javascript": [
       "\n",
       "            setTimeout(function() {\n",
       "                var nbb_cell_id = 2;\n",
       "                var nbb_unformatted_code = \"### Better hashing: Polynomial Hashing\\n# hey\\n# ===> h + e*x + y*x^2\";\n",
       "                var nbb_formatted_code = \"### Better hashing: Polynomial Hashing\\n# hey\\n# ===> h + e*x + y*x^2\";\n",
       "                var nbb_cells = Jupyter.notebook.get_cells();\n",
       "                for (var i = 0; i < nbb_cells.length; ++i) {\n",
       "                    if (nbb_cells[i].input_prompt_number == nbb_cell_id) {\n",
       "                        if (nbb_cells[i].get_text() == nbb_unformatted_code) {\n",
       "                             nbb_cells[i].set_text(nbb_formatted_code);\n",
       "                        }\n",
       "                        break;\n",
       "                    }\n",
       "                }\n",
       "            }, 500);\n",
       "            "
      ],
      "text/plain": [
       "<IPython.core.display.Javascript object>"
      ]
     },
     "metadata": {},
     "output_type": "display_data"
    }
   ],
   "source": [
    "{\"key1\": 35}"
   ]
  },
  {
   "cell_type": "code",
   "execution_count": 17,
   "id": "gross-moral",
   "metadata": {},
   "outputs": [
    {
     "data": {
      "application/javascript": [
       "\n",
       "            setTimeout(function() {\n",
       "                var nbb_cell_id = 17;\n",
       "                var nbb_unformatted_code = \"my_table.put(\\\"key1\\\", 35)\";\n",
       "                var nbb_formatted_code = \"my_table.put(\\\"key1\\\", 35)\";\n",
       "                var nbb_cells = Jupyter.notebook.get_cells();\n",
       "                for (var i = 0; i < nbb_cells.length; ++i) {\n",
       "                    if (nbb_cells[i].input_prompt_number == nbb_cell_id) {\n",
       "                        if (nbb_cells[i].get_text() == nbb_unformatted_code) {\n",
       "                             nbb_cells[i].set_text(nbb_formatted_code);\n",
       "                        }\n",
       "                        break;\n",
       "                    }\n",
       "                }\n",
       "            }, 500);\n",
       "            "
      ],
      "text/plain": [
       "<IPython.core.display.Javascript object>"
      ]
     },
     "metadata": {},
     "output_type": "display_data"
    }
   ],
   "source": [
    "my_table.put(\"key1\", 35)"
   ]
  },
  {
   "cell_type": "code",
   "execution_count": 18,
   "id": "offensive-melissa",
   "metadata": {},
   "outputs": [
    {
     "data": {
      "text/plain": [
       "[None, None, None, None, None, None, None, None, 35, None]"
      ]
     },
     "execution_count": 18,
     "metadata": {},
     "output_type": "execute_result"
    },
    {
     "data": {
      "application/javascript": [
       "\n",
       "            setTimeout(function() {\n",
       "                var nbb_cell_id = 18;\n",
       "                var nbb_unformatted_code = \"my_table.arr\";\n",
       "                var nbb_formatted_code = \"my_table.arr\";\n",
       "                var nbb_cells = Jupyter.notebook.get_cells();\n",
       "                for (var i = 0; i < nbb_cells.length; ++i) {\n",
       "                    if (nbb_cells[i].input_prompt_number == nbb_cell_id) {\n",
       "                        if (nbb_cells[i].get_text() == nbb_unformatted_code) {\n",
       "                             nbb_cells[i].set_text(nbb_formatted_code);\n",
       "                        }\n",
       "                        break;\n",
       "                    }\n",
       "                }\n",
       "            }, 500);\n",
       "            "
      ],
      "text/plain": [
       "<IPython.core.display.Javascript object>"
      ]
     },
     "metadata": {},
     "output_type": "display_data"
    }
   ],
   "source": [
    "my_table.arr"
   ]
  },
  {
   "cell_type": "code",
   "execution_count": 25,
   "id": "brave-cameroon",
   "metadata": {},
   "outputs": [
    {
     "data": {
      "application/javascript": [
       "\n",
       "            setTimeout(function() {\n",
       "                var nbb_cell_id = 25;\n",
       "                var nbb_unformatted_code = \"my_table.put(\\\"key03\\\", -1000)\";\n",
       "                var nbb_formatted_code = \"my_table.put(\\\"key03\\\", -1000)\";\n",
       "                var nbb_cells = Jupyter.notebook.get_cells();\n",
       "                for (var i = 0; i < nbb_cells.length; ++i) {\n",
       "                    if (nbb_cells[i].input_prompt_number == nbb_cell_id) {\n",
       "                        if (nbb_cells[i].get_text() == nbb_unformatted_code) {\n",
       "                             nbb_cells[i].set_text(nbb_formatted_code);\n",
       "                        }\n",
       "                        break;\n",
       "                    }\n",
       "                }\n",
       "            }, 500);\n",
       "            "
      ],
      "text/plain": [
       "<IPython.core.display.Javascript object>"
      ]
     },
     "metadata": {},
     "output_type": "display_data"
    }
   ],
   "source": [
    "my_table.put(\"key03\", -1000)"
   ]
  },
  {
   "cell_type": "code",
   "execution_count": 26,
   "id": "intensive-thanksgiving",
   "metadata": {},
   "outputs": [
    {
     "data": {
      "text/plain": [
       "[None, None, None, None, None, None, None, 35, -1000, -75]"
      ]
     },
     "execution_count": 26,
     "metadata": {},
     "output_type": "execute_result"
    },
    {
     "data": {
      "application/javascript": [
       "\n",
       "            setTimeout(function() {\n",
       "                var nbb_cell_id = 26;\n",
       "                var nbb_unformatted_code = \"my_table.arr\";\n",
       "                var nbb_formatted_code = \"my_table.arr\";\n",
       "                var nbb_cells = Jupyter.notebook.get_cells();\n",
       "                for (var i = 0; i < nbb_cells.length; ++i) {\n",
       "                    if (nbb_cells[i].input_prompt_number == nbb_cell_id) {\n",
       "                        if (nbb_cells[i].get_text() == nbb_unformatted_code) {\n",
       "                             nbb_cells[i].set_text(nbb_formatted_code);\n",
       "                        }\n",
       "                        break;\n",
       "                    }\n",
       "                }\n",
       "            }, 500);\n",
       "            "
      ],
      "text/plain": [
       "<IPython.core.display.Javascript object>"
      ]
     },
     "metadata": {},
     "output_type": "display_data"
    }
   ],
   "source": [
    "my_table.arr"
   ]
  },
  {
   "cell_type": "code",
   "execution_count": 19,
   "id": "public-click",
   "metadata": {},
   "outputs": [
    {
     "data": {
      "application/javascript": [
       "\n",
       "            setTimeout(function() {\n",
       "                var nbb_cell_id = 19;\n",
       "                var nbb_unformatted_code = \"my_table.put(\\\"key2\\\", -75)\";\n",
       "                var nbb_formatted_code = \"my_table.put(\\\"key2\\\", -75)\";\n",
       "                var nbb_cells = Jupyter.notebook.get_cells();\n",
       "                for (var i = 0; i < nbb_cells.length; ++i) {\n",
       "                    if (nbb_cells[i].input_prompt_number == nbb_cell_id) {\n",
       "                        if (nbb_cells[i].get_text() == nbb_unformatted_code) {\n",
       "                             nbb_cells[i].set_text(nbb_formatted_code);\n",
       "                        }\n",
       "                        break;\n",
       "                    }\n",
       "                }\n",
       "            }, 500);\n",
       "            "
      ],
      "text/plain": [
       "<IPython.core.display.Javascript object>"
      ]
     },
     "metadata": {},
     "output_type": "display_data"
    }
   ],
   "source": [
    "my_table.put(\"key2\", -75)"
   ]
  },
  {
   "cell_type": "code",
   "execution_count": 21,
   "id": "verified-implement",
   "metadata": {},
   "outputs": [
    {
     "data": {
      "text/plain": [
       "[None, None, None, None, None, None, None, None, 35, -75]"
      ]
     },
     "execution_count": 21,
     "metadata": {},
     "output_type": "execute_result"
    },
    {
     "data": {
      "application/javascript": [
       "\n",
       "            setTimeout(function() {\n",
       "                var nbb_cell_id = 21;\n",
       "                var nbb_unformatted_code = \"my_table.arr\";\n",
       "                var nbb_formatted_code = \"my_table.arr\";\n",
       "                var nbb_cells = Jupyter.notebook.get_cells();\n",
       "                for (var i = 0; i < nbb_cells.length; ++i) {\n",
       "                    if (nbb_cells[i].input_prompt_number == nbb_cell_id) {\n",
       "                        if (nbb_cells[i].get_text() == nbb_unformatted_code) {\n",
       "                             nbb_cells[i].set_text(nbb_formatted_code);\n",
       "                        }\n",
       "                        break;\n",
       "                    }\n",
       "                }\n",
       "            }, 500);\n",
       "            "
      ],
      "text/plain": [
       "<IPython.core.display.Javascript object>"
      ]
     },
     "metadata": {},
     "output_type": "display_data"
    }
   ],
   "source": [
    "my_table.arr"
   ]
  },
  {
   "cell_type": "code",
   "execution_count": 22,
   "id": "suffering-logistics",
   "metadata": {},
   "outputs": [
    {
     "data": {
      "application/javascript": [
       "\n",
       "            setTimeout(function() {\n",
       "                var nbb_cell_id = 22;\n",
       "                var nbb_unformatted_code = \"my_table.put(\\\"key0\\\", 35)\";\n",
       "                var nbb_formatted_code = \"my_table.put(\\\"key0\\\", 35)\";\n",
       "                var nbb_cells = Jupyter.notebook.get_cells();\n",
       "                for (var i = 0; i < nbb_cells.length; ++i) {\n",
       "                    if (nbb_cells[i].input_prompt_number == nbb_cell_id) {\n",
       "                        if (nbb_cells[i].get_text() == nbb_unformatted_code) {\n",
       "                             nbb_cells[i].set_text(nbb_formatted_code);\n",
       "                        }\n",
       "                        break;\n",
       "                    }\n",
       "                }\n",
       "            }, 500);\n",
       "            "
      ],
      "text/plain": [
       "<IPython.core.display.Javascript object>"
      ]
     },
     "metadata": {},
     "output_type": "display_data"
    }
   ],
   "source": [
    "my_table.put(\"key0\", 35)"
   ]
  },
  {
   "cell_type": "code",
   "execution_count": 23,
   "id": "monetary-trick",
   "metadata": {},
   "outputs": [
    {
     "data": {
      "text/plain": [
       "[None, None, None, None, None, None, None, 35, 35, -75]"
      ]
     },
     "execution_count": 23,
     "metadata": {},
     "output_type": "execute_result"
    },
    {
     "data": {
      "application/javascript": [
       "\n",
       "            setTimeout(function() {\n",
       "                var nbb_cell_id = 23;\n",
       "                var nbb_unformatted_code = \"my_table.arr\";\n",
       "                var nbb_formatted_code = \"my_table.arr\";\n",
       "                var nbb_cells = Jupyter.notebook.get_cells();\n",
       "                for (var i = 0; i < nbb_cells.length; ++i) {\n",
       "                    if (nbb_cells[i].input_prompt_number == nbb_cell_id) {\n",
       "                        if (nbb_cells[i].get_text() == nbb_unformatted_code) {\n",
       "                             nbb_cells[i].set_text(nbb_formatted_code);\n",
       "                        }\n",
       "                        break;\n",
       "                    }\n",
       "                }\n",
       "            }, 500);\n",
       "            "
      ],
      "text/plain": [
       "<IPython.core.display.Javascript object>"
      ]
     },
     "metadata": {},
     "output_type": "display_data"
    }
   ],
   "source": [
    "my_table.arr"
   ]
  },
  {
   "cell_type": "code",
   "execution_count": 24,
   "id": "original-conspiracy",
   "metadata": {},
   "outputs": [
    {
     "data": {
      "text/plain": [
       "35"
      ]
     },
     "execution_count": 24,
     "metadata": {},
     "output_type": "execute_result"
    },
    {
     "data": {
      "application/javascript": [
       "\n",
       "            setTimeout(function() {\n",
       "                var nbb_cell_id = 24;\n",
       "                var nbb_unformatted_code = \"my_table.get(\\\"key0\\\")\";\n",
       "                var nbb_formatted_code = \"my_table.get(\\\"key0\\\")\";\n",
       "                var nbb_cells = Jupyter.notebook.get_cells();\n",
       "                for (var i = 0; i < nbb_cells.length; ++i) {\n",
       "                    if (nbb_cells[i].input_prompt_number == nbb_cell_id) {\n",
       "                        if (nbb_cells[i].get_text() == nbb_unformatted_code) {\n",
       "                             nbb_cells[i].set_text(nbb_formatted_code);\n",
       "                        }\n",
       "                        break;\n",
       "                    }\n",
       "                }\n",
       "            }, 500);\n",
       "            "
      ],
      "text/plain": [
       "<IPython.core.display.Javascript object>"
      ]
     },
     "metadata": {},
     "output_type": "display_data"
    }
   ],
   "source": [
    "my_table.get(\"key0\")"
   ]
  },
  {
   "cell_type": "code",
   "execution_count": 30,
   "id": "proof-commodity",
   "metadata": {},
   "outputs": [
    {
     "data": {
      "text/plain": [
       "8"
      ]
     },
     "execution_count": 30,
     "metadata": {},
     "output_type": "execute_result"
    },
    {
     "data": {
      "application/javascript": [
       "\n",
       "            setTimeout(function() {\n",
       "                var nbb_cell_id = 30;\n",
       "                var nbb_unformatted_code = \"my_table.calc_hash(\\\"key1\\\")\\n\\nmy_table.calc_hash(\\\"key03\\\")\";\n",
       "                var nbb_formatted_code = \"my_table.calc_hash(\\\"key1\\\")\\n\\nmy_table.calc_hash(\\\"key03\\\")\";\n",
       "                var nbb_cells = Jupyter.notebook.get_cells();\n",
       "                for (var i = 0; i < nbb_cells.length; ++i) {\n",
       "                    if (nbb_cells[i].input_prompt_number == nbb_cell_id) {\n",
       "                        if (nbb_cells[i].get_text() == nbb_unformatted_code) {\n",
       "                             nbb_cells[i].set_text(nbb_formatted_code);\n",
       "                        }\n",
       "                        break;\n",
       "                    }\n",
       "                }\n",
       "            }, 500);\n",
       "            "
      ],
      "text/plain": [
       "<IPython.core.display.Javascript object>"
      ]
     },
     "metadata": {},
     "output_type": "display_data"
    }
   ],
   "source": [
    "my_table.calc_hash(\"key1\")\n",
    "\n",
    "my_table.calc_hash(\"key03\")\n",
    "\n",
    "\n",
    "{\n",
    "    \"key1\": 3, \n",
    "    \"key03\": 5\n",
    "}\n",
    "{\n",
    "    \"key1\": 6, \n",
    "}"
   ]
  },
  {
   "cell_type": "code",
   "execution_count": null,
   "id": "meaning-packing",
   "metadata": {},
   "outputs": [],
   "source": [
    "[, , , , , , [x, x, g, g, ],  ]\n",
    "{\n",
    "    \"a\": 1\n",
    "\n",
    "}\n",
    "\n",
    "\n",
    "\n",
    "[,, , ,[[key1, val],[key2, val]], ]"
   ]
  },
  {
   "cell_type": "code",
   "execution_count": 32,
   "id": "greatest-catholic",
   "metadata": {},
   "outputs": [
    {
     "data": {
      "application/javascript": [
       "\n",
       "            setTimeout(function() {\n",
       "                var nbb_cell_id = 32;\n",
       "                var nbb_unformatted_code = \"class HashTable2:\\n    def __init__(self, size_array: int = 10):\\n        self.size_array = size_array\\n        self.arr = [[] for i in range(size_array)]\\n\\n    def calc_hash(self, key: str) -> int:\\n        h = 0\\n        for char in key:\\n            h += ord(char)\\n\\n        h = h % self.size_array\\n        print(h)\\n        return h\\n    \\n    # Better hash function\\n    \\n\\n    def put(self, key: str, value: int) -> int:\\n        h = self.calc_hash(key)\\n        exists = False\\n        \\n        if self.arr[h]:\\n            for i, data in enumerate(self.arr[h]):\\n                if data[0] == key:\\n                    exists = True\\n                    self.arr[h][i][1] = value\\n            if not(exists):\\n                self.arr[h].append([key, value])\\n        else: \\n            self.arr[h].append([key, value])\\n\\n    def get(self, key: str):\\n        h = self.calc_hash(key)\\n        \\n        possible_values = self.arr[h]\\n        \\n        if possible_values:\\n            for _key, _val in possible_values: \\n                if key == _key:\\n                    return _val\";\n",
       "                var nbb_formatted_code = \"class HashTable2:\\n    def __init__(self, size_array: int = 10):\\n        self.size_array = size_array\\n        self.arr = [[] for i in range(size_array)]\\n\\n    def calc_hash(self, key: str) -> int:\\n        h = 0\\n        for char in key:\\n            h += ord(char)\\n\\n        h = h % self.size_array\\n        print(h)\\n        return h\\n\\n    # Better hash function\\n\\n    def put(self, key: str, value: int) -> int:\\n        h = self.calc_hash(key)\\n        exists = False\\n\\n        if self.arr[h]:\\n            for i, data in enumerate(self.arr[h]):\\n                if data[0] == key:\\n                    exists = True\\n                    self.arr[h][i][1] = value\\n            if not (exists):\\n                self.arr[h].append([key, value])\\n        else:\\n            self.arr[h].append([key, value])\\n\\n    def get(self, key: str):\\n        h = self.calc_hash(key)\\n\\n        possible_values = self.arr[h]\\n\\n        if possible_values:\\n            for _key, _val in possible_values:\\n                if key == _key:\\n                    return _val\";\n",
       "                var nbb_cells = Jupyter.notebook.get_cells();\n",
       "                for (var i = 0; i < nbb_cells.length; ++i) {\n",
       "                    if (nbb_cells[i].input_prompt_number == nbb_cell_id) {\n",
       "                        if (nbb_cells[i].get_text() == nbb_unformatted_code) {\n",
       "                             nbb_cells[i].set_text(nbb_formatted_code);\n",
       "                        }\n",
       "                        break;\n",
       "                    }\n",
       "                }\n",
       "            }, 500);\n",
       "            "
      ],
      "text/plain": [
       "<IPython.core.display.Javascript object>"
      ]
     },
     "metadata": {},
     "output_type": "display_data"
    }
   ],
   "source": [
    "class HashTable2:\n",
    "    def __init__(self, size_array: int = 10):\n",
    "        self.size_array = size_array\n",
    "        self.arr = [[] for i in range(size_array)]\n",
    "\n",
    "    def calc_hash(self, key: str) -> int:\n",
    "        h = 0\n",
    "        for char in key:\n",
    "            h += ord(char)\n",
    "\n",
    "        h = h % self.size_array\n",
    "        print(h)\n",
    "        return h\n",
    "    \n",
    "    # Better hash function\n",
    "    \n",
    "\n",
    "    def put(self, key: str, value: int) -> int:\n",
    "        h = self.calc_hash(key)\n",
    "        exists = False\n",
    "        \n",
    "        if self.arr[h]:\n",
    "            for i, data in enumerate(self.arr[h]):\n",
    "                if data[0] == key:\n",
    "                    exists = True\n",
    "                    self.arr[h][i][1] = value\n",
    "            if not(exists):\n",
    "                self.arr[h].append([key, value])\n",
    "        else: \n",
    "            self.arr[h].append([key, value])\n",
    "\n",
    "    def get(self, key: str):\n",
    "        h = self.calc_hash(key)\n",
    "        \n",
    "        possible_values = self.arr[h]\n",
    "        \n",
    "        if possible_values:\n",
    "            for _key, _val in possible_values: \n",
    "                if key == _key:\n",
    "                    return _val\n"
   ]
  },
  {
   "cell_type": "code",
   "execution_count": 45,
   "id": "chronic-conspiracy",
   "metadata": {},
   "outputs": [
    {
     "data": {
      "text/plain": [
       "(21866, 21902)"
      ]
     },
     "execution_count": 45,
     "metadata": {},
     "output_type": "execute_result"
    },
    {
     "data": {
      "application/javascript": [
       "\n",
       "            setTimeout(function() {\n",
       "                var nbb_cell_id = 45;\n",
       "                var nbb_unformatted_code = \"# \\\"abc\\\", \\\"cba\\\"\\n\\n\\n# polynomial has func\\n\\n# hey\\n\\n\\n# f(hey) = hx^0 + e*x^1 + y*x^2\\ndef poly_hash(string: str) -> int:\\n    h = 0\\n    x = 13\\n    \\n    for i, char in enumerate(string):\\n        h += ord(char)*(x**i)\\n    \\n    return h\\n    \\n\\npoly_hash(\\\"hey\\\"), poly_hash(\\\"ehy\\\")\";\n",
       "                var nbb_formatted_code = \"# \\\"abc\\\", \\\"cba\\\"\\n\\n\\n# polynomial has func\\n\\n# hey\\n\\n\\n# f(hey) = hx^0 + e*x^1 + y*x^2\\ndef poly_hash(string: str) -> int:\\n    h = 0\\n    x = 13\\n\\n    for i, char in enumerate(string):\\n        h += ord(char) * (x ** i)\\n\\n    return h\\n\\n\\npoly_hash(\\\"hey\\\"), poly_hash(\\\"ehy\\\")\";\n",
       "                var nbb_cells = Jupyter.notebook.get_cells();\n",
       "                for (var i = 0; i < nbb_cells.length; ++i) {\n",
       "                    if (nbb_cells[i].input_prompt_number == nbb_cell_id) {\n",
       "                        if (nbb_cells[i].get_text() == nbb_unformatted_code) {\n",
       "                             nbb_cells[i].set_text(nbb_formatted_code);\n",
       "                        }\n",
       "                        break;\n",
       "                    }\n",
       "                }\n",
       "            }, 500);\n",
       "            "
      ],
      "text/plain": [
       "<IPython.core.display.Javascript object>"
      ]
     },
     "metadata": {},
     "output_type": "display_data"
    }
   ],
   "source": [
    "# \"abc\", \"cba\"\n",
    "\n",
    "\n",
    "# polynomial has func\n",
    "\n",
    "# hey\n",
    "\n",
    "\n",
    "# f(hey) = hx^0 + e*x^1 + y*x^2\n",
    "def poly_hash(string: str) -> int:\n",
    "    h = 0\n",
    "    x = 13\n",
    "    \n",
    "    for i, char in enumerate(string):\n",
    "        h += ord(char)*(x**i)\n",
    "    \n",
    "    return h\n",
    "    \n",
    "\n",
    "poly_hash(\"hey\"), poly_hash(\"ehy\")\n",
    "\n",
    "\n"
   ]
  },
  {
   "cell_type": "code",
   "execution_count": 33,
   "id": "dominant-turtle",
   "metadata": {},
   "outputs": [
    {
     "data": {
      "application/javascript": [
       "\n",
       "            setTimeout(function() {\n",
       "                var nbb_cell_id = 33;\n",
       "                var nbb_unformatted_code = \"tab2 = HashTable2()\";\n",
       "                var nbb_formatted_code = \"tab2 = HashTable2()\";\n",
       "                var nbb_cells = Jupyter.notebook.get_cells();\n",
       "                for (var i = 0; i < nbb_cells.length; ++i) {\n",
       "                    if (nbb_cells[i].input_prompt_number == nbb_cell_id) {\n",
       "                        if (nbb_cells[i].get_text() == nbb_unformatted_code) {\n",
       "                             nbb_cells[i].set_text(nbb_formatted_code);\n",
       "                        }\n",
       "                        break;\n",
       "                    }\n",
       "                }\n",
       "            }, 500);\n",
       "            "
      ],
      "text/plain": [
       "<IPython.core.display.Javascript object>"
      ]
     },
     "metadata": {},
     "output_type": "display_data"
    }
   ],
   "source": [
    "tab2 = HashTable2()"
   ]
  },
  {
   "cell_type": "code",
   "execution_count": 34,
   "id": "potential-syndrome",
   "metadata": {},
   "outputs": [
    {
     "data": {
      "text/plain": [
       "[[], [], [], [], [], [], [], [], [], []]"
      ]
     },
     "execution_count": 34,
     "metadata": {},
     "output_type": "execute_result"
    },
    {
     "data": {
      "application/javascript": [
       "\n",
       "            setTimeout(function() {\n",
       "                var nbb_cell_id = 34;\n",
       "                var nbb_unformatted_code = \"tab2.arr\";\n",
       "                var nbb_formatted_code = \"tab2.arr\";\n",
       "                var nbb_cells = Jupyter.notebook.get_cells();\n",
       "                for (var i = 0; i < nbb_cells.length; ++i) {\n",
       "                    if (nbb_cells[i].input_prompt_number == nbb_cell_id) {\n",
       "                        if (nbb_cells[i].get_text() == nbb_unformatted_code) {\n",
       "                             nbb_cells[i].set_text(nbb_formatted_code);\n",
       "                        }\n",
       "                        break;\n",
       "                    }\n",
       "                }\n",
       "            }, 500);\n",
       "            "
      ],
      "text/plain": [
       "<IPython.core.display.Javascript object>"
      ]
     },
     "metadata": {},
     "output_type": "display_data"
    }
   ],
   "source": [
    "tab2.arr"
   ]
  },
  {
   "cell_type": "code",
   "execution_count": 35,
   "id": "ceramic-breast",
   "metadata": {},
   "outputs": [
    {
     "name": "stdout",
     "output_type": "stream",
     "text": [
      "8\n"
     ]
    },
    {
     "data": {
      "application/javascript": [
       "\n",
       "            setTimeout(function() {\n",
       "                var nbb_cell_id = 35;\n",
       "                var nbb_unformatted_code = \"tab2.put(\\\"key1\\\", 10)\";\n",
       "                var nbb_formatted_code = \"tab2.put(\\\"key1\\\", 10)\";\n",
       "                var nbb_cells = Jupyter.notebook.get_cells();\n",
       "                for (var i = 0; i < nbb_cells.length; ++i) {\n",
       "                    if (nbb_cells[i].input_prompt_number == nbb_cell_id) {\n",
       "                        if (nbb_cells[i].get_text() == nbb_unformatted_code) {\n",
       "                             nbb_cells[i].set_text(nbb_formatted_code);\n",
       "                        }\n",
       "                        break;\n",
       "                    }\n",
       "                }\n",
       "            }, 500);\n",
       "            "
      ],
      "text/plain": [
       "<IPython.core.display.Javascript object>"
      ]
     },
     "metadata": {},
     "output_type": "display_data"
    }
   ],
   "source": [
    "tab2.put(\"key1\", 10)"
   ]
  },
  {
   "cell_type": "code",
   "execution_count": 36,
   "id": "descending-grass",
   "metadata": {},
   "outputs": [
    {
     "data": {
      "text/plain": [
       "[[], [], [], [], [], [], [], [], [['key1', 10]], []]"
      ]
     },
     "execution_count": 36,
     "metadata": {},
     "output_type": "execute_result"
    },
    {
     "data": {
      "application/javascript": [
       "\n",
       "            setTimeout(function() {\n",
       "                var nbb_cell_id = 36;\n",
       "                var nbb_unformatted_code = \"tab2.arr\";\n",
       "                var nbb_formatted_code = \"tab2.arr\";\n",
       "                var nbb_cells = Jupyter.notebook.get_cells();\n",
       "                for (var i = 0; i < nbb_cells.length; ++i) {\n",
       "                    if (nbb_cells[i].input_prompt_number == nbb_cell_id) {\n",
       "                        if (nbb_cells[i].get_text() == nbb_unformatted_code) {\n",
       "                             nbb_cells[i].set_text(nbb_formatted_code);\n",
       "                        }\n",
       "                        break;\n",
       "                    }\n",
       "                }\n",
       "            }, 500);\n",
       "            "
      ],
      "text/plain": [
       "<IPython.core.display.Javascript object>"
      ]
     },
     "metadata": {},
     "output_type": "display_data"
    }
   ],
   "source": [
    "tab2.arr"
   ]
  },
  {
   "cell_type": "code",
   "execution_count": null,
   "id": "controversial-circular",
   "metadata": {},
   "outputs": [],
   "source": [
    "tab2"
   ]
  },
  {
   "cell_type": "code",
   "execution_count": null,
   "id": "noted-cinema",
   "metadata": {},
   "outputs": [],
   "source": []
  },
  {
   "cell_type": "code",
   "execution_count": null,
   "id": "efficient-desire",
   "metadata": {},
   "outputs": [],
   "source": []
  },
  {
   "cell_type": "code",
   "execution_count": null,
   "id": "second-portuguese",
   "metadata": {},
   "outputs": [],
   "source": []
  },
  {
   "cell_type": "code",
   "execution_count": 37,
   "id": "silver-mozambique",
   "metadata": {},
   "outputs": [
    {
     "name": "stdout",
     "output_type": "stream",
     "text": [
      "8\n"
     ]
    },
    {
     "data": {
      "application/javascript": [
       "\n",
       "            setTimeout(function() {\n",
       "                var nbb_cell_id = 37;\n",
       "                var nbb_unformatted_code = \"tab2.put(\\\"key03\\\", -11)\";\n",
       "                var nbb_formatted_code = \"tab2.put(\\\"key03\\\", -11)\";\n",
       "                var nbb_cells = Jupyter.notebook.get_cells();\n",
       "                for (var i = 0; i < nbb_cells.length; ++i) {\n",
       "                    if (nbb_cells[i].input_prompt_number == nbb_cell_id) {\n",
       "                        if (nbb_cells[i].get_text() == nbb_unformatted_code) {\n",
       "                             nbb_cells[i].set_text(nbb_formatted_code);\n",
       "                        }\n",
       "                        break;\n",
       "                    }\n",
       "                }\n",
       "            }, 500);\n",
       "            "
      ],
      "text/plain": [
       "<IPython.core.display.Javascript object>"
      ]
     },
     "metadata": {},
     "output_type": "display_data"
    }
   ],
   "source": [
    "tab2.put(\"key03\", -11)"
   ]
  },
  {
   "cell_type": "code",
   "execution_count": 38,
   "id": "stuck-vintage",
   "metadata": {},
   "outputs": [
    {
     "name": "stdout",
     "output_type": "stream",
     "text": [
      "8\n"
     ]
    },
    {
     "data": {
      "application/javascript": [
       "\n",
       "            setTimeout(function() {\n",
       "                var nbb_cell_id = 38;\n",
       "                var nbb_unformatted_code = \"tab2.put(\\\"key1\\\", 121)\";\n",
       "                var nbb_formatted_code = \"tab2.put(\\\"key1\\\", 121)\";\n",
       "                var nbb_cells = Jupyter.notebook.get_cells();\n",
       "                for (var i = 0; i < nbb_cells.length; ++i) {\n",
       "                    if (nbb_cells[i].input_prompt_number == nbb_cell_id) {\n",
       "                        if (nbb_cells[i].get_text() == nbb_unformatted_code) {\n",
       "                             nbb_cells[i].set_text(nbb_formatted_code);\n",
       "                        }\n",
       "                        break;\n",
       "                    }\n",
       "                }\n",
       "            }, 500);\n",
       "            "
      ],
      "text/plain": [
       "<IPython.core.display.Javascript object>"
      ]
     },
     "metadata": {},
     "output_type": "display_data"
    }
   ],
   "source": [
    "tab2.put(\"key1\", 121)"
   ]
  },
  {
   "cell_type": "code",
   "execution_count": 39,
   "id": "pressing-heading",
   "metadata": {},
   "outputs": [
    {
     "data": {
      "text/plain": [
       "[[], [], [], [], [], [], [], [], [['key1', 121], ['key03', -11]], []]"
      ]
     },
     "execution_count": 39,
     "metadata": {},
     "output_type": "execute_result"
    },
    {
     "data": {
      "application/javascript": [
       "\n",
       "            setTimeout(function() {\n",
       "                var nbb_cell_id = 39;\n",
       "                var nbb_unformatted_code = \"tab2.arr\";\n",
       "                var nbb_formatted_code = \"tab2.arr\";\n",
       "                var nbb_cells = Jupyter.notebook.get_cells();\n",
       "                for (var i = 0; i < nbb_cells.length; ++i) {\n",
       "                    if (nbb_cells[i].input_prompt_number == nbb_cell_id) {\n",
       "                        if (nbb_cells[i].get_text() == nbb_unformatted_code) {\n",
       "                             nbb_cells[i].set_text(nbb_formatted_code);\n",
       "                        }\n",
       "                        break;\n",
       "                    }\n",
       "                }\n",
       "            }, 500);\n",
       "            "
      ],
      "text/plain": [
       "<IPython.core.display.Javascript object>"
      ]
     },
     "metadata": {},
     "output_type": "display_data"
    }
   ],
   "source": [
    "tab2.arr"
   ]
  },
  {
   "cell_type": "code",
   "execution_count": 40,
   "id": "thermal-collar",
   "metadata": {},
   "outputs": [
    {
     "name": "stdout",
     "output_type": "stream",
     "text": [
      "8\n"
     ]
    },
    {
     "data": {
      "text/plain": [
       "-11"
      ]
     },
     "execution_count": 40,
     "metadata": {},
     "output_type": "execute_result"
    },
    {
     "data": {
      "application/javascript": [
       "\n",
       "            setTimeout(function() {\n",
       "                var nbb_cell_id = 40;\n",
       "                var nbb_unformatted_code = \"tab2.get(\\\"key03\\\")\";\n",
       "                var nbb_formatted_code = \"tab2.get(\\\"key03\\\")\";\n",
       "                var nbb_cells = Jupyter.notebook.get_cells();\n",
       "                for (var i = 0; i < nbb_cells.length; ++i) {\n",
       "                    if (nbb_cells[i].input_prompt_number == nbb_cell_id) {\n",
       "                        if (nbb_cells[i].get_text() == nbb_unformatted_code) {\n",
       "                             nbb_cells[i].set_text(nbb_formatted_code);\n",
       "                        }\n",
       "                        break;\n",
       "                    }\n",
       "                }\n",
       "            }, 500);\n",
       "            "
      ],
      "text/plain": [
       "<IPython.core.display.Javascript object>"
      ]
     },
     "metadata": {},
     "output_type": "display_data"
    }
   ],
   "source": [
    "tab2.get(\"key03\")"
   ]
  },
  {
   "cell_type": "code",
   "execution_count": null,
   "id": "sporting-mobility",
   "metadata": {},
   "outputs": [],
   "source": [
    "tab2.arr"
   ]
  },
  {
   "cell_type": "code",
   "execution_count": 49,
   "id": "empty-prerequisite",
   "metadata": {},
   "outputs": [
    {
     "data": {
      "text/plain": [
       "{'a': -5, 'b': 2}"
      ]
     },
     "execution_count": 49,
     "metadata": {},
     "output_type": "execute_result"
    },
    {
     "data": {
      "application/javascript": [
       "\n",
       "            setTimeout(function() {\n",
       "                var nbb_cell_id = 49;\n",
       "                var nbb_unformatted_code = \"eg_dict = {\\\"a\\\": 1, \\\"b\\\": 2, \\\"a\\\": -5}\\neg_dict\";\n",
       "                var nbb_formatted_code = \"eg_dict = {\\\"a\\\": 1, \\\"b\\\": 2, \\\"a\\\": -5}\\neg_dict\";\n",
       "                var nbb_cells = Jupyter.notebook.get_cells();\n",
       "                for (var i = 0; i < nbb_cells.length; ++i) {\n",
       "                    if (nbb_cells[i].input_prompt_number == nbb_cell_id) {\n",
       "                        if (nbb_cells[i].get_text() == nbb_unformatted_code) {\n",
       "                             nbb_cells[i].set_text(nbb_formatted_code);\n",
       "                        }\n",
       "                        break;\n",
       "                    }\n",
       "                }\n",
       "            }, 500);\n",
       "            "
      ],
      "text/plain": [
       "<IPython.core.display.Javascript object>"
      ]
     },
     "metadata": {},
     "output_type": "display_data"
    }
   ],
   "source": [
    "eg_dict = {\"a\": 1, \"b\": 2, \"a\": -5}\n",
    "eg_dict"
   ]
  },
  {
   "cell_type": "code",
   "execution_count": 50,
   "id": "alert-graham",
   "metadata": {},
   "outputs": [
    {
     "data": {
      "text/plain": [
       "{1, 2}"
      ]
     },
     "execution_count": 50,
     "metadata": {},
     "output_type": "execute_result"
    },
    {
     "data": {
      "application/javascript": [
       "\n",
       "            setTimeout(function() {\n",
       "                var nbb_cell_id = 50;\n",
       "                var nbb_unformatted_code = \"# https://calendly.com/sithankanna/30m\\n# Please fill in the survey:  https://forms.gle/Y6G4xX4doXrhW5aV6\\n\\n\\n{1, 1, 1, 2}\";\n",
       "                var nbb_formatted_code = \"# https://calendly.com/sithankanna/30m\\n# Please fill in the survey:  https://forms.gle/Y6G4xX4doXrhW5aV6\\n\\n\\n{1, 1, 1, 2}\";\n",
       "                var nbb_cells = Jupyter.notebook.get_cells();\n",
       "                for (var i = 0; i < nbb_cells.length; ++i) {\n",
       "                    if (nbb_cells[i].input_prompt_number == nbb_cell_id) {\n",
       "                        if (nbb_cells[i].get_text() == nbb_unformatted_code) {\n",
       "                             nbb_cells[i].set_text(nbb_formatted_code);\n",
       "                        }\n",
       "                        break;\n",
       "                    }\n",
       "                }\n",
       "            }, 500);\n",
       "            "
      ],
      "text/plain": [
       "<IPython.core.display.Javascript object>"
      ]
     },
     "metadata": {},
     "output_type": "display_data"
    }
   ],
   "source": [
    "# https://calendly.com/sithankanna/30m\n",
    "# Please fill in the survey:  https://forms.gle/Y6G4xX4doXrhW5aV6\n",
    "\n",
    "\n",
    "{1, 1, 1, 2}"
   ]
  },
  {
   "cell_type": "code",
   "execution_count": null,
   "id": "dense-funeral",
   "metadata": {},
   "outputs": [],
   "source": []
  }
 ],
 "metadata": {
  "kernelspec": {
   "display_name": "Python 3",
   "language": "python",
   "name": "python3"
  },
  "language_info": {
   "codemirror_mode": {
    "name": "ipython",
    "version": 3
   },
   "file_extension": ".py",
   "mimetype": "text/x-python",
   "name": "python",
   "nbconvert_exporter": "python",
   "pygments_lexer": "ipython3",
   "version": "3.7.9"
  }
 },
 "nbformat": 4,
 "nbformat_minor": 5
}
