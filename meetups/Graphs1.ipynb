{
 "cells": [
  {
   "cell_type": "markdown",
   "id": "generous-grant",
   "metadata": {},
   "source": [
    "# Graphs"
   ]
  },
  {
   "cell_type": "code",
   "execution_count": 2,
   "id": "emotional-check",
   "metadata": {},
   "outputs": [
    {
     "data": {
      "application/javascript": [
       "\n",
       "            setTimeout(function() {\n",
       "                var nbb_cell_id = 2;\n",
       "                var nbb_unformatted_code = \"%load_ext nb_black\\nfrom typing import List, Tuple, Dict\\nfrom collections import deque\";\n",
       "                var nbb_formatted_code = \"%load_ext nb_black\\nfrom typing import List, Tuple, Dict\\nfrom collections import deque\";\n",
       "                var nbb_cells = Jupyter.notebook.get_cells();\n",
       "                for (var i = 0; i < nbb_cells.length; ++i) {\n",
       "                    if (nbb_cells[i].input_prompt_number == nbb_cell_id) {\n",
       "                        if (nbb_cells[i].get_text() == nbb_unformatted_code) {\n",
       "                             nbb_cells[i].set_text(nbb_formatted_code);\n",
       "                        }\n",
       "                        break;\n",
       "                    }\n",
       "                }\n",
       "            }, 500);\n",
       "            "
      ],
      "text/plain": [
       "<IPython.core.display.Javascript object>"
      ]
     },
     "metadata": {},
     "output_type": "display_data"
    }
   ],
   "source": [
    "%load_ext nb_black\n",
    "from typing import List, Tuple, Dict\n",
    "from collections import deque"
   ]
  },
  {
   "cell_type": "code",
   "execution_count": null,
   "id": "accredited-alfred",
   "metadata": {},
   "outputs": [],
   "source": [
    "# edge, node (vertex)"
   ]
  },
  {
   "cell_type": "code",
   "execution_count": 3,
   "id": "offensive-register",
   "metadata": {},
   "outputs": [
    {
     "data": {
      "application/javascript": [
       "\n",
       "            setTimeout(function() {\n",
       "                var nbb_cell_id = 3;\n",
       "                var nbb_unformatted_code = \"data = [\\n    (\\\"NY\\\", \\\"SF\\\"),\\n    (\\\"SF\\\", \\\"LN\\\"),\\n    (\\\"NY\\\", \\\"LN\\\"),\\n    (\\\"SG\\\", \\\"KL\\\"),\\n    (\\\"SG\\\", \\\"HK\\\"),\\n    (\\\"NY\\\", \\\"SG\\\"),\\n    (\\\"KL\\\", \\\"LN\\\"),\\n]\\n\\n\\n# # \\n# {\\n#     \\\"NY\\\": [\\\"SF\\\", \\\"LN\\\", \\\"SG\\\"], \\n#     \\\"SF\\\": [\\\"LN\\\",]\\n    \\n    \\n    \\n# }\\n#     NY, SF, LN... HK\\n# NY         \\n# SF           1    0\\n# LN       1\\n# ..\\n# HK\";\n",
       "                var nbb_formatted_code = \"data = [\\n    (\\\"NY\\\", \\\"SF\\\"),\\n    (\\\"SF\\\", \\\"LN\\\"),\\n    (\\\"NY\\\", \\\"LN\\\"),\\n    (\\\"SG\\\", \\\"KL\\\"),\\n    (\\\"SG\\\", \\\"HK\\\"),\\n    (\\\"NY\\\", \\\"SG\\\"),\\n    (\\\"KL\\\", \\\"LN\\\"),\\n]\\n\\n\\n# #\\n# {\\n#     \\\"NY\\\": [\\\"SF\\\", \\\"LN\\\", \\\"SG\\\"],\\n#     \\\"SF\\\": [\\\"LN\\\",]\\n\\n\\n# }\\n#     NY, SF, LN... HK\\n# NY\\n# SF           1    0\\n# LN       1\\n# ..\\n# HK\";\n",
       "                var nbb_cells = Jupyter.notebook.get_cells();\n",
       "                for (var i = 0; i < nbb_cells.length; ++i) {\n",
       "                    if (nbb_cells[i].input_prompt_number == nbb_cell_id) {\n",
       "                        if (nbb_cells[i].get_text() == nbb_unformatted_code) {\n",
       "                             nbb_cells[i].set_text(nbb_formatted_code);\n",
       "                        }\n",
       "                        break;\n",
       "                    }\n",
       "                }\n",
       "            }, 500);\n",
       "            "
      ],
      "text/plain": [
       "<IPython.core.display.Javascript object>"
      ]
     },
     "metadata": {},
     "output_type": "display_data"
    }
   ],
   "source": [
    "data = [\n",
    "    (\"NY\", \"SF\"),\n",
    "    (\"SF\", \"LN\"),\n",
    "    (\"NY\", \"LN\"),\n",
    "    (\"SG\", \"KL\"),\n",
    "    (\"SG\", \"HK\"),\n",
    "    (\"NY\", \"SG\"),\n",
    "    (\"KL\", \"LN\"),\n",
    "]\n",
    "\n",
    "\n",
    "# #\n",
    "# {\n",
    "#     \"NY\": [\"SF\", \"LN\", \"SG\"],\n",
    "#     \"SF\": [\"LN\",]\n",
    "\n",
    "\n",
    "# }\n",
    "#     NY, SF, LN... HK\n",
    "# NY\n",
    "# SF           1    0\n",
    "# LN       1\n",
    "# ..\n",
    "# HK"
   ]
  },
  {
   "cell_type": "code",
   "execution_count": 4,
   "id": "racial-voltage",
   "metadata": {},
   "outputs": [
    {
     "data": {
      "application/javascript": [
       "\n",
       "            setTimeout(function() {\n",
       "                var nbb_cell_id = 4;\n",
       "                var nbb_unformatted_code = \"class Node:\\n    def __init__(self, name: str):\\n        self.name = name\\n        self.neigbours = set()\\n        self.state = \\\"not visited\\\"\\n        # can take 1 -> visited, 0, not visited, -1, visiting\\n\\n    def add_neighbour(self, neigbour: str):\\n        self.neigbours.add(neigbour)\\n\\n    def __repr__(self) -> str:\\n        return f\\\"({self.name}, {self.neigbours})\\\"\";\n",
       "                var nbb_formatted_code = \"class Node:\\n    def __init__(self, name: str):\\n        self.name = name\\n        self.neigbours = set()\\n        self.state = \\\"not visited\\\"\\n        # can take 1 -> visited, 0, not visited, -1, visiting\\n\\n    def add_neighbour(self, neigbour: str):\\n        self.neigbours.add(neigbour)\\n\\n    def __repr__(self) -> str:\\n        return f\\\"({self.name}, {self.neigbours})\\\"\";\n",
       "                var nbb_cells = Jupyter.notebook.get_cells();\n",
       "                for (var i = 0; i < nbb_cells.length; ++i) {\n",
       "                    if (nbb_cells[i].input_prompt_number == nbb_cell_id) {\n",
       "                        if (nbb_cells[i].get_text() == nbb_unformatted_code) {\n",
       "                             nbb_cells[i].set_text(nbb_formatted_code);\n",
       "                        }\n",
       "                        break;\n",
       "                    }\n",
       "                }\n",
       "            }, 500);\n",
       "            "
      ],
      "text/plain": [
       "<IPython.core.display.Javascript object>"
      ]
     },
     "metadata": {},
     "output_type": "display_data"
    }
   ],
   "source": [
    "class Node:\n",
    "    def __init__(self, name: str):\n",
    "        self.name = name\n",
    "        self.neigbours = set()\n",
    "        self.state = \"not visited\"\n",
    "        # can take 1 -> visited, 0, not visited, -1, visiting\n",
    "\n",
    "    def add_neighbour(self, neigbour: str):\n",
    "        self.neigbours.add(neigbour)\n",
    "\n",
    "    def __repr__(self) -> str:\n",
    "        return f\"({self.name}, {self.neigbours})\"\n",
    "\n"
   ]
  },
  {
   "cell_type": "code",
   "execution_count": 15,
   "id": "enormous-ukraine",
   "metadata": {},
   "outputs": [
    {
     "data": {
      "application/javascript": [
       "\n",
       "            setTimeout(function() {\n",
       "                var nbb_cell_id = 15;\n",
       "                var nbb_unformatted_code = \"\\n\\n\\ndata = [\\n    (\\\"NY\\\", \\\"SF\\\"),\\n    (\\\"SF\\\", \\\"LN\\\"),\\n    (\\\"NY\\\", \\\"LN\\\"),\\n    (\\\"SG\\\", \\\"KL\\\"),\\n    (\\\"SG\\\", \\\"HK\\\"),\\n    (\\\"NY\\\", \\\"SG\\\"),\\n    (\\\"KL\\\", \\\"LN\\\"),\\n]\\n\\n\\n\\n\\n\\n\\n\\n\\n\\n\\ndef dfs(self, node_name: str):\\n    node = self._graph[node_name]\\n    self.visit(node)\\n\\n    for next_ in self.get_neighbours(node.name):\\n        next_node = self._graph[next_]\\n        if next_node.state == \\\"not visited\\\":\\n            self.dfs(next_)\\n\\n    node.state = \\\"visited\\\"\";\n",
       "                var nbb_formatted_code = \"data = [\\n    (\\\"NY\\\", \\\"SF\\\"),\\n    (\\\"SF\\\", \\\"LN\\\"),\\n    (\\\"NY\\\", \\\"LN\\\"),\\n    (\\\"SG\\\", \\\"KL\\\"),\\n    (\\\"SG\\\", \\\"HK\\\"),\\n    (\\\"NY\\\", \\\"SG\\\"),\\n    (\\\"KL\\\", \\\"LN\\\"),\\n]\\n\\n\\ndef dfs(self, node_name: str):\\n    node = self._graph[node_name]\\n    self.visit(node)\\n\\n    for next_ in self.get_neighbours(node.name):\\n        next_node = self._graph[next_]\\n        if next_node.state == \\\"not visited\\\":\\n            self.dfs(next_)\\n\\n    node.state = \\\"visited\\\"\";\n",
       "                var nbb_cells = Jupyter.notebook.get_cells();\n",
       "                for (var i = 0; i < nbb_cells.length; ++i) {\n",
       "                    if (nbb_cells[i].input_prompt_number == nbb_cell_id) {\n",
       "                        if (nbb_cells[i].get_text() == nbb_unformatted_code) {\n",
       "                             nbb_cells[i].set_text(nbb_formatted_code);\n",
       "                        }\n",
       "                        break;\n",
       "                    }\n",
       "                }\n",
       "            }, 500);\n",
       "            "
      ],
      "text/plain": [
       "<IPython.core.display.Javascript object>"
      ]
     },
     "metadata": {},
     "output_type": "display_data"
    }
   ],
   "source": [
    "\n",
    "\n",
    "\n",
    "data = [\n",
    "    (\"NY\", \"SF\"),\n",
    "    (\"SF\", \"LN\"),\n",
    "    (\"NY\", \"LN\"),\n",
    "    (\"SG\", \"KL\"),\n",
    "    (\"SG\", \"HK\"),\n",
    "    (\"NY\", \"SG\"),\n",
    "    (\"KL\", \"LN\"),\n",
    "]\n",
    "\n",
    "\n",
    "\n",
    "\n",
    "\n",
    "\n",
    "\n",
    "\n",
    "\n",
    "\n",
    "\n",
    "\n",
    "\n",
    "\n",
    "\n",
    "\n",
    "\n",
    "    \n",
    "    \n",
    "    \n",
    "    \n",
    "    \n",
    "    \n",
    "    \n",
    "    \n",
    "    \n",
    "    \n",
    "    \n",
    "    \n",
    "    \n",
    "    \n",
    "    {\n",
    "        \n",
    "        \n",
    "    }\n",
    "    \n",
    "    \n",
    "    \n",
    "    \n",
    "    \n",
    "    \n",
    "    \n",
    "    \n",
    "\n",
    "\n",
    "\n"
   ]
  },
  {
   "cell_type": "code",
   "execution_count": null,
   "id": "meaning-eugene",
   "metadata": {},
   "outputs": [],
   "source": []
  },
  {
   "cell_type": "code",
   "execution_count": 19,
   "id": "convenient-telescope",
   "metadata": {},
   "outputs": [
    {
     "data": {
      "application/javascript": [
       "\n",
       "            setTimeout(function() {\n",
       "                var nbb_cell_id = 19;\n",
       "                var nbb_unformatted_code = \"class Graph:\\n    def __init__(self, edges: List[Tuple[str]]):\\n        self.edges = edges\\n        self._graph = {}\\n        self.add_all_edges()\\n\\n    def add_node_to_graph(self, val: str) -> None:\\n        if val not in self._graph:\\n            node = Node(name=val)\\n            self._graph[node.name] = node\\n\\n    def add_all_edges(self):\\n        for start, end in self.edges:\\n            self.add_node_to_graph(start)\\n            self.add_node_to_graph(end)\\n            self._graph[start].add_neighbour(end)\\n\\n    def get_neighbours(self, node: str) -> List[str]:\\n        return self._graph[node].neigbours\\n\\n    def visit(self, node: Node) -> None:\\n        node.state = \\\"in_progress\\\"\\n        print(node.name)\\n\\n    def dfs(self, node_name: str):\\n        node = self._graph[node_name]\\n        self.visit(node)\\n\\n        for next_ in self.get_neighbours(node.name):\\n            next_node = self._graph[next_]\\n            if next_node.state == \\\"not visited\\\":\\n                self.dfs(next_)\\n\\n        node.state = \\\"visited\\\"\\n\\n    def dfs_iterative(self, node_name: str) -> None:\\n        node = self._graph[node_name]\\n        #  stack: Deque[Node] = deque([node])\\n        stack = deque([node])\\n        # 1. Create a stack of next nodes to vist\\n        # 2. Visit them\\n\\n        while len(stack) > 0:\\n            v = stack.pop()\\n            if v.state == \\\"not visited\\\":\\n                self.visit(v)\\n                node.state = \\\"visited\\\"\\n                for next_ in self.get_neighbours(v.name):\\n                    next_node = self._graph[next_]\\n                    if next_node.state == \\\"not visited\\\":\\n                        stack.append(next_node)\\n\\n    def bfs(self, node_name: str) -> None:\\n        node = self._graph[node_name]\\n        #  stack: Deque[Node] = deque([node])\\n        que = deque([node])\\n        # 1. Create a queue of next nodes to vist\\n        # 2. Visit them\\n\\n        while len(stack) > 0:\\n            v = que.popleft()\\n            if v.state == \\\"not visited\\\":\\n                self.visit(v)\\n                node.state = \\\"visited\\\"\\n                for next_ in self.get_neighbours(v.name):\\n                    next_node = self._graph[next_]\\n                    if next_node.state == \\\"not visited\\\":\\n                        stack.append(next_node)\\n\\n    def __repr__(self):\\n        return str(self._graph)\";\n",
       "                var nbb_formatted_code = \"class Graph:\\n    def __init__(self, edges: List[Tuple[str]]):\\n        self.edges = edges\\n        self._graph = {}\\n        self.add_all_edges()\\n\\n    def add_node_to_graph(self, val: str) -> None:\\n        if val not in self._graph:\\n            node = Node(name=val)\\n            self._graph[node.name] = node\\n\\n    def add_all_edges(self):\\n        for start, end in self.edges:\\n            self.add_node_to_graph(start)\\n            self.add_node_to_graph(end)\\n            self._graph[start].add_neighbour(end)\\n\\n    def get_neighbours(self, node: str) -> List[str]:\\n        return self._graph[node].neigbours\\n\\n    def visit(self, node: Node) -> None:\\n        node.state = \\\"in_progress\\\"\\n        print(node.name)\\n\\n    def dfs(self, node_name: str):\\n        node = self._graph[node_name]\\n        self.visit(node)\\n\\n        for next_ in self.get_neighbours(node.name):\\n            next_node = self._graph[next_]\\n            if next_node.state == \\\"not visited\\\":\\n                self.dfs(next_)\\n\\n        node.state = \\\"visited\\\"\\n\\n    def dfs_iterative(self, node_name: str) -> None:\\n        node = self._graph[node_name]\\n        #  stack: Deque[Node] = deque([node])\\n        stack = deque([node])\\n        # 1. Create a stack of next nodes to vist\\n        # 2. Visit them\\n\\n        while len(stack) > 0:\\n            v = stack.pop()\\n            if v.state == \\\"not visited\\\":\\n                self.visit(v)\\n                node.state = \\\"visited\\\"\\n                for next_ in self.get_neighbours(v.name):\\n                    next_node = self._graph[next_]\\n                    if next_node.state == \\\"not visited\\\":\\n                        stack.append(next_node)\\n\\n    def bfs(self, node_name: str) -> None:\\n        node = self._graph[node_name]\\n        #  stack: Deque[Node] = deque([node])\\n        que = deque([node])\\n        # 1. Create a queue of next nodes to vist\\n        # 2. Visit them\\n\\n        while len(stack) > 0:\\n            v = que.popleft()\\n            if v.state == \\\"not visited\\\":\\n                self.visit(v)\\n                node.state = \\\"visited\\\"\\n                for next_ in self.get_neighbours(v.name):\\n                    next_node = self._graph[next_]\\n                    if next_node.state == \\\"not visited\\\":\\n                        stack.append(next_node)\\n\\n    def __repr__(self):\\n        return str(self._graph)\";\n",
       "                var nbb_cells = Jupyter.notebook.get_cells();\n",
       "                for (var i = 0; i < nbb_cells.length; ++i) {\n",
       "                    if (nbb_cells[i].input_prompt_number == nbb_cell_id) {\n",
       "                        if (nbb_cells[i].get_text() == nbb_unformatted_code) {\n",
       "                             nbb_cells[i].set_text(nbb_formatted_code);\n",
       "                        }\n",
       "                        break;\n",
       "                    }\n",
       "                }\n",
       "            }, 500);\n",
       "            "
      ],
      "text/plain": [
       "<IPython.core.display.Javascript object>"
      ]
     },
     "metadata": {},
     "output_type": "display_data"
    }
   ],
   "source": [
    "class Graph:\n",
    "    def __init__(self, edges: List[Tuple[str]]):\n",
    "        self.edges = edges\n",
    "        self._graph = {}\n",
    "        self.add_all_edges()\n",
    "\n",
    "    def add_node_to_graph(self, val: str) -> None:\n",
    "        if val not in self._graph:\n",
    "            node = Node(name=val)\n",
    "            self._graph[node.name] = node\n",
    "\n",
    "    def add_all_edges(self):\n",
    "        for start, end in self.edges:\n",
    "            self.add_node_to_graph(start)\n",
    "            self.add_node_to_graph(end)\n",
    "            self._graph[start].add_neighbour(end)\n",
    "\n",
    "    def get_neighbours(self, node: str) -> List[str]:\n",
    "        return self._graph[node].neigbours\n",
    "\n",
    "    def visit(self, node: Node) -> None:\n",
    "        node.state = \"in_progress\"\n",
    "        print(node.name)\n",
    "\n",
    "    def dfs(self, node_name: str):\n",
    "        node = self._graph[node_name]\n",
    "        self.visit(node)\n",
    "\n",
    "        for next_ in self.get_neighbours(node.name):\n",
    "            next_node = self._graph[next_]\n",
    "            if next_node.state == \"not visited\":\n",
    "                self.dfs(next_)\n",
    "\n",
    "        node.state = \"visited\"\n",
    "\n",
    "    def dfs_iterative(self, node_name: str) -> None:\n",
    "        node = self._graph[node_name]\n",
    "        #  stack: Deque[Node] = deque([node])\n",
    "        stack = deque([node])\n",
    "        # 1. Create a stack of next nodes to vist\n",
    "        # 2. Visit them\n",
    "\n",
    "        while len(stack) > 0:\n",
    "            v = stack.pop()\n",
    "            if v.state == \"not visited\":\n",
    "                self.visit(v)\n",
    "                node.state = \"visited\"\n",
    "                for next_ in self.get_neighbours(v.name):\n",
    "                    next_node = self._graph[next_]\n",
    "                    if next_node.state == \"not visited\":\n",
    "                        stack.append(next_node)\n",
    "\n",
    "    def bfs(self, node_name: str) -> None:\n",
    "        node = self._graph[node_name]\n",
    "        #  stack: Deque[Node] = deque([node])\n",
    "        que = deque([node])\n",
    "        # 1. Create a queue of next nodes to vist\n",
    "        # 2. Visit them\n",
    "\n",
    "        while len(que) > 0:\n",
    "            v = que.popleft()\n",
    "            if v.state == \"not visited\":\n",
    "                self.visit(v)\n",
    "                node.state = \"visited\"\n",
    "                for next_ in self.get_neighbours(v.name):\n",
    "                    next_node = self._graph[next_]\n",
    "                    if next_node.state == \"not visited\":\n",
    "                        que.append(next_node)\n",
    "\n",
    "    def __repr__(self):\n",
    "        return str(self._graph)"
   ]
  },
  {
   "cell_type": "code",
   "execution_count": 20,
   "id": "civilian-interface",
   "metadata": {},
   "outputs": [
    {
     "data": {
      "text/plain": [
       "[('NY', 'SF'),\n",
       " ('SF', 'LN'),\n",
       " ('NY', 'LN'),\n",
       " ('SG', 'KL'),\n",
       " ('SG', 'HK'),\n",
       " ('NY', 'SG'),\n",
       " ('KL', 'LN')]"
      ]
     },
     "execution_count": 20,
     "metadata": {},
     "output_type": "execute_result"
    },
    {
     "data": {
      "application/javascript": [
       "\n",
       "            setTimeout(function() {\n",
       "                var nbb_cell_id = 20;\n",
       "                var nbb_unformatted_code = \"data\";\n",
       "                var nbb_formatted_code = \"data\";\n",
       "                var nbb_cells = Jupyter.notebook.get_cells();\n",
       "                for (var i = 0; i < nbb_cells.length; ++i) {\n",
       "                    if (nbb_cells[i].input_prompt_number == nbb_cell_id) {\n",
       "                        if (nbb_cells[i].get_text() == nbb_unformatted_code) {\n",
       "                             nbb_cells[i].set_text(nbb_formatted_code);\n",
       "                        }\n",
       "                        break;\n",
       "                    }\n",
       "                }\n",
       "            }, 500);\n",
       "            "
      ],
      "text/plain": [
       "<IPython.core.display.Javascript object>"
      ]
     },
     "metadata": {},
     "output_type": "display_data"
    }
   ],
   "source": [
    "data"
   ]
  },
  {
   "cell_type": "code",
   "execution_count": 18,
   "id": "continent-proportion",
   "metadata": {},
   "outputs": [
    {
     "ename": "NameError",
     "evalue": "name 'bfs' is not defined",
     "output_type": "error",
     "traceback": [
      "\u001b[0;31m---------------------------------------------------------------------------\u001b[0m",
      "\u001b[0;31mNameError\u001b[0m                                 Traceback (most recent call last)",
      "\u001b[0;32m<ipython-input-18-ae5b826c7e39>\u001b[0m in \u001b[0;36m<module>\u001b[0;34m\u001b[0m\n\u001b[1;32m      2\u001b[0m \u001b[0;34m\u001b[0m\u001b[0m\n\u001b[1;32m      3\u001b[0m \u001b[0;34m\u001b[0m\u001b[0m\n\u001b[0;32m----> 4\u001b[0;31m \u001b[0mbfs\u001b[0m\u001b[0;34m\u001b[0m\u001b[0;34m\u001b[0m\u001b[0m\n\u001b[0m\u001b[1;32m      5\u001b[0m \u001b[0;34m\u001b[0m\u001b[0m\n",
      "\u001b[0;31mNameError\u001b[0m: name 'bfs' is not defined"
     ]
    },
    {
     "data": {
      "application/javascript": [
       "\n",
       "            setTimeout(function() {\n",
       "                var nbb_cell_id = 18;\n",
       "                var nbb_unformatted_code = \"dfs\\n\\n\\nbfs\";\n",
       "                var nbb_formatted_code = \"dfs\\n\\n\\nbfs\";\n",
       "                var nbb_cells = Jupyter.notebook.get_cells();\n",
       "                for (var i = 0; i < nbb_cells.length; ++i) {\n",
       "                    if (nbb_cells[i].input_prompt_number == nbb_cell_id) {\n",
       "                        if (nbb_cells[i].get_text() == nbb_unformatted_code) {\n",
       "                             nbb_cells[i].set_text(nbb_formatted_code);\n",
       "                        }\n",
       "                        break;\n",
       "                    }\n",
       "                }\n",
       "            }, 500);\n",
       "            "
      ],
      "text/plain": [
       "<IPython.core.display.Javascript object>"
      ]
     },
     "metadata": {},
     "output_type": "display_data"
    }
   ],
   "source": []
  },
  {
   "cell_type": "code",
   "execution_count": 21,
   "id": "artificial-criterion",
   "metadata": {},
   "outputs": [
    {
     "data": {
      "application/javascript": [
       "\n",
       "            setTimeout(function() {\n",
       "                var nbb_cell_id = 21;\n",
       "                var nbb_unformatted_code = \"g = Graph(edges=data)\";\n",
       "                var nbb_formatted_code = \"g = Graph(edges=data)\";\n",
       "                var nbb_cells = Jupyter.notebook.get_cells();\n",
       "                for (var i = 0; i < nbb_cells.length; ++i) {\n",
       "                    if (nbb_cells[i].input_prompt_number == nbb_cell_id) {\n",
       "                        if (nbb_cells[i].get_text() == nbb_unformatted_code) {\n",
       "                             nbb_cells[i].set_text(nbb_formatted_code);\n",
       "                        }\n",
       "                        break;\n",
       "                    }\n",
       "                }\n",
       "            }, 500);\n",
       "            "
      ],
      "text/plain": [
       "<IPython.core.display.Javascript object>"
      ]
     },
     "metadata": {},
     "output_type": "display_data"
    }
   ],
   "source": [
    "g = Graph(edges=data)"
   ]
  },
  {
   "cell_type": "code",
   "execution_count": 22,
   "id": "speaking-junction",
   "metadata": {},
   "outputs": [
    {
     "data": {
      "text/plain": [
       "{'NY': (NY, {'SG', 'LN', 'SF'}), 'SF': (SF, {'LN'}), 'LN': (LN, set()), 'SG': (SG, {'HK', 'KL'}), 'KL': (KL, {'LN'}), 'HK': (HK, set())}"
      ]
     },
     "execution_count": 22,
     "metadata": {},
     "output_type": "execute_result"
    },
    {
     "data": {
      "application/javascript": [
       "\n",
       "            setTimeout(function() {\n",
       "                var nbb_cell_id = 22;\n",
       "                var nbb_unformatted_code = \"g\";\n",
       "                var nbb_formatted_code = \"g\";\n",
       "                var nbb_cells = Jupyter.notebook.get_cells();\n",
       "                for (var i = 0; i < nbb_cells.length; ++i) {\n",
       "                    if (nbb_cells[i].input_prompt_number == nbb_cell_id) {\n",
       "                        if (nbb_cells[i].get_text() == nbb_unformatted_code) {\n",
       "                             nbb_cells[i].set_text(nbb_formatted_code);\n",
       "                        }\n",
       "                        break;\n",
       "                    }\n",
       "                }\n",
       "            }, 500);\n",
       "            "
      ],
      "text/plain": [
       "<IPython.core.display.Javascript object>"
      ]
     },
     "metadata": {},
     "output_type": "display_data"
    }
   ],
   "source": [
    "g"
   ]
  },
  {
   "cell_type": "code",
   "execution_count": null,
   "id": "raised-pizza",
   "metadata": {},
   "outputs": [],
   "source": [
    "# traversal, dfs, bfs (find_shortest_path)\n",
    "\n",
    "# process - look for something, print the node"
   ]
  },
  {
   "cell_type": "code",
   "execution_count": 23,
   "id": "patent-cornwall",
   "metadata": {},
   "outputs": [
    {
     "data": {
      "text/plain": [
       "{'LN'}"
      ]
     },
     "execution_count": 23,
     "metadata": {},
     "output_type": "execute_result"
    },
    {
     "data": {
      "application/javascript": [
       "\n",
       "            setTimeout(function() {\n",
       "                var nbb_cell_id = 23;\n",
       "                var nbb_unformatted_code = \"g.get_neighbours(\\\"SF\\\")\";\n",
       "                var nbb_formatted_code = \"g.get_neighbours(\\\"SF\\\")\";\n",
       "                var nbb_cells = Jupyter.notebook.get_cells();\n",
       "                for (var i = 0; i < nbb_cells.length; ++i) {\n",
       "                    if (nbb_cells[i].input_prompt_number == nbb_cell_id) {\n",
       "                        if (nbb_cells[i].get_text() == nbb_unformatted_code) {\n",
       "                             nbb_cells[i].set_text(nbb_formatted_code);\n",
       "                        }\n",
       "                        break;\n",
       "                    }\n",
       "                }\n",
       "            }, 500);\n",
       "            "
      ],
      "text/plain": [
       "<IPython.core.display.Javascript object>"
      ]
     },
     "metadata": {},
     "output_type": "display_data"
    }
   ],
   "source": [
    "g.get_neighbours(\"SF\")"
   ]
  },
  {
   "cell_type": "code",
   "execution_count": 24,
   "id": "consecutive-wages",
   "metadata": {},
   "outputs": [
    {
     "name": "stdout",
     "output_type": "stream",
     "text": [
      "NY\n",
      "SG\n",
      "HK\n",
      "KL\n",
      "LN\n",
      "SF\n"
     ]
    },
    {
     "data": {
      "application/javascript": [
       "\n",
       "            setTimeout(function() {\n",
       "                var nbb_cell_id = 24;\n",
       "                var nbb_unformatted_code = \"g.dfs(\\\"NY\\\")\";\n",
       "                var nbb_formatted_code = \"g.dfs(\\\"NY\\\")\";\n",
       "                var nbb_cells = Jupyter.notebook.get_cells();\n",
       "                for (var i = 0; i < nbb_cells.length; ++i) {\n",
       "                    if (nbb_cells[i].input_prompt_number == nbb_cell_id) {\n",
       "                        if (nbb_cells[i].get_text() == nbb_unformatted_code) {\n",
       "                             nbb_cells[i].set_text(nbb_formatted_code);\n",
       "                        }\n",
       "                        break;\n",
       "                    }\n",
       "                }\n",
       "            }, 500);\n",
       "            "
      ],
      "text/plain": [
       "<IPython.core.display.Javascript object>"
      ]
     },
     "metadata": {},
     "output_type": "display_data"
    }
   ],
   "source": [
    "g.dfs(\"NY\")"
   ]
  },
  {
   "cell_type": "code",
   "execution_count": null,
   "id": "approximate-bridal",
   "metadata": {},
   "outputs": [],
   "source": [
    "g.dfs_iterative(\"NY\")"
   ]
  },
  {
   "cell_type": "code",
   "execution_count": null,
   "id": "listed-examination",
   "metadata": {},
   "outputs": [],
   "source": [
    "g.bfs(\"NY\")"
   ]
  },
  {
   "cell_type": "code",
   "execution_count": null,
   "id": "beginning-rochester",
   "metadata": {},
   "outputs": [],
   "source": []
  },
  {
   "cell_type": "code",
   "execution_count": null,
   "id": "inside-objective",
   "metadata": {},
   "outputs": [],
   "source": []
  },
  {
   "cell_type": "code",
   "execution_count": 25,
   "id": "strong-stroke",
   "metadata": {},
   "outputs": [
    {
     "data": {
      "application/javascript": [
       "\n",
       "            setTimeout(function() {\n",
       "                var nbb_cell_id = 25;\n",
       "                var nbb_unformatted_code = \"# que --> dq.popleft() FIFO\\n# stack --> dq.pop() LIFO\\n\\ndq = deque()\\nfor i in [1, 2, 3]:\\n    dq.append(i)\";\n",
       "                var nbb_formatted_code = \"# que --> dq.popleft() FIFO\\n# stack --> dq.pop() LIFO\\n\\ndq = deque()\\nfor i in [1, 2, 3]:\\n    dq.append(i)\";\n",
       "                var nbb_cells = Jupyter.notebook.get_cells();\n",
       "                for (var i = 0; i < nbb_cells.length; ++i) {\n",
       "                    if (nbb_cells[i].input_prompt_number == nbb_cell_id) {\n",
       "                        if (nbb_cells[i].get_text() == nbb_unformatted_code) {\n",
       "                             nbb_cells[i].set_text(nbb_formatted_code);\n",
       "                        }\n",
       "                        break;\n",
       "                    }\n",
       "                }\n",
       "            }, 500);\n",
       "            "
      ],
      "text/plain": [
       "<IPython.core.display.Javascript object>"
      ]
     },
     "metadata": {},
     "output_type": "display_data"
    }
   ],
   "source": [
    "# que --> dq.popleft() FIFO\n",
    "# stack --> dq.pop() LIFO\n",
    "\n",
    "dq = deque()\n",
    "for i in [1, 2, 3]:\n",
    "    dq.append(i)"
   ]
  },
  {
   "cell_type": "code",
   "execution_count": 26,
   "id": "liked-compact",
   "metadata": {},
   "outputs": [
    {
     "data": {
      "text/plain": [
       "deque([1, 2, 3])"
      ]
     },
     "execution_count": 26,
     "metadata": {},
     "output_type": "execute_result"
    },
    {
     "data": {
      "application/javascript": [
       "\n",
       "            setTimeout(function() {\n",
       "                var nbb_cell_id = 26;\n",
       "                var nbb_unformatted_code = \"dq\";\n",
       "                var nbb_formatted_code = \"dq\";\n",
       "                var nbb_cells = Jupyter.notebook.get_cells();\n",
       "                for (var i = 0; i < nbb_cells.length; ++i) {\n",
       "                    if (nbb_cells[i].input_prompt_number == nbb_cell_id) {\n",
       "                        if (nbb_cells[i].get_text() == nbb_unformatted_code) {\n",
       "                             nbb_cells[i].set_text(nbb_formatted_code);\n",
       "                        }\n",
       "                        break;\n",
       "                    }\n",
       "                }\n",
       "            }, 500);\n",
       "            "
      ],
      "text/plain": [
       "<IPython.core.display.Javascript object>"
      ]
     },
     "metadata": {},
     "output_type": "display_data"
    }
   ],
   "source": [
    "dq"
   ]
  },
  {
   "cell_type": "code",
   "execution_count": 27,
   "id": "indoor-controversy",
   "metadata": {},
   "outputs": [
    {
     "data": {
      "text/plain": [
       "1"
      ]
     },
     "execution_count": 27,
     "metadata": {},
     "output_type": "execute_result"
    },
    {
     "data": {
      "application/javascript": [
       "\n",
       "            setTimeout(function() {\n",
       "                var nbb_cell_id = 27;\n",
       "                var nbb_unformatted_code = \"dq.popleft()\";\n",
       "                var nbb_formatted_code = \"dq.popleft()\";\n",
       "                var nbb_cells = Jupyter.notebook.get_cells();\n",
       "                for (var i = 0; i < nbb_cells.length; ++i) {\n",
       "                    if (nbb_cells[i].input_prompt_number == nbb_cell_id) {\n",
       "                        if (nbb_cells[i].get_text() == nbb_unformatted_code) {\n",
       "                             nbb_cells[i].set_text(nbb_formatted_code);\n",
       "                        }\n",
       "                        break;\n",
       "                    }\n",
       "                }\n",
       "            }, 500);\n",
       "            "
      ],
      "text/plain": [
       "<IPython.core.display.Javascript object>"
      ]
     },
     "metadata": {},
     "output_type": "display_data"
    }
   ],
   "source": [
    "dq.popleft()"
   ]
  },
  {
   "cell_type": "code",
   "execution_count": 29,
   "id": "roman-dress",
   "metadata": {},
   "outputs": [
    {
     "data": {
      "text/plain": [
       "2"
      ]
     },
     "execution_count": 29,
     "metadata": {},
     "output_type": "execute_result"
    },
    {
     "data": {
      "application/javascript": [
       "\n",
       "            setTimeout(function() {\n",
       "                var nbb_cell_id = 29;\n",
       "                var nbb_unformatted_code = \"dq.popleft()\";\n",
       "                var nbb_formatted_code = \"dq.popleft()\";\n",
       "                var nbb_cells = Jupyter.notebook.get_cells();\n",
       "                for (var i = 0; i < nbb_cells.length; ++i) {\n",
       "                    if (nbb_cells[i].input_prompt_number == nbb_cell_id) {\n",
       "                        if (nbb_cells[i].get_text() == nbb_unformatted_code) {\n",
       "                             nbb_cells[i].set_text(nbb_formatted_code);\n",
       "                        }\n",
       "                        break;\n",
       "                    }\n",
       "                }\n",
       "            }, 500);\n",
       "            "
      ],
      "text/plain": [
       "<IPython.core.display.Javascript object>"
      ]
     },
     "metadata": {},
     "output_type": "display_data"
    }
   ],
   "source": [
    "dq.popleft()"
   ]
  },
  {
   "cell_type": "code",
   "execution_count": 30,
   "id": "scheduled-wrapping",
   "metadata": {},
   "outputs": [
    {
     "data": {
      "text/plain": [
       "deque([3])"
      ]
     },
     "execution_count": 30,
     "metadata": {},
     "output_type": "execute_result"
    },
    {
     "data": {
      "application/javascript": [
       "\n",
       "            setTimeout(function() {\n",
       "                var nbb_cell_id = 30;\n",
       "                var nbb_unformatted_code = \"dq\";\n",
       "                var nbb_formatted_code = \"dq\";\n",
       "                var nbb_cells = Jupyter.notebook.get_cells();\n",
       "                for (var i = 0; i < nbb_cells.length; ++i) {\n",
       "                    if (nbb_cells[i].input_prompt_number == nbb_cell_id) {\n",
       "                        if (nbb_cells[i].get_text() == nbb_unformatted_code) {\n",
       "                             nbb_cells[i].set_text(nbb_formatted_code);\n",
       "                        }\n",
       "                        break;\n",
       "                    }\n",
       "                }\n",
       "            }, 500);\n",
       "            "
      ],
      "text/plain": [
       "<IPython.core.display.Javascript object>"
      ]
     },
     "metadata": {},
     "output_type": "display_data"
    }
   ],
   "source": [
    "dq"
   ]
  },
  {
   "cell_type": "code",
   "execution_count": null,
   "id": "understood-generic",
   "metadata": {},
   "outputs": [],
   "source": []
  },
  {
   "cell_type": "code",
   "execution_count": null,
   "id": "directed-cross",
   "metadata": {},
   "outputs": [],
   "source": []
  },
  {
   "cell_type": "code",
   "execution_count": null,
   "id": "overhead-prague",
   "metadata": {},
   "outputs": [],
   "source": []
  }
 ],
 "metadata": {
  "kernelspec": {
   "display_name": "Python 3",
   "language": "python",
   "name": "python3"
  },
  "language_info": {
   "codemirror_mode": {
    "name": "ipython",
    "version": 3
   },
   "file_extension": ".py",
   "mimetype": "text/x-python",
   "name": "python",
   "nbconvert_exporter": "python",
   "pygments_lexer": "ipython3",
   "version": "3.7.9"
  }
 },
 "nbformat": 4,
 "nbformat_minor": 5
}
