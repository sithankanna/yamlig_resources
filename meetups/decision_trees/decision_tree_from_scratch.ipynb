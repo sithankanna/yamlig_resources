{
 "cells": [
  {
   "cell_type": "code",
   "execution_count": 1,
   "id": "spare-regard",
   "metadata": {},
   "outputs": [
    {
     "data": {
      "text/html": [
       "<style>.container { width:90% !important; }</style>"
      ],
      "text/plain": [
       "<IPython.core.display.HTML object>"
      ]
     },
     "metadata": {},
     "output_type": "display_data"
    },
    {
     "data": {
      "application/javascript": [
       "\n",
       "            setTimeout(function() {\n",
       "                var nbb_cell_id = 1;\n",
       "                var nbb_unformatted_code = \"%load_ext nb_black\\nfrom IPython.core.display import display, HTML\\ndisplay(HTML(\\\"<style>.container { width:90% !important; }</style>\\\"))\";\n",
       "                var nbb_formatted_code = \"%load_ext nb_black\\nfrom IPython.core.display import display, HTML\\n\\ndisplay(HTML(\\\"<style>.container { width:90% !important; }</style>\\\"))\";\n",
       "                var nbb_cells = Jupyter.notebook.get_cells();\n",
       "                for (var i = 0; i < nbb_cells.length; ++i) {\n",
       "                    if (nbb_cells[i].input_prompt_number == nbb_cell_id) {\n",
       "                        if (nbb_cells[i].get_text() == nbb_unformatted_code) {\n",
       "                             nbb_cells[i].set_text(nbb_formatted_code);\n",
       "                        }\n",
       "                        break;\n",
       "                    }\n",
       "                }\n",
       "            }, 500);\n",
       "            "
      ],
      "text/plain": [
       "<IPython.core.display.Javascript object>"
      ]
     },
     "metadata": {},
     "output_type": "display_data"
    }
   ],
   "source": [
    "%load_ext nb_black\n",
    "from IPython.core.display import display, HTML\n",
    "\n",
    "display(HTML(\"<style>.container { width:90% !important; }</style>\"))"
   ]
  },
  {
   "cell_type": "code",
   "execution_count": 5,
   "id": "identified-being",
   "metadata": {},
   "outputs": [
    {
     "data": {
      "application/javascript": [
       "\n",
       "            setTimeout(function() {\n",
       "                var nbb_cell_id = 5;\n",
       "                var nbb_unformatted_code = \"import pandas as pd\\nimport numpy as np\\nfrom typing import Tuple, Union, Dict, List\";\n",
       "                var nbb_formatted_code = \"import pandas as pd\\nimport numpy as np\\nfrom typing import Tuple, Union, Dict, List\";\n",
       "                var nbb_cells = Jupyter.notebook.get_cells();\n",
       "                for (var i = 0; i < nbb_cells.length; ++i) {\n",
       "                    if (nbb_cells[i].input_prompt_number == nbb_cell_id) {\n",
       "                        if (nbb_cells[i].get_text() == nbb_unformatted_code) {\n",
       "                             nbb_cells[i].set_text(nbb_formatted_code);\n",
       "                        }\n",
       "                        break;\n",
       "                    }\n",
       "                }\n",
       "            }, 500);\n",
       "            "
      ],
      "text/plain": [
       "<IPython.core.display.Javascript object>"
      ]
     },
     "metadata": {},
     "output_type": "display_data"
    }
   ],
   "source": [
    "import pandas as pd\n",
    "import numpy as np\n",
    "from typing import Tuple, Union, Dict, List"
   ]
  },
  {
   "cell_type": "code",
   "execution_count": null,
   "id": "unavailable-genealogy",
   "metadata": {},
   "outputs": [],
   "source": []
  },
  {
   "cell_type": "code",
   "execution_count": null,
   "id": "superior-bonus",
   "metadata": {},
   "outputs": [],
   "source": []
  },
  {
   "cell_type": "code",
   "execution_count": 3,
   "id": "natural-static",
   "metadata": {},
   "outputs": [
    {
     "data": {
      "text/html": [
       "<div>\n",
       "<style scoped>\n",
       "    .dataframe tbody tr th:only-of-type {\n",
       "        vertical-align: middle;\n",
       "    }\n",
       "\n",
       "    .dataframe tbody tr th {\n",
       "        vertical-align: top;\n",
       "    }\n",
       "\n",
       "    .dataframe thead th {\n",
       "        text-align: right;\n",
       "    }\n",
       "</style>\n",
       "<table border=\"1\" class=\"dataframe\">\n",
       "  <thead>\n",
       "    <tr style=\"text-align: right;\">\n",
       "      <th></th>\n",
       "      <th>color</th>\n",
       "      <th>diameter</th>\n",
       "      <th>label</th>\n",
       "    </tr>\n",
       "  </thead>\n",
       "  <tbody>\n",
       "    <tr>\n",
       "      <th>0</th>\n",
       "      <td>Green</td>\n",
       "      <td>3</td>\n",
       "      <td>Apple</td>\n",
       "    </tr>\n",
       "    <tr>\n",
       "      <th>1</th>\n",
       "      <td>Yellow</td>\n",
       "      <td>3</td>\n",
       "      <td>Apple</td>\n",
       "    </tr>\n",
       "    <tr>\n",
       "      <th>2</th>\n",
       "      <td>Red</td>\n",
       "      <td>1</td>\n",
       "      <td>Grape</td>\n",
       "    </tr>\n",
       "    <tr>\n",
       "      <th>3</th>\n",
       "      <td>Red</td>\n",
       "      <td>1</td>\n",
       "      <td>Grape</td>\n",
       "    </tr>\n",
       "    <tr>\n",
       "      <th>4</th>\n",
       "      <td>Yellow</td>\n",
       "      <td>3</td>\n",
       "      <td>Lemon</td>\n",
       "    </tr>\n",
       "  </tbody>\n",
       "</table>\n",
       "</div>"
      ],
      "text/plain": [
       "    color  diameter  label\n",
       "0   Green         3  Apple\n",
       "1  Yellow         3  Apple\n",
       "2     Red         1  Grape\n",
       "3     Red         1  Grape\n",
       "4  Yellow         3  Lemon"
      ]
     },
     "execution_count": 3,
     "metadata": {},
     "output_type": "execute_result"
    },
    {
     "data": {
      "application/javascript": [
       "\n",
       "            setTimeout(function() {\n",
       "                var nbb_cell_id = 3;\n",
       "                var nbb_unformatted_code = \"training_data = pd.DataFrame(\\n    [\\n        [\\\"Green\\\", 3, \\\"Apple\\\"],\\n        [\\\"Yellow\\\", 3, \\\"Apple\\\"],\\n        [\\\"Red\\\", 1, \\\"Grape\\\"],\\n        [\\\"Red\\\", 1, \\\"Grape\\\"],\\n        [\\\"Yellow\\\", 3, \\\"Lemon\\\"],\\n    ],\\n    columns=[\\\"color\\\", \\\"diameter\\\", \\\"label\\\"],\\n)\\n \\ntraining_data\";\n",
       "                var nbb_formatted_code = \"training_data = pd.DataFrame(\\n    [\\n        [\\\"Green\\\", 3, \\\"Apple\\\"],\\n        [\\\"Yellow\\\", 3, \\\"Apple\\\"],\\n        [\\\"Red\\\", 1, \\\"Grape\\\"],\\n        [\\\"Red\\\", 1, \\\"Grape\\\"],\\n        [\\\"Yellow\\\", 3, \\\"Lemon\\\"],\\n    ],\\n    columns=[\\\"color\\\", \\\"diameter\\\", \\\"label\\\"],\\n)\\n\\ntraining_data\";\n",
       "                var nbb_cells = Jupyter.notebook.get_cells();\n",
       "                for (var i = 0; i < nbb_cells.length; ++i) {\n",
       "                    if (nbb_cells[i].input_prompt_number == nbb_cell_id) {\n",
       "                        if (nbb_cells[i].get_text() == nbb_unformatted_code) {\n",
       "                             nbb_cells[i].set_text(nbb_formatted_code);\n",
       "                        }\n",
       "                        break;\n",
       "                    }\n",
       "                }\n",
       "            }, 500);\n",
       "            "
      ],
      "text/plain": [
       "<IPython.core.display.Javascript object>"
      ]
     },
     "metadata": {},
     "output_type": "display_data"
    }
   ],
   "source": [
    "training_data = pd.DataFrame(\n",
    "    [\n",
    "        [\"Green\", 3, \"Apple\"],\n",
    "        [\"Yellow\", 3, \"Apple\"],\n",
    "        [\"Red\", 1, \"Grape\"],\n",
    "        [\"Red\", 1, \"Grape\"],\n",
    "        [\"Yellow\", 3, \"Lemon\"],\n",
    "    ],\n",
    "    columns=[\"color\", \"diameter\", \"label\"],\n",
    ")\n",
    "\n",
    "training_data"
   ]
  },
  {
   "cell_type": "code",
   "execution_count": null,
   "id": "forbidden-technician",
   "metadata": {},
   "outputs": [],
   "source": [
    "# Use color, diameter, to choose which label\n",
    "# Train a tree\n",
    "\n",
    "# Find questions that has maximum information gain\n",
    "\n",
    "# Find a way to measure the (im)purity of the split data"
   ]
  },
  {
   "cell_type": "code",
   "execution_count": 61,
   "id": "given-cookbook",
   "metadata": {},
   "outputs": [
    {
     "data": {
      "application/javascript": [
       "\n",
       "            setTimeout(function() {\n",
       "                var nbb_cell_id = 61;\n",
       "                var nbb_unformatted_code = \"class DecisionNode:\\n    def __init__(self, question, true_node, false_node):\\n        self.question = question\\n        self.true_node = true_node\\n        self.false_node = false_node\\n\\n\\nclass Leaf:\\n    \\\"\\\"\\\"Just want the class probabilities\\\"\\\"\\\"\\n\\n    def __init__(self, rows):\\n        self.class_probs = self.find_class_probabilities(rows)\\n\\n    def find_class_probabilities(self, rows: pd.DataFrame) -> Dict:\\n        n = len(rows)\\n        clas_prob = rows.groupby(\\\"label\\\").agg(**{\\\"prob\\\": (\\\"label\\\", \\\"count\\\")}) / n\\n        return clas_prob.to_dict()\\n\\n    def __repr__(self) -> str:\\n        return str(self.class_probs)\\n\\n\\nclass Question:\\n    def __init__(self, feature: str, value: Union[str, float, int]):\\n        self.feature = feature\\n        self.value = value\\n        self.is_numeric_feature = self.is_numeric(value)\\n\\n    @staticmethod\\n    def is_numeric(value):\\n        \\\"\\\"\\\"Test if a value is numeric.\\\"\\\"\\\"\\n        return isinstance(value, int) or isinstance(value, float)\\n\\n    def ask(self, rows: pd.DataFrame) -> pd.Series:\\n        if self.is_numeric_feature:\\n            answer = rows[self.feature] >= self.value\\n        else:\\n            answer = rows[self.feature] == self.value\\n\\n        return answer\\n\\n    def __repr__(self) -> str:\\n        if self.is_numeric_feature:\\n            return f\\\"Is {self.feature} >= {self.value}?\\\"\\n        else:\\n            return f\\\"Is {self.feature} == {self.value}?\\\"\\n\\n\\n# At every node I want to find the best question\\nclass DecisionTree:\\n    def __init__(self, features):\\n        self.features = features\\n\\n    @staticmethod\\n    def gini(rows: pd.DataFrame) -> pd.DataFrame:\\n        n = len(rows)\\n        clas_prob = rows.groupby(\\\"label\\\").agg(**{\\\"prob\\\": (\\\"label\\\", \\\"count\\\")}) / n\\n        return 1 - np.sum(clas_prob[\\\"prob\\\"] ** 2)\\n\\n    def weighted_average_gini(self, true_values, false_values):\\n        n_true = len(true_values)\\n        n_false = len(false_values)\\n        n = n_true + n_false\\n        weighted_gini = (n_true / n) * self.gini(true_values) + (\\n            n_false / n\\n        ) * self.gini(false_values)\\n        return weighted_gini\\n\\n    def find_unique_values(self, series: pd.Series) -> List:\\n        return series.drop_duplicates().to_list()\\n\\n    def find_best_question(self, rows: pd.DataFrame) -> Tuple[Question, float]:\\n        # For a data set, what is the bets question I can ask to split the data\\n        # for every feature I want to create a bunch of questions\\n        # I want to find the question which reduces the gini the most\\n        # #\\n        impurity_before_split = self.gini(rows)\\n\\n        best_question = None\\n        best_gain = 0\\n\\n        for feat in self.features:\\n            possible_vals = self.find_unique_values(rows[feat])\\n            for val in possible_vals:\\n                q = Question(feature=feat, value=val)\\n                is_cond_true = q.ask(rows=rows)\\n                true_rows, false_rows = rows[is_cond_true], rows[~is_cond_true]\\n                # get weighted average gini\\n                impurity_after_split = self.weighted_average_gini(true_rows, false_rows)\\n                # find the information gain from asking the question\\n                info_gain = impurity_before_split - impurity_after_split\\n                if info_gain >= best_gain:\\n                    best_question = q\\n                    best_gain = info_gain\\n\\n        return best_question, best_gain\\n\\n    def split(\\n        self, rows: pd.DataFrame, question: Question\\n    ) -> Tuple[pd.DataFrame, pd.DataFrame]:\\n        \\\"\\\"\\\"Return the data for the left and right nodes \\\"\\\"\\\"\\n\\n        is_cond_true = question.ask(rows=rows)\\n        true_rows, false_rows = rows[is_cond_true], rows[~is_cond_true]\\n\\n        return true_rows, false_rows\\n\\n    def build_tree(self, rows: pd.DataFrame) -> DecisionNode:\\n        question_, gain_ = self.find_best_question(rows)\\n\\n        if gain_ == 0:\\n            return Leaf(rows=rows)\\n\\n        true_rows, false_rows = self.split(rows=rows, question=question_)\\n\\n        return DecisionNode(\\n            question=question_,\\n            true_node=self.build_tree(true_rows),\\n            false_node=self.build_tree(false_rows),\\n        )\\n\\n    def fit(rows: pd.DataFrame) -> None:\\n        pass\";\n",
       "                var nbb_formatted_code = \"class DecisionNode:\\n    def __init__(self, question, true_node, false_node):\\n        self.question = question\\n        self.true_node = true_node\\n        self.false_node = false_node\\n\\n\\nclass Leaf:\\n    \\\"\\\"\\\"Just want the class probabilities\\\"\\\"\\\"\\n\\n    def __init__(self, rows):\\n        self.class_probs = self.find_class_probabilities(rows)\\n\\n    def find_class_probabilities(self, rows: pd.DataFrame) -> Dict:\\n        n = len(rows)\\n        clas_prob = rows.groupby(\\\"label\\\").agg(**{\\\"prob\\\": (\\\"label\\\", \\\"count\\\")}) / n\\n        return clas_prob.to_dict()\\n\\n    def __repr__(self) -> str:\\n        return str(self.class_probs)\\n\\n\\nclass Question:\\n    def __init__(self, feature: str, value: Union[str, float, int]):\\n        self.feature = feature\\n        self.value = value\\n        self.is_numeric_feature = self.is_numeric(value)\\n\\n    @staticmethod\\n    def is_numeric(value):\\n        \\\"\\\"\\\"Test if a value is numeric.\\\"\\\"\\\"\\n        return isinstance(value, int) or isinstance(value, float)\\n\\n    def ask(self, rows: pd.DataFrame) -> pd.Series:\\n        if self.is_numeric_feature:\\n            answer = rows[self.feature] >= self.value\\n        else:\\n            answer = rows[self.feature] == self.value\\n\\n        return answer\\n\\n    def __repr__(self) -> str:\\n        if self.is_numeric_feature:\\n            return f\\\"Is {self.feature} >= {self.value}?\\\"\\n        else:\\n            return f\\\"Is {self.feature} == {self.value}?\\\"\\n\\n\\n# At every node I want to find the best question\\nclass DecisionTree:\\n    def __init__(self, features):\\n        self.features = features\\n\\n    @staticmethod\\n    def gini(rows: pd.DataFrame) -> pd.DataFrame:\\n        n = len(rows)\\n        clas_prob = rows.groupby(\\\"label\\\").agg(**{\\\"prob\\\": (\\\"label\\\", \\\"count\\\")}) / n\\n        return 1 - np.sum(clas_prob[\\\"prob\\\"] ** 2)\\n\\n    def weighted_average_gini(self, true_values, false_values):\\n        n_true = len(true_values)\\n        n_false = len(false_values)\\n        n = n_true + n_false\\n        weighted_gini = (n_true / n) * self.gini(true_values) + (\\n            n_false / n\\n        ) * self.gini(false_values)\\n        return weighted_gini\\n\\n    def find_unique_values(self, series: pd.Series) -> List:\\n        return series.drop_duplicates().to_list()\\n\\n    def find_best_question(self, rows: pd.DataFrame) -> Tuple[Question, float]:\\n        # For a data set, what is the bets question I can ask to split the data\\n        # for every feature I want to create a bunch of questions\\n        # I want to find the question which reduces the gini the most\\n        # #\\n        impurity_before_split = self.gini(rows)\\n\\n        best_question = None\\n        best_gain = 0\\n\\n        for feat in self.features:\\n            possible_vals = self.find_unique_values(rows[feat])\\n            for val in possible_vals:\\n                q = Question(feature=feat, value=val)\\n                is_cond_true = q.ask(rows=rows)\\n                true_rows, false_rows = rows[is_cond_true], rows[~is_cond_true]\\n                # get weighted average gini\\n                impurity_after_split = self.weighted_average_gini(true_rows, false_rows)\\n                # find the information gain from asking the question\\n                info_gain = impurity_before_split - impurity_after_split\\n                if info_gain >= best_gain:\\n                    best_question = q\\n                    best_gain = info_gain\\n\\n        return best_question, best_gain\\n\\n    def split(\\n        self, rows: pd.DataFrame, question: Question\\n    ) -> Tuple[pd.DataFrame, pd.DataFrame]:\\n        \\\"\\\"\\\"Return the data for the left and right nodes \\\"\\\"\\\"\\n\\n        is_cond_true = question.ask(rows=rows)\\n        true_rows, false_rows = rows[is_cond_true], rows[~is_cond_true]\\n\\n        return true_rows, false_rows\\n\\n    def build_tree(self, rows: pd.DataFrame) -> DecisionNode:\\n        question_, gain_ = self.find_best_question(rows)\\n\\n        if gain_ == 0:\\n            return Leaf(rows=rows)\\n\\n        true_rows, false_rows = self.split(rows=rows, question=question_)\\n\\n        return DecisionNode(\\n            question=question_,\\n            true_node=self.build_tree(true_rows),\\n            false_node=self.build_tree(false_rows),\\n        )\\n\\n    def fit(rows: pd.DataFrame) -> None:\\n        pass\";\n",
       "                var nbb_cells = Jupyter.notebook.get_cells();\n",
       "                for (var i = 0; i < nbb_cells.length; ++i) {\n",
       "                    if (nbb_cells[i].input_prompt_number == nbb_cell_id) {\n",
       "                        if (nbb_cells[i].get_text() == nbb_unformatted_code) {\n",
       "                             nbb_cells[i].set_text(nbb_formatted_code);\n",
       "                        }\n",
       "                        break;\n",
       "                    }\n",
       "                }\n",
       "            }, 500);\n",
       "            "
      ],
      "text/plain": [
       "<IPython.core.display.Javascript object>"
      ]
     },
     "metadata": {},
     "output_type": "display_data"
    }
   ],
   "source": [
    "class DecisionNode:\n",
    "    def __init__(self, question, true_node, false_node):\n",
    "        self.question = question\n",
    "        self.true_node = true_node\n",
    "        self.false_node = false_node\n",
    "\n",
    "\n",
    "class Leaf:\n",
    "    \"\"\"Just want the class probabilities\"\"\"\n",
    "\n",
    "    def __init__(self, rows):\n",
    "        self.class_probs = self.find_class_probabilities(rows)\n",
    "\n",
    "    def find_class_probabilities(self, rows: pd.DataFrame) -> Dict:\n",
    "        n = len(rows)\n",
    "        clas_prob = rows.groupby(\"label\").agg(**{\"prob\": (\"label\", \"count\")}) / n\n",
    "        return clas_prob.to_dict()\n",
    "\n",
    "    def __repr__(self) -> str:\n",
    "        return str(self.class_probs)\n",
    "\n",
    "\n",
    "class Question:\n",
    "    def __init__(self, feature: str, value: Union[str, float, int]):\n",
    "        self.feature = feature\n",
    "        self.value = value\n",
    "        self.is_numeric_feature = self.is_numeric(value)\n",
    "\n",
    "    @staticmethod\n",
    "    def is_numeric(value):\n",
    "        \"\"\"Test if a value is numeric.\"\"\"\n",
    "        return isinstance(value, int) or isinstance(value, float)\n",
    "\n",
    "    def ask(self, rows: pd.DataFrame) -> pd.Series:\n",
    "        if self.is_numeric_feature:\n",
    "            answer = rows[self.feature] >= self.value\n",
    "        else:\n",
    "            answer = rows[self.feature] == self.value\n",
    "\n",
    "        return answer\n",
    "\n",
    "    def __repr__(self) -> str:\n",
    "        if self.is_numeric_feature:\n",
    "            return f\"Is {self.feature} >= {self.value}?\"\n",
    "        else:\n",
    "            return f\"Is {self.feature} == {self.value}?\"\n",
    "\n",
    "\n",
    "# At every node I want to find the best question\n",
    "class DecisionTree:\n",
    "    def __init__(self, features):\n",
    "        self.features = features\n",
    "\n",
    "    @staticmethod\n",
    "    def gini(rows: pd.DataFrame) -> pd.DataFrame:\n",
    "        n = len(rows)\n",
    "        clas_prob = rows.groupby(\"label\").agg(**{\"prob\": (\"label\", \"count\")}) / n\n",
    "        return 1 - np.sum(clas_prob[\"prob\"] ** 2)\n",
    "\n",
    "    def weighted_average_gini(self, true_values, false_values):\n",
    "        n_true = len(true_values)\n",
    "        n_false = len(false_values)\n",
    "        n = n_true + n_false\n",
    "        weighted_gini = (n_true / n) * self.gini(true_values) + (\n",
    "            n_false / n\n",
    "        ) * self.gini(false_values)\n",
    "        return weighted_gini\n",
    "\n",
    "    def find_unique_values(self, series: pd.Series) -> List:\n",
    "        return series.drop_duplicates().to_list()\n",
    "\n",
    "    def find_best_question(self, rows: pd.DataFrame) -> Tuple[Question, float]:\n",
    "        # For a data set, what is the bets question I can ask to split the data\n",
    "        # for every feature I want to create a bunch of questions\n",
    "        # I want to find the question which reduces the gini the most\n",
    "        # #\n",
    "        impurity_before_split = self.gini(rows)\n",
    "\n",
    "        best_question = None\n",
    "        best_gain = 0\n",
    "\n",
    "        for feat in self.features:\n",
    "            possible_vals = self.find_unique_values(rows[feat])\n",
    "            for val in possible_vals:\n",
    "                q = Question(feature=feat, value=val)\n",
    "                is_cond_true = q.ask(rows=rows)\n",
    "                true_rows, false_rows = rows[is_cond_true], rows[~is_cond_true]\n",
    "                # get weighted average gini\n",
    "                impurity_after_split = self.weighted_average_gini(true_rows, false_rows)\n",
    "                # find the information gain from asking the question\n",
    "                info_gain = impurity_before_split - impurity_after_split\n",
    "                if info_gain >= best_gain:\n",
    "                    best_question = q\n",
    "                    best_gain = info_gain\n",
    "\n",
    "        return best_question, best_gain\n",
    "\n",
    "    def split(\n",
    "        self, rows: pd.DataFrame, question: Question\n",
    "    ) -> Tuple[pd.DataFrame, pd.DataFrame]:\n",
    "        \"\"\"Return the data for the left and right nodes \"\"\"\n",
    "\n",
    "        is_cond_true = question.ask(rows=rows)\n",
    "        true_rows, false_rows = rows[is_cond_true], rows[~is_cond_true]\n",
    "\n",
    "        return true_rows, false_rows\n",
    "\n",
    "    def build_tree(self, rows: pd.DataFrame) -> DecisionNode:\n",
    "        question_, gain_ = self.find_best_question(rows)\n",
    "\n",
    "        if gain_ == 0:\n",
    "            return Leaf(rows=rows)\n",
    "\n",
    "        true_rows, false_rows = self.split(rows=rows, question=question_)\n",
    "\n",
    "        return DecisionNode(\n",
    "            question=question_,\n",
    "            true_node=self.build_tree(true_rows),\n",
    "            false_node=self.build_tree(false_rows),\n",
    "        )\n",
    "\n",
    "    def fit(rows: pd.DataFrame) -> None:\n",
    "        pass"
   ]
  },
  {
   "cell_type": "code",
   "execution_count": 10,
   "id": "negative-services",
   "metadata": {},
   "outputs": [
    {
     "data": {
      "text/plain": [
       "0     True\n",
       "1    False\n",
       "2    False\n",
       "3    False\n",
       "4    False\n",
       "Name: color, dtype: bool"
      ]
     },
     "execution_count": 10,
     "metadata": {},
     "output_type": "execute_result"
    },
    {
     "data": {
      "application/javascript": [
       "\n",
       "            setTimeout(function() {\n",
       "                var nbb_cell_id = 10;\n",
       "                var nbb_unformatted_code = \"q_eg = Question(feature=\\\"color\\\", value=\\\"Green\\\")\\nq_eg.ask(training_data)\";\n",
       "                var nbb_formatted_code = \"q_eg = Question(feature=\\\"color\\\", value=\\\"Green\\\")\\nq_eg.ask(training_data)\";\n",
       "                var nbb_cells = Jupyter.notebook.get_cells();\n",
       "                for (var i = 0; i < nbb_cells.length; ++i) {\n",
       "                    if (nbb_cells[i].input_prompt_number == nbb_cell_id) {\n",
       "                        if (nbb_cells[i].get_text() == nbb_unformatted_code) {\n",
       "                             nbb_cells[i].set_text(nbb_formatted_code);\n",
       "                        }\n",
       "                        break;\n",
       "                    }\n",
       "                }\n",
       "            }, 500);\n",
       "            "
      ],
      "text/plain": [
       "<IPython.core.display.Javascript object>"
      ]
     },
     "metadata": {},
     "output_type": "display_data"
    }
   ],
   "source": [
    "q_eg = Question(feature=\"color\", value=\"Green\")\n",
    "q_eg.ask(training_data)"
   ]
  },
  {
   "cell_type": "code",
   "execution_count": 62,
   "id": "strong-little",
   "metadata": {},
   "outputs": [
    {
     "data": {
      "application/javascript": [
       "\n",
       "            setTimeout(function() {\n",
       "                var nbb_cell_id = 62;\n",
       "                var nbb_unformatted_code = \"mod = DecisionTree(features=[\\\"color\\\", \\\"diameter\\\"])\";\n",
       "                var nbb_formatted_code = \"mod = DecisionTree(features=[\\\"color\\\", \\\"diameter\\\"])\";\n",
       "                var nbb_cells = Jupyter.notebook.get_cells();\n",
       "                for (var i = 0; i < nbb_cells.length; ++i) {\n",
       "                    if (nbb_cells[i].input_prompt_number == nbb_cell_id) {\n",
       "                        if (nbb_cells[i].get_text() == nbb_unformatted_code) {\n",
       "                             nbb_cells[i].set_text(nbb_formatted_code);\n",
       "                        }\n",
       "                        break;\n",
       "                    }\n",
       "                }\n",
       "            }, 500);\n",
       "            "
      ],
      "text/plain": [
       "<IPython.core.display.Javascript object>"
      ]
     },
     "metadata": {},
     "output_type": "display_data"
    }
   ],
   "source": [
    "mod = DecisionTree(features=[\"color\", \"diameter\"])"
   ]
  },
  {
   "cell_type": "code",
   "execution_count": 63,
   "id": "stable-oxford",
   "metadata": {},
   "outputs": [
    {
     "data": {
      "application/javascript": [
       "\n",
       "            setTimeout(function() {\n",
       "                var nbb_cell_id = 63;\n",
       "                var nbb_unformatted_code = \"tree = mod.build_tree(training_data)\";\n",
       "                var nbb_formatted_code = \"tree = mod.build_tree(training_data)\";\n",
       "                var nbb_cells = Jupyter.notebook.get_cells();\n",
       "                for (var i = 0; i < nbb_cells.length; ++i) {\n",
       "                    if (nbb_cells[i].input_prompt_number == nbb_cell_id) {\n",
       "                        if (nbb_cells[i].get_text() == nbb_unformatted_code) {\n",
       "                             nbb_cells[i].set_text(nbb_formatted_code);\n",
       "                        }\n",
       "                        break;\n",
       "                    }\n",
       "                }\n",
       "            }, 500);\n",
       "            "
      ],
      "text/plain": [
       "<IPython.core.display.Javascript object>"
      ]
     },
     "metadata": {},
     "output_type": "display_data"
    }
   ],
   "source": [
    "tree = mod.build_tree(training_data)"
   ]
  },
  {
   "cell_type": "code",
   "execution_count": 37,
   "id": "chemical-probability",
   "metadata": {},
   "outputs": [
    {
     "data": {
      "text/plain": [
       "<__main__.DecisionNode at 0x7fe45dca7a90>"
      ]
     },
     "execution_count": 37,
     "metadata": {},
     "output_type": "execute_result"
    },
    {
     "data": {
      "application/javascript": [
       "\n",
       "            setTimeout(function() {\n",
       "                var nbb_cell_id = 37;\n",
       "                var nbb_unformatted_code = \"tree\";\n",
       "                var nbb_formatted_code = \"tree\";\n",
       "                var nbb_cells = Jupyter.notebook.get_cells();\n",
       "                for (var i = 0; i < nbb_cells.length; ++i) {\n",
       "                    if (nbb_cells[i].input_prompt_number == nbb_cell_id) {\n",
       "                        if (nbb_cells[i].get_text() == nbb_unformatted_code) {\n",
       "                             nbb_cells[i].set_text(nbb_formatted_code);\n",
       "                        }\n",
       "                        break;\n",
       "                    }\n",
       "                }\n",
       "            }, 500);\n",
       "            "
      ],
      "text/plain": [
       "<IPython.core.display.Javascript object>"
      ]
     },
     "metadata": {},
     "output_type": "display_data"
    }
   ],
   "source": [
    "tree"
   ]
  },
  {
   "cell_type": "code",
   "execution_count": 50,
   "id": "celtic-frederick",
   "metadata": {},
   "outputs": [
    {
     "data": {
      "application/javascript": [
       "\n",
       "            setTimeout(function() {\n",
       "                var nbb_cell_id = 50;\n",
       "                var nbb_unformatted_code = \"l = Leaf(rows=training_data)\";\n",
       "                var nbb_formatted_code = \"l = Leaf(rows=training_data)\";\n",
       "                var nbb_cells = Jupyter.notebook.get_cells();\n",
       "                for (var i = 0; i < nbb_cells.length; ++i) {\n",
       "                    if (nbb_cells[i].input_prompt_number == nbb_cell_id) {\n",
       "                        if (nbb_cells[i].get_text() == nbb_unformatted_code) {\n",
       "                             nbb_cells[i].set_text(nbb_formatted_code);\n",
       "                        }\n",
       "                        break;\n",
       "                    }\n",
       "                }\n",
       "            }, 500);\n",
       "            "
      ],
      "text/plain": [
       "<IPython.core.display.Javascript object>"
      ]
     },
     "metadata": {},
     "output_type": "display_data"
    }
   ],
   "source": [
    "l = Leaf(rows=training_data)"
   ]
  },
  {
   "cell_type": "code",
   "execution_count": 52,
   "id": "competitive-stanley",
   "metadata": {},
   "outputs": [
    {
     "name": "stdout",
     "output_type": "stream",
     "text": [
      "{'prob': {'Apple': 0.4, 'Grape': 0.4, 'Lemon': 0.2}}\n"
     ]
    },
    {
     "data": {
      "application/javascript": [
       "\n",
       "            setTimeout(function() {\n",
       "                var nbb_cell_id = 52;\n",
       "                var nbb_unformatted_code = \"print(l)\";\n",
       "                var nbb_formatted_code = \"print(l)\";\n",
       "                var nbb_cells = Jupyter.notebook.get_cells();\n",
       "                for (var i = 0; i < nbb_cells.length; ++i) {\n",
       "                    if (nbb_cells[i].input_prompt_number == nbb_cell_id) {\n",
       "                        if (nbb_cells[i].get_text() == nbb_unformatted_code) {\n",
       "                             nbb_cells[i].set_text(nbb_formatted_code);\n",
       "                        }\n",
       "                        break;\n",
       "                    }\n",
       "                }\n",
       "            }, 500);\n",
       "            "
      ],
      "text/plain": [
       "<IPython.core.display.Javascript object>"
      ]
     },
     "metadata": {},
     "output_type": "display_data"
    }
   ],
   "source": [
    "print(l)"
   ]
  },
  {
   "cell_type": "code",
   "execution_count": 132,
   "id": "friendly-junction",
   "metadata": {},
   "outputs": [
    {
     "data": {
      "application/javascript": [
       "\n",
       "            setTimeout(function() {\n",
       "                var nbb_cell_id = 132;\n",
       "                var nbb_unformatted_code = \"def print_tree(node: Union[DecisionNode, Leaf], level=0) -> None:\\n    prefix = \\\" \\\" * 2 ** level + \\\"|__\\\" if level > 0 else \\\"\\\"\\n\\n    if isinstance(node, Leaf):\\n        print(prefix, node)\\n        return\\n\\n    print(prefix, node.question)\\n\\n    print_tree(node.true_node, level=level + 1)\\n    print_tree(node.false_node, level=level + 1)\\n\\n\\ndef predict(node, row: pd.DataFrame, level=0):\\n    prefix = \\\" \\\" * 2 ** level + \\\"|__\\\" if level > 0 else \\\"\\\"\\n\\n    if isinstance(node, Leaf):\\n        return node.class_probs\\n    print(prefix, node.question)\\n    is_cond_true = node.question.ask(row)\\n    print(prefix, is_cond_true.values)\\n    if all(is_cond_true):\\n        return predict(node=node.true_node, row=row)\\n    else:\\n        return predict(node=node.false_node, row=row)\";\n",
       "                var nbb_formatted_code = \"def print_tree(node: Union[DecisionNode, Leaf], level=0) -> None:\\n    prefix = \\\" \\\" * 2 ** level + \\\"|__\\\" if level > 0 else \\\"\\\"\\n\\n    if isinstance(node, Leaf):\\n        print(prefix, node)\\n        return\\n\\n    print(prefix, node.question)\\n\\n    print_tree(node.true_node, level=level + 1)\\n    print_tree(node.false_node, level=level + 1)\\n\\n\\ndef predict(node, row: pd.DataFrame, level=0):\\n    prefix = \\\" \\\" * 2 ** level + \\\"|__\\\" if level > 0 else \\\"\\\"\\n\\n    if isinstance(node, Leaf):\\n        return node.class_probs\\n    print(prefix, node.question)\\n    is_cond_true = node.question.ask(row)\\n    print(prefix, is_cond_true.values)\\n    if all(is_cond_true):\\n        return predict(node=node.true_node, row=row)\\n    else:\\n        return predict(node=node.false_node, row=row)\";\n",
       "                var nbb_cells = Jupyter.notebook.get_cells();\n",
       "                for (var i = 0; i < nbb_cells.length; ++i) {\n",
       "                    if (nbb_cells[i].input_prompt_number == nbb_cell_id) {\n",
       "                        if (nbb_cells[i].get_text() == nbb_unformatted_code) {\n",
       "                             nbb_cells[i].set_text(nbb_formatted_code);\n",
       "                        }\n",
       "                        break;\n",
       "                    }\n",
       "                }\n",
       "            }, 500);\n",
       "            "
      ],
      "text/plain": [
       "<IPython.core.display.Javascript object>"
      ]
     },
     "metadata": {},
     "output_type": "display_data"
    }
   ],
   "source": [
    "def print_tree(node: Union[DecisionNode, Leaf], level=0) -> None:\n",
    "    prefix = \" \" * 2 ** level + \"|__\" if level > 0 else \"\"\n",
    "\n",
    "    if isinstance(node, Leaf):\n",
    "        print(prefix, node)\n",
    "        return\n",
    "\n",
    "    print(prefix, node.question)\n",
    "\n",
    "    print_tree(node.true_node, level=level + 1)\n",
    "    print_tree(node.false_node, level=level + 1)\n",
    "\n",
    "\n",
    "def predict(node, row: pd.DataFrame, level=0):\n",
    "    prefix = \" \" * 2 ** level + \"|__\" if level > 0 else \"\"\n",
    "\n",
    "    if isinstance(node, Leaf):\n",
    "        return node.class_probs\n",
    "    print(prefix, node.question)\n",
    "    is_cond_true = node.question.ask(row)\n",
    "    print(prefix, is_cond_true.values)\n",
    "    if is_cond_true.values[0]:\n",
    "        return predict(node=node.true_node, row=row)\n",
    "    else:\n",
    "        return predict(node=node.false_node, row=row)"
   ]
  },
  {
   "cell_type": "code",
   "execution_count": 108,
   "id": "separate-horizontal",
   "metadata": {},
   "outputs": [
    {
     "name": "stdout",
     "output_type": "stream",
     "text": [
      " Is diameter >= 3?\n",
      "  |__ Is color == Yellow?\n",
      "    |__ {'prob': {'Apple': 0.5, 'Lemon': 0.5}}\n",
      "    |__ {'prob': {'Apple': 1.0}}\n",
      "  |__ {'prob': {'Grape': 1.0}}\n"
     ]
    },
    {
     "data": {
      "application/javascript": [
       "\n",
       "            setTimeout(function() {\n",
       "                var nbb_cell_id = 108;\n",
       "                var nbb_unformatted_code = \"print_tree(tree)\";\n",
       "                var nbb_formatted_code = \"print_tree(tree)\";\n",
       "                var nbb_cells = Jupyter.notebook.get_cells();\n",
       "                for (var i = 0; i < nbb_cells.length; ++i) {\n",
       "                    if (nbb_cells[i].input_prompt_number == nbb_cell_id) {\n",
       "                        if (nbb_cells[i].get_text() == nbb_unformatted_code) {\n",
       "                             nbb_cells[i].set_text(nbb_formatted_code);\n",
       "                        }\n",
       "                        break;\n",
       "                    }\n",
       "                }\n",
       "            }, 500);\n",
       "            "
      ],
      "text/plain": [
       "<IPython.core.display.Javascript object>"
      ]
     },
     "metadata": {},
     "output_type": "display_data"
    }
   ],
   "source": [
    "print_tree(tree)"
   ]
  },
  {
   "cell_type": "code",
   "execution_count": 76,
   "id": "ancient-navigator",
   "metadata": {},
   "outputs": [
    {
     "data": {
      "application/javascript": [
       "\n",
       "            setTimeout(function() {\n",
       "                var nbb_cell_id = 76;\n",
       "                var nbb_unformatted_code = \"mod = DecisionTree(features=[\\\"color\\\", \\\"diameter\\\"])\\ntree = mod.build_tree(training_data)\";\n",
       "                var nbb_formatted_code = \"mod = DecisionTree(features=[\\\"color\\\", \\\"diameter\\\"])\\ntree = mod.build_tree(training_data)\";\n",
       "                var nbb_cells = Jupyter.notebook.get_cells();\n",
       "                for (var i = 0; i < nbb_cells.length; ++i) {\n",
       "                    if (nbb_cells[i].input_prompt_number == nbb_cell_id) {\n",
       "                        if (nbb_cells[i].get_text() == nbb_unformatted_code) {\n",
       "                             nbb_cells[i].set_text(nbb_formatted_code);\n",
       "                        }\n",
       "                        break;\n",
       "                    }\n",
       "                }\n",
       "            }, 500);\n",
       "            "
      ],
      "text/plain": [
       "<IPython.core.display.Javascript object>"
      ]
     },
     "metadata": {},
     "output_type": "display_data"
    }
   ],
   "source": [
    "mod = DecisionTree(features=[\"color\", \"diameter\"])\n",
    "tree = mod.build_tree(training_data)"
   ]
  },
  {
   "cell_type": "code",
   "execution_count": 133,
   "id": "cosmetic-hunger",
   "metadata": {},
   "outputs": [
    {
     "name": "stdout",
     "output_type": "stream",
     "text": [
      " Is diameter >= 3?\n",
      " [False]\n"
     ]
    },
    {
     "data": {
      "text/plain": [
       "{'prob': {'Grape': 1.0}}"
      ]
     },
     "execution_count": 133,
     "metadata": {},
     "output_type": "execute_result"
    },
    {
     "data": {
      "application/javascript": [
       "\n",
       "            setTimeout(function() {\n",
       "                var nbb_cell_id = 133;\n",
       "                var nbb_unformatted_code = \"testing_data = pd.DataFrame(\\n    [\\n        [\\\"Green\\\", 3, \\\"Apple\\\"],\\n        [\\\"Yellow\\\", 4, \\\"Apple\\\"],\\n        [\\\"Red\\\", 2, \\\"Grape\\\"],\\n        [\\\"Red\\\", 1, \\\"Grape\\\"],\\n        [\\\"Yellow\\\", 3, \\\"Lemon\\\"],\\n    ],\\n    columns=[\\\"color\\\", \\\"diameter\\\", \\\"label\\\"],\\n)\\n\\npredict(tree, testing_data[3:4])\";\n",
       "                var nbb_formatted_code = \"testing_data = pd.DataFrame(\\n    [\\n        [\\\"Green\\\", 3, \\\"Apple\\\"],\\n        [\\\"Yellow\\\", 4, \\\"Apple\\\"],\\n        [\\\"Red\\\", 2, \\\"Grape\\\"],\\n        [\\\"Red\\\", 1, \\\"Grape\\\"],\\n        [\\\"Yellow\\\", 3, \\\"Lemon\\\"],\\n    ],\\n    columns=[\\\"color\\\", \\\"diameter\\\", \\\"label\\\"],\\n)\\n\\npredict(tree, testing_data[3:4])\";\n",
       "                var nbb_cells = Jupyter.notebook.get_cells();\n",
       "                for (var i = 0; i < nbb_cells.length; ++i) {\n",
       "                    if (nbb_cells[i].input_prompt_number == nbb_cell_id) {\n",
       "                        if (nbb_cells[i].get_text() == nbb_unformatted_code) {\n",
       "                             nbb_cells[i].set_text(nbb_formatted_code);\n",
       "                        }\n",
       "                        break;\n",
       "                    }\n",
       "                }\n",
       "            }, 500);\n",
       "            "
      ],
      "text/plain": [
       "<IPython.core.display.Javascript object>"
      ]
     },
     "metadata": {},
     "output_type": "display_data"
    }
   ],
   "source": [
    "testing_data = pd.DataFrame(\n",
    "    [\n",
    "        [\"Green\", 3, \"Apple\"],\n",
    "        [\"Yellow\", 4, \"Apple\"],\n",
    "        [\"Red\", 2, \"Grape\"],\n",
    "        [\"Red\", 1, \"Grape\"],\n",
    "        [\"Yellow\", 3, \"Lemon\"],\n",
    "    ],\n",
    "    columns=[\"color\", \"diameter\", \"label\"],\n",
    ")\n",
    "\n",
    "predict(tree, testing_data[3:4])"
   ]
  },
  {
   "cell_type": "code",
   "execution_count": null,
   "id": "smooth-explorer",
   "metadata": {},
   "outputs": [],
   "source": []
  },
  {
   "cell_type": "code",
   "execution_count": null,
   "id": "crude-canberra",
   "metadata": {},
   "outputs": [],
   "source": []
  },
  {
   "cell_type": "code",
   "execution_count": 104,
   "id": "eight-chrome",
   "metadata": {},
   "outputs": [
    {
     "data": {
      "text/plain": [
       "{'prob': {'Grape': 1.0}}"
      ]
     },
     "execution_count": 104,
     "metadata": {},
     "output_type": "execute_result"
    },
    {
     "data": {
      "application/javascript": [
       "\n",
       "            setTimeout(function() {\n",
       "                var nbb_cell_id = 104;\n",
       "                var nbb_unformatted_code = \"tree.false_node \";\n",
       "                var nbb_formatted_code = \"tree.false_node\";\n",
       "                var nbb_cells = Jupyter.notebook.get_cells();\n",
       "                for (var i = 0; i < nbb_cells.length; ++i) {\n",
       "                    if (nbb_cells[i].input_prompt_number == nbb_cell_id) {\n",
       "                        if (nbb_cells[i].get_text() == nbb_unformatted_code) {\n",
       "                             nbb_cells[i].set_text(nbb_formatted_code);\n",
       "                        }\n",
       "                        break;\n",
       "                    }\n",
       "                }\n",
       "            }, 500);\n",
       "            "
      ],
      "text/plain": [
       "<IPython.core.display.Javascript object>"
      ]
     },
     "metadata": {},
     "output_type": "display_data"
    }
   ],
   "source": [
    "tree.false_node"
   ]
  },
  {
   "cell_type": "code",
   "execution_count": null,
   "id": "subsequent-glasgow",
   "metadata": {},
   "outputs": [],
   "source": []
  }
 ],
 "metadata": {
  "kernelspec": {
   "display_name": "Python 3",
   "language": "python",
   "name": "python3"
  },
  "language_info": {
   "codemirror_mode": {
    "name": "ipython",
    "version": 3
   },
   "file_extension": ".py",
   "mimetype": "text/x-python",
   "name": "python",
   "nbconvert_exporter": "python",
   "pygments_lexer": "ipython3",
   "version": "3.7.9"
  }
 },
 "nbformat": 4,
 "nbformat_minor": 5
}
