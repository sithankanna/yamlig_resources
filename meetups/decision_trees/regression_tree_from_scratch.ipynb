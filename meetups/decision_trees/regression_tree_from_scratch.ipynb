{
 "cells": [
  {
   "cell_type": "code",
   "execution_count": 2,
   "id": "ranking-promise",
   "metadata": {},
   "outputs": [
    {
     "data": {
      "text/html": [
       "<style>.container { width:90% !important; }</style>"
      ],
      "text/plain": [
       "<IPython.core.display.HTML object>"
      ]
     },
     "metadata": {},
     "output_type": "display_data"
    },
    {
     "data": {
      "application/javascript": [
       "\n",
       "            setTimeout(function() {\n",
       "                var nbb_cell_id = 2;\n",
       "                var nbb_unformatted_code = \"%load_ext nb_black\\nfrom IPython.core.display import display, HTML\\n\\ndisplay(HTML(\\\"<style>.container { width:90% !important; }</style>\\\"))\";\n",
       "                var nbb_formatted_code = \"%load_ext nb_black\\nfrom IPython.core.display import display, HTML\\n\\ndisplay(HTML(\\\"<style>.container { width:90% !important; }</style>\\\"))\";\n",
       "                var nbb_cells = Jupyter.notebook.get_cells();\n",
       "                for (var i = 0; i < nbb_cells.length; ++i) {\n",
       "                    if (nbb_cells[i].input_prompt_number == nbb_cell_id) {\n",
       "                        if (nbb_cells[i].get_text() == nbb_unformatted_code) {\n",
       "                             nbb_cells[i].set_text(nbb_formatted_code);\n",
       "                        }\n",
       "                        break;\n",
       "                    }\n",
       "                }\n",
       "            }, 500);\n",
       "            "
      ],
      "text/plain": [
       "<IPython.core.display.Javascript object>"
      ]
     },
     "metadata": {},
     "output_type": "display_data"
    }
   ],
   "source": [
    "%load_ext nb_black\n",
    "from IPython.core.display import display, HTML\n",
    "\n",
    "display(HTML(\"<style>.container { width:90% !important; }</style>\"))"
   ]
  },
  {
   "cell_type": "code",
   "execution_count": 3,
   "id": "opponent-steering",
   "metadata": {},
   "outputs": [
    {
     "data": {
      "application/javascript": [
       "\n",
       "            setTimeout(function() {\n",
       "                var nbb_cell_id = 3;\n",
       "                var nbb_unformatted_code = \"import pandas as pd\\nimport numpy as np\\nfrom typing import Tuple, Union, Dict, List\";\n",
       "                var nbb_formatted_code = \"import pandas as pd\\nimport numpy as np\\nfrom typing import Tuple, Union, Dict, List\";\n",
       "                var nbb_cells = Jupyter.notebook.get_cells();\n",
       "                for (var i = 0; i < nbb_cells.length; ++i) {\n",
       "                    if (nbb_cells[i].input_prompt_number == nbb_cell_id) {\n",
       "                        if (nbb_cells[i].get_text() == nbb_unformatted_code) {\n",
       "                             nbb_cells[i].set_text(nbb_formatted_code);\n",
       "                        }\n",
       "                        break;\n",
       "                    }\n",
       "                }\n",
       "            }, 500);\n",
       "            "
      ],
      "text/plain": [
       "<IPython.core.display.Javascript object>"
      ]
     },
     "metadata": {},
     "output_type": "display_data"
    }
   ],
   "source": [
    "import pandas as pd\n",
    "import numpy as np\n",
    "from typing import Tuple, Union, Dict, List"
   ]
  },
  {
   "cell_type": "code",
   "execution_count": 69,
   "id": "single-niger",
   "metadata": {},
   "outputs": [
    {
     "data": {
      "application/javascript": [
       "\n",
       "            setTimeout(function() {\n",
       "                var nbb_cell_id = 69;\n",
       "                var nbb_unformatted_code = \"import matplotlib.pyplot as plt\";\n",
       "                var nbb_formatted_code = \"import matplotlib.pyplot as plt\";\n",
       "                var nbb_cells = Jupyter.notebook.get_cells();\n",
       "                for (var i = 0; i < nbb_cells.length; ++i) {\n",
       "                    if (nbb_cells[i].input_prompt_number == nbb_cell_id) {\n",
       "                        if (nbb_cells[i].get_text() == nbb_unformatted_code) {\n",
       "                             nbb_cells[i].set_text(nbb_formatted_code);\n",
       "                        }\n",
       "                        break;\n",
       "                    }\n",
       "                }\n",
       "            }, 500);\n",
       "            "
      ],
      "text/plain": [
       "<IPython.core.display.Javascript object>"
      ]
     },
     "metadata": {},
     "output_type": "display_data"
    }
   ],
   "source": [
    "import matplotlib.pyplot as plt"
   ]
  },
  {
   "cell_type": "code",
   "execution_count": 102,
   "id": "exciting-learning",
   "metadata": {},
   "outputs": [
    {
     "data": {
      "application/javascript": [
       "\n",
       "            setTimeout(function() {\n",
       "                var nbb_cell_id = 102;\n",
       "                var nbb_unformatted_code = \"class DecisionNode:\\n    def __init__(self, question, true_node, false_node):\\n        self.question = question\\n        self.true_node = true_node\\n        self.false_node = false_node\\n\\n\\nclass Leaf:\\n    \\\"\\\"\\\"Just want the class probabilities\\\"\\\"\\\"\\n\\n    def __init__(self, rows):\\n        self.mean = self.find_leaf_mean(rows)\\n\\n    def find_leaf_mean(self, rows: pd.DataFrame) -> Dict:\\n        return np.mean(rows[\\\"label\\\"])\\n\\n    def __repr__(self) -> str:\\n        return str(self.mean)\\n\\n\\nclass Question:\\n    def __init__(self, feature: str, value: Union[str, float, int]):\\n        self.feature = feature\\n        self.value = value\\n        self.is_numeric_feature = self.is_numeric(value)\\n\\n    @staticmethod\\n    def is_numeric(value):\\n        \\\"\\\"\\\"Test if a value is numeric.\\\"\\\"\\\"\\n        return isinstance(value, int) or isinstance(value, float)\\n\\n    def ask(self, rows: pd.DataFrame) -> pd.Series:\\n        if self.is_numeric_feature:\\n            answer = rows[self.feature] >= self.value\\n        else:\\n            answer = rows[self.feature] == self.value\\n\\n        return answer\\n\\n    def __repr__(self) -> str:\\n        if self.is_numeric_feature:\\n            return f\\\"Is {self.feature} >= {self.value}?\\\"\\n        else:\\n            return f\\\"Is {self.feature} == {self.value}?\\\"\\n\\n\\n# At every node I want to find the best question\\nclass RegressionTree:\\n    def __init__(self, features):\\n        self.features = features\\n\\n    @staticmethod\\n    def gini(rows: pd.DataFrame) -> pd.DataFrame:\\n        n = len(rows)\\n        clas_prob = rows.groupby(\\\"label\\\").agg(**{\\\"prob\\\": (\\\"label\\\", \\\"count\\\")}) / n\\n        return 1 - np.sum(clas_prob[\\\"prob\\\"] ** 2)\\n\\n    @staticmethod\\n    def variance(rows: pd.DataFrame) -> pd.DataFrame:\\n        return np.var(rows[\\\"label\\\"])\\n\\n    def weighted_average_gini(self, true_values, false_values):\\n        n_true = len(true_values)\\n        n_false = len(false_values)\\n        n = n_true + n_false\\n        weighted_gini = (n_true / n) * self.gini(true_values) + (\\n            n_false / n\\n        ) * self.gini(false_values)\\n        return weighted_gini\\n\\n    def weighted_average_variance(self, true_values, false_values):\\n        n_true = len(true_values)\\n        n_false = len(false_values)\\n        n = n_true + n_false\\n        weighted_var = (n_true / n) * self.variance(true_values) + (\\n            n_false / n\\n        ) * self.variance(false_values)\\n        return weighted_var\\n\\n    def find_unique_values(self, series: pd.Series) -> List:\\n        return series.drop_duplicates().to_list()\\n\\n    def find_best_question(self, rows: pd.DataFrame) -> Tuple[Question, float]:\\n        # For a data set, what is the bets question I can ask to split the data\\n        # for every feature I want to create a bunch of questions\\n        # I want to find the question which reduces the gini the most\\n        # #\\n        variance_before_split = self.variance(rows)\\n\\n        best_question = None\\n        best_gain = 0\\n\\n        for feat in self.features:\\n            possible_vals = self.find_unique_values(rows[feat])\\n            for val in possible_vals:\\n                q = Question(feature=feat, value=val)\\n                is_cond_true = q.ask(rows=rows)\\n                true_rows, false_rows = rows[is_cond_true], rows[~is_cond_true]\\n                # get weighted average gini\\n                variance_after_split = self.weighted_average_variance(\\n                    true_rows, false_rows\\n                )\\n                # find the information gain from asking the question\\n                info_gain = variance_before_split - variance_after_split\\n                if (\\n                    (info_gain >= best_gain)\\n                    & (len(true_rows) > 2)\\n                    & (len(false_rows) > 2)\\n                ):\\n                    best_question = q\\n                    best_gain = info_gain\\n\\n        return best_question, best_gain\\n\\n    def split(\\n        self, rows: pd.DataFrame, question: Question\\n    ) -> Tuple[pd.DataFrame, pd.DataFrame]:\\n        \\\"\\\"\\\"Return the data for the left and right nodes \\\"\\\"\\\"\\n\\n        is_cond_true = question.ask(rows=rows)\\n        true_rows, false_rows = rows[is_cond_true], rows[~is_cond_true]\\n\\n        return true_rows, false_rows\\n\\n    def build_tree(self, rows: pd.DataFrame) -> DecisionNode:\\n        question_, gain_ = self.find_best_question(rows)\\n\\n        if gain_ == 0:\\n            return Leaf(rows=rows)\\n\\n        true_rows, false_rows = self.split(rows=rows, question=question_)\\n\\n        return DecisionNode(\\n            question=question_,\\n            true_node=self.build_tree(true_rows),\\n            false_node=self.build_tree(false_rows),\\n        )\\n\\n    def fit(rows: pd.DataFrame) -> None:\\n        pass\\n\\n\\ndef print_tree(node: Union[DecisionNode, Leaf], level=0) -> None:\\n    prefix = \\\" \\\" * 2 ** level + \\\"|__\\\" if level > 0 else \\\"\\\"\\n\\n    if isinstance(node, Leaf):\\n        print(prefix, node)\\n        return\\n\\n    print(prefix, node.question)\\n\\n    print_tree(node.true_node, level=level + 1)\\n    print_tree(node.false_node, level=level + 1)\\n\\n\\ndef predict(node, row: pd.DataFrame, level=0):\\n    prefix = \\\" \\\" * 2 ** level + \\\"|__\\\" if level > 0 else \\\"\\\"\\n\\n    if isinstance(node, Leaf):\\n        return node.mean\\n    is_cond_true = node.question.ask(row)\\n\\n    if is_cond_true.values[0]:\\n        return predict(node=node.true_node, row=row)\\n    else:\\n        return predict(node=node.false_node, row=row)\";\n",
       "                var nbb_formatted_code = \"class DecisionNode:\\n    def __init__(self, question, true_node, false_node):\\n        self.question = question\\n        self.true_node = true_node\\n        self.false_node = false_node\\n\\n\\nclass Leaf:\\n    \\\"\\\"\\\"Just want the class probabilities\\\"\\\"\\\"\\n\\n    def __init__(self, rows):\\n        self.mean = self.find_leaf_mean(rows)\\n\\n    def find_leaf_mean(self, rows: pd.DataFrame) -> Dict:\\n        return np.mean(rows[\\\"label\\\"])\\n\\n    def __repr__(self) -> str:\\n        return str(self.mean)\\n\\n\\nclass Question:\\n    def __init__(self, feature: str, value: Union[str, float, int]):\\n        self.feature = feature\\n        self.value = value\\n        self.is_numeric_feature = self.is_numeric(value)\\n\\n    @staticmethod\\n    def is_numeric(value):\\n        \\\"\\\"\\\"Test if a value is numeric.\\\"\\\"\\\"\\n        return isinstance(value, int) or isinstance(value, float)\\n\\n    def ask(self, rows: pd.DataFrame) -> pd.Series:\\n        if self.is_numeric_feature:\\n            answer = rows[self.feature] >= self.value\\n        else:\\n            answer = rows[self.feature] == self.value\\n\\n        return answer\\n\\n    def __repr__(self) -> str:\\n        if self.is_numeric_feature:\\n            return f\\\"Is {self.feature} >= {self.value}?\\\"\\n        else:\\n            return f\\\"Is {self.feature} == {self.value}?\\\"\\n\\n\\n# At every node I want to find the best question\\nclass RegressionTree:\\n    def __init__(self, features):\\n        self.features = features\\n\\n    @staticmethod\\n    def gini(rows: pd.DataFrame) -> pd.DataFrame:\\n        n = len(rows)\\n        clas_prob = rows.groupby(\\\"label\\\").agg(**{\\\"prob\\\": (\\\"label\\\", \\\"count\\\")}) / n\\n        return 1 - np.sum(clas_prob[\\\"prob\\\"] ** 2)\\n\\n    @staticmethod\\n    def variance(rows: pd.DataFrame) -> pd.DataFrame:\\n        return np.var(rows[\\\"label\\\"])\\n\\n    def weighted_average_gini(self, true_values, false_values):\\n        n_true = len(true_values)\\n        n_false = len(false_values)\\n        n = n_true + n_false\\n        weighted_gini = (n_true / n) * self.gini(true_values) + (\\n            n_false / n\\n        ) * self.gini(false_values)\\n        return weighted_gini\\n\\n    def weighted_average_variance(self, true_values, false_values):\\n        n_true = len(true_values)\\n        n_false = len(false_values)\\n        n = n_true + n_false\\n        weighted_var = (n_true / n) * self.variance(true_values) + (\\n            n_false / n\\n        ) * self.variance(false_values)\\n        return weighted_var\\n\\n    def find_unique_values(self, series: pd.Series) -> List:\\n        return series.drop_duplicates().to_list()\\n\\n    def find_best_question(self, rows: pd.DataFrame) -> Tuple[Question, float]:\\n        # For a data set, what is the bets question I can ask to split the data\\n        # for every feature I want to create a bunch of questions\\n        # I want to find the question which reduces the gini the most\\n        # #\\n        variance_before_split = self.variance(rows)\\n\\n        best_question = None\\n        best_gain = 0\\n\\n        for feat in self.features:\\n            possible_vals = self.find_unique_values(rows[feat])\\n            for val in possible_vals:\\n                q = Question(feature=feat, value=val)\\n                is_cond_true = q.ask(rows=rows)\\n                true_rows, false_rows = rows[is_cond_true], rows[~is_cond_true]\\n                # get weighted average gini\\n                variance_after_split = self.weighted_average_variance(\\n                    true_rows, false_rows\\n                )\\n                # find the information gain from asking the question\\n                info_gain = variance_before_split - variance_after_split\\n                if (\\n                    (info_gain >= best_gain)\\n                    & (len(true_rows) > 2)\\n                    & (len(false_rows) > 2)\\n                ):\\n                    best_question = q\\n                    best_gain = info_gain\\n\\n        return best_question, best_gain\\n\\n    def split(\\n        self, rows: pd.DataFrame, question: Question\\n    ) -> Tuple[pd.DataFrame, pd.DataFrame]:\\n        \\\"\\\"\\\"Return the data for the left and right nodes \\\"\\\"\\\"\\n\\n        is_cond_true = question.ask(rows=rows)\\n        true_rows, false_rows = rows[is_cond_true], rows[~is_cond_true]\\n\\n        return true_rows, false_rows\\n\\n    def build_tree(self, rows: pd.DataFrame) -> DecisionNode:\\n        question_, gain_ = self.find_best_question(rows)\\n\\n        if gain_ == 0:\\n            return Leaf(rows=rows)\\n\\n        true_rows, false_rows = self.split(rows=rows, question=question_)\\n\\n        return DecisionNode(\\n            question=question_,\\n            true_node=self.build_tree(true_rows),\\n            false_node=self.build_tree(false_rows),\\n        )\\n\\n    def fit(rows: pd.DataFrame) -> None:\\n        pass\\n\\n\\ndef print_tree(node: Union[DecisionNode, Leaf], level=0) -> None:\\n    prefix = \\\" \\\" * 2 ** level + \\\"|__\\\" if level > 0 else \\\"\\\"\\n\\n    if isinstance(node, Leaf):\\n        print(prefix, node)\\n        return\\n\\n    print(prefix, node.question)\\n\\n    print_tree(node.true_node, level=level + 1)\\n    print_tree(node.false_node, level=level + 1)\\n\\n\\ndef predict(node, row: pd.DataFrame, level=0):\\n    prefix = \\\" \\\" * 2 ** level + \\\"|__\\\" if level > 0 else \\\"\\\"\\n\\n    if isinstance(node, Leaf):\\n        return node.mean\\n    is_cond_true = node.question.ask(row)\\n\\n    if is_cond_true.values[0]:\\n        return predict(node=node.true_node, row=row)\\n    else:\\n        return predict(node=node.false_node, row=row)\";\n",
       "                var nbb_cells = Jupyter.notebook.get_cells();\n",
       "                for (var i = 0; i < nbb_cells.length; ++i) {\n",
       "                    if (nbb_cells[i].input_prompt_number == nbb_cell_id) {\n",
       "                        if (nbb_cells[i].get_text() == nbb_unformatted_code) {\n",
       "                             nbb_cells[i].set_text(nbb_formatted_code);\n",
       "                        }\n",
       "                        break;\n",
       "                    }\n",
       "                }\n",
       "            }, 500);\n",
       "            "
      ],
      "text/plain": [
       "<IPython.core.display.Javascript object>"
      ]
     },
     "metadata": {},
     "output_type": "display_data"
    }
   ],
   "source": [
    "class DecisionNode:\n",
    "    def __init__(self, question, true_node, false_node):\n",
    "        self.question = question\n",
    "        self.true_node = true_node\n",
    "        self.false_node = false_node\n",
    "\n",
    "\n",
    "class Leaf:\n",
    "    \"\"\"Just want the class probabilities\"\"\"\n",
    "\n",
    "    def __init__(self, rows):\n",
    "        self.mean = self.find_leaf_mean(rows)\n",
    "\n",
    "    def find_leaf_mean(self, rows: pd.DataFrame) -> Dict:\n",
    "        return np.mean(rows[\"label\"])\n",
    "\n",
    "    def __repr__(self) -> str:\n",
    "        return str(self.mean)\n",
    "\n",
    "\n",
    "class Question:\n",
    "    def __init__(self, feature: str, value: Union[str, float, int]):\n",
    "        self.feature = feature\n",
    "        self.value = value\n",
    "        self.is_numeric_feature = self.is_numeric(value)\n",
    "\n",
    "    @staticmethod\n",
    "    def is_numeric(value):\n",
    "        \"\"\"Test if a value is numeric.\"\"\"\n",
    "        return isinstance(value, int) or isinstance(value, float)\n",
    "\n",
    "    def ask(self, rows: pd.DataFrame) -> pd.Series:\n",
    "        if self.is_numeric_feature:\n",
    "            answer = rows[self.feature] >= self.value\n",
    "        else:\n",
    "            answer = rows[self.feature] == self.value\n",
    "\n",
    "        return answer\n",
    "\n",
    "    def __repr__(self) -> str:\n",
    "        if self.is_numeric_feature:\n",
    "            return f\"Is {self.feature} >= {self.value}?\"\n",
    "        else:\n",
    "            return f\"Is {self.feature} == {self.value}?\"\n",
    "\n",
    "\n",
    "# At every node I want to find the best question\n",
    "class RegressionTree:\n",
    "    def __init__(self, features):\n",
    "        self.features = features\n",
    "\n",
    "    @staticmethod\n",
    "    def gini(rows: pd.DataFrame) -> pd.DataFrame:\n",
    "        n = len(rows)\n",
    "        clas_prob = rows.groupby(\"label\").agg(**{\"prob\": (\"label\", \"count\")}) / n\n",
    "        return 1 - np.sum(clas_prob[\"prob\"] ** 2)\n",
    "\n",
    "    @staticmethod\n",
    "    def variance(rows: pd.DataFrame) -> pd.DataFrame:\n",
    "        return np.var(rows[\"label\"])\n",
    "\n",
    "    def weighted_average_gini(self, true_values, false_values):\n",
    "        n_true = len(true_values)\n",
    "        n_false = len(false_values)\n",
    "        n = n_true + n_false\n",
    "        weighted_gini = (n_true / n) * self.gini(true_values) + (\n",
    "            n_false / n\n",
    "        ) * self.gini(false_values)\n",
    "        return weighted_gini\n",
    "\n",
    "    def weighted_average_variance(self, true_values, false_values):\n",
    "        n_true = len(true_values)\n",
    "        n_false = len(false_values)\n",
    "        n = n_true + n_false\n",
    "        weighted_var = (n_true / n) * self.variance(true_values) + (\n",
    "            n_false / n\n",
    "        ) * self.variance(false_values)\n",
    "        return weighted_var\n",
    "\n",
    "    def find_unique_values(self, series: pd.Series) -> List:\n",
    "        return series.drop_duplicates().to_list()\n",
    "\n",
    "    def find_best_question(self, rows: pd.DataFrame) -> Tuple[Question, float]:\n",
    "        # For a data set, what is the bets question I can ask to split the data\n",
    "        # for every feature I want to create a bunch of questions\n",
    "        # I want to find the question which reduces the gini the most\n",
    "        # #\n",
    "        variance_before_split = self.variance(rows)\n",
    "\n",
    "        best_question = None\n",
    "        best_gain = 0\n",
    "\n",
    "        for feat in self.features:\n",
    "            possible_vals = self.find_unique_values(rows[feat])\n",
    "            for val in possible_vals:\n",
    "                q = Question(feature=feat, value=val)\n",
    "                is_cond_true = q.ask(rows=rows)\n",
    "                true_rows, false_rows = rows[is_cond_true], rows[~is_cond_true]\n",
    "                # get weighted average gini\n",
    "                variance_after_split = self.weighted_average_variance(\n",
    "                    true_rows, false_rows\n",
    "                )\n",
    "                # find the information gain from asking the question\n",
    "                info_gain = variance_before_split - variance_after_split\n",
    "                if (\n",
    "                    (info_gain >= best_gain)\n",
    "                    & (len(true_rows) > 2)\n",
    "                    & (len(false_rows) > 2)\n",
    "                ):\n",
    "                    best_question = q\n",
    "                    best_gain = info_gain\n",
    "\n",
    "        return best_question, best_gain\n",
    "\n",
    "    def split(\n",
    "        self, rows: pd.DataFrame, question: Question\n",
    "    ) -> Tuple[pd.DataFrame, pd.DataFrame]:\n",
    "        \"\"\"Return the data for the left and right nodes \"\"\"\n",
    "\n",
    "        is_cond_true = question.ask(rows=rows)\n",
    "        true_rows, false_rows = rows[is_cond_true], rows[~is_cond_true]\n",
    "\n",
    "        return true_rows, false_rows\n",
    "\n",
    "    def build_tree(self, rows: pd.DataFrame) -> DecisionNode:\n",
    "        question_, gain_ = self.find_best_question(rows)\n",
    "\n",
    "        if gain_ == 0:\n",
    "            return Leaf(rows=rows)\n",
    "\n",
    "        true_rows, false_rows = self.split(rows=rows, question=question_)\n",
    "\n",
    "        return DecisionNode(\n",
    "            question=question_,\n",
    "            true_node=self.build_tree(true_rows),\n",
    "            false_node=self.build_tree(false_rows),\n",
    "        )\n",
    "\n",
    "    def fit(rows: pd.DataFrame) -> None:\n",
    "        pass\n",
    "\n",
    "\n",
    "def print_tree(node: Union[DecisionNode, Leaf], level=0) -> None:\n",
    "    prefix = \" \" * 2 ** level + \"|__\" if level > 0 else \"\"\n",
    "\n",
    "    if isinstance(node, Leaf):\n",
    "        print(prefix, node)\n",
    "        return\n",
    "\n",
    "    print(prefix, node.question)\n",
    "\n",
    "    print_tree(node.true_node, level=level + 1)\n",
    "    print_tree(node.false_node, level=level + 1)\n",
    "\n",
    "\n",
    "def predict(node, row: pd.DataFrame, level=0):\n",
    "    prefix = \" \" * 2 ** level + \"|__\" if level > 0 else \"\"\n",
    "\n",
    "    if isinstance(node, Leaf):\n",
    "        return node.mean\n",
    "    is_cond_true = node.question.ask(row)\n",
    "\n",
    "    if is_cond_true.values[0]:\n",
    "        return predict(node=node.true_node, row=row)\n",
    "    else:\n",
    "        return predict(node=node.false_node, row=row)"
   ]
  },
  {
   "cell_type": "code",
   "execution_count": 63,
   "id": "qualified-musical",
   "metadata": {},
   "outputs": [
    {
     "data": {
      "text/html": [
       "<div>\n",
       "<style scoped>\n",
       "    .dataframe tbody tr th:only-of-type {\n",
       "        vertical-align: middle;\n",
       "    }\n",
       "\n",
       "    .dataframe tbody tr th {\n",
       "        vertical-align: top;\n",
       "    }\n",
       "\n",
       "    .dataframe thead th {\n",
       "        text-align: right;\n",
       "    }\n",
       "</style>\n",
       "<table border=\"1\" class=\"dataframe\">\n",
       "  <thead>\n",
       "    <tr style=\"text-align: right;\">\n",
       "      <th></th>\n",
       "      <th>color</th>\n",
       "      <th>label</th>\n",
       "    </tr>\n",
       "  </thead>\n",
       "  <tbody>\n",
       "    <tr>\n",
       "      <th>0</th>\n",
       "      <td>-50</td>\n",
       "      <td>1.0</td>\n",
       "    </tr>\n",
       "    <tr>\n",
       "      <th>1</th>\n",
       "      <td>20</td>\n",
       "      <td>2.0</td>\n",
       "    </tr>\n",
       "    <tr>\n",
       "      <th>2</th>\n",
       "      <td>20</td>\n",
       "      <td>2.5</td>\n",
       "    </tr>\n",
       "    <tr>\n",
       "      <th>3</th>\n",
       "      <td>20</td>\n",
       "      <td>2.0</td>\n",
       "    </tr>\n",
       "    <tr>\n",
       "      <th>4</th>\n",
       "      <td>-50</td>\n",
       "      <td>1.5</td>\n",
       "    </tr>\n",
       "  </tbody>\n",
       "</table>\n",
       "</div>"
      ],
      "text/plain": [
       "   color  label\n",
       "0    -50    1.0\n",
       "1     20    2.0\n",
       "2     20    2.5\n",
       "3     20    2.0\n",
       "4    -50    1.5"
      ]
     },
     "execution_count": 63,
     "metadata": {},
     "output_type": "execute_result"
    },
    {
     "data": {
      "application/javascript": [
       "\n",
       "            setTimeout(function() {\n",
       "                var nbb_cell_id = 63;\n",
       "                var nbb_unformatted_code = \"training_data = pd.DataFrame(\\n    [[-50, 1], [20, 2], [20, 2.5], [20, 2], [-50, 1.5],],\\n    columns=[\\\"color\\\", \\\"label\\\"],\\n)\\n\\ntraining_data\";\n",
       "                var nbb_formatted_code = \"training_data = pd.DataFrame(\\n    [[-50, 1], [20, 2], [20, 2.5], [20, 2], [-50, 1.5],], columns=[\\\"color\\\", \\\"label\\\"],\\n)\\n\\ntraining_data\";\n",
       "                var nbb_cells = Jupyter.notebook.get_cells();\n",
       "                for (var i = 0; i < nbb_cells.length; ++i) {\n",
       "                    if (nbb_cells[i].input_prompt_number == nbb_cell_id) {\n",
       "                        if (nbb_cells[i].get_text() == nbb_unformatted_code) {\n",
       "                             nbb_cells[i].set_text(nbb_formatted_code);\n",
       "                        }\n",
       "                        break;\n",
       "                    }\n",
       "                }\n",
       "            }, 500);\n",
       "            "
      ],
      "text/plain": [
       "<IPython.core.display.Javascript object>"
      ]
     },
     "metadata": {},
     "output_type": "display_data"
    }
   ],
   "source": [
    "training_data = pd.DataFrame(\n",
    "    [[-50, 1], [20, 2], [20, 2.5], [20, 2], [-50, 1.5],], columns=[\"color\", \"label\"],\n",
    ")\n",
    "\n",
    "training_data"
   ]
  },
  {
   "cell_type": "code",
   "execution_count": 103,
   "id": "confidential-check",
   "metadata": {},
   "outputs": [
    {
     "data": {
      "text/plain": [
       "<matplotlib.collections.PathCollection at 0x7fd834d0e950>"
      ]
     },
     "execution_count": 103,
     "metadata": {},
     "output_type": "execute_result"
    },
    {
     "data": {
      "image/png": "[encoded data removed]",
      "text/plain": [
       "<Figure size 432x288 with 1 Axes>"
      ]
     },
     "metadata": {
      "needs_background": "light"
     },
     "output_type": "display_data"
    },
    {
     "data": {
      "application/javascript": [
       "\n",
       "            setTimeout(function() {\n",
       "                var nbb_cell_id = 103;\n",
       "                var nbb_unformatted_code = \"training_data = pd.DataFrame(\\n    [\\n        # Regime 1\\n        [0.5, 1],\\n        [2, 2],\\n        [5, 2.5],\\n        [10.5, 4],\\n        [12.5, 3],\\n        # Regime 2\\n        [16, 99.0],\\n        [18, 99.0],\\n        [24, 100.0],\\n        [26.0, 100.0],\\n        # Regime 3\\n        [30, 72.0],\\n        [32, 68.0],\\n        [34, 54],\\n        [36.0, 40.0],\\n        # Regime 4\\n        [40.0, 8.0],\\n        [41.5, 7],\\n        [43, 4],\\n        [45.0, 3.2],\\n    ],\\n    columns=[\\\"dosage\\\", \\\"label\\\"],\\n)\\n\\nplt.scatter(x=training_data[\\\"dosage\\\"], y=training_data[\\\"label\\\"])\";\n",
       "                var nbb_formatted_code = \"training_data = pd.DataFrame(\\n    [\\n        # Regime 1\\n        [0.5, 1],\\n        [2, 2],\\n        [5, 2.5],\\n        [10.5, 4],\\n        [12.5, 3],\\n        # Regime 2\\n        [16, 99.0],\\n        [18, 99.0],\\n        [24, 100.0],\\n        [26.0, 100.0],\\n        # Regime 3\\n        [30, 72.0],\\n        [32, 68.0],\\n        [34, 54],\\n        [36.0, 40.0],\\n        # Regime 4\\n        [40.0, 8.0],\\n        [41.5, 7],\\n        [43, 4],\\n        [45.0, 3.2],\\n    ],\\n    columns=[\\\"dosage\\\", \\\"label\\\"],\\n)\\n\\nplt.scatter(x=training_data[\\\"dosage\\\"], y=training_data[\\\"label\\\"])\";\n",
       "                var nbb_cells = Jupyter.notebook.get_cells();\n",
       "                for (var i = 0; i < nbb_cells.length; ++i) {\n",
       "                    if (nbb_cells[i].input_prompt_number == nbb_cell_id) {\n",
       "                        if (nbb_cells[i].get_text() == nbb_unformatted_code) {\n",
       "                             nbb_cells[i].set_text(nbb_formatted_code);\n",
       "                        }\n",
       "                        break;\n",
       "                    }\n",
       "                }\n",
       "            }, 500);\n",
       "            "
      ],
      "text/plain": [
       "<IPython.core.display.Javascript object>"
      ]
     },
     "metadata": {},
     "output_type": "display_data"
    }
   ],
   "source": [
    "training_data = pd.DataFrame(\n",
    "    [\n",
    "        # Regime 1\n",
    "        [0.5, 1],\n",
    "        [2, 2],\n",
    "        [5, 2.5],\n",
    "        [10.5, 4],\n",
    "        [12.5, 3],\n",
    "        # Regime 2\n",
    "        [16, 99.0],\n",
    "        [18, 99.0],\n",
    "        [24, 100.0],\n",
    "        [26.0, 100.0],\n",
    "        # Regime 3\n",
    "        [30, 72.0],\n",
    "        [32, 68.0],\n",
    "        [34, 54],\n",
    "        [36.0, 40.0],\n",
    "        # Regime 4\n",
    "        [40.0, 8.0],\n",
    "        [41.5, 7],\n",
    "        [43, 4],\n",
    "        [45.0, 3.2],\n",
    "    ],\n",
    "    columns=[\"dosage\", \"label\"],\n",
    ")\n",
    "\n",
    "plt.scatter(x=training_data[\"dosage\"], y=training_data[\"label\"])"
   ]
  },
  {
   "cell_type": "code",
   "execution_count": 104,
   "id": "substantial-latvia",
   "metadata": {},
   "outputs": [
    {
     "name": "stdout",
     "output_type": "stream",
     "text": [
      " Is dosage >= 16.0?\n",
      "  |__ Is dosage >= 36.0?\n",
      "    |__ 12.440000000000001\n",
      "    |__ Is dosage >= 30.0?\n",
      "        |__ 64.66666666666667\n",
      "        |__ 99.5\n",
      "  |__ 2.5\n"
     ]
    },
    {
     "data": {
      "application/javascript": [
       "\n",
       "            setTimeout(function() {\n",
       "                var nbb_cell_id = 104;\n",
       "                var nbb_unformatted_code = \"mod = RegressionTree(features=[\\\"dosage\\\"])\\ntree = mod.build_tree(training_data)\\nprint_tree(tree)\";\n",
       "                var nbb_formatted_code = \"mod = RegressionTree(features=[\\\"dosage\\\"])\\ntree = mod.build_tree(training_data)\\nprint_tree(tree)\";\n",
       "                var nbb_cells = Jupyter.notebook.get_cells();\n",
       "                for (var i = 0; i < nbb_cells.length; ++i) {\n",
       "                    if (nbb_cells[i].input_prompt_number == nbb_cell_id) {\n",
       "                        if (nbb_cells[i].get_text() == nbb_unformatted_code) {\n",
       "                             nbb_cells[i].set_text(nbb_formatted_code);\n",
       "                        }\n",
       "                        break;\n",
       "                    }\n",
       "                }\n",
       "            }, 500);\n",
       "            "
      ],
      "text/plain": [
       "<IPython.core.display.Javascript object>"
      ]
     },
     "metadata": {},
     "output_type": "display_data"
    }
   ],
   "source": [
    "mod = RegressionTree(features=[\"dosage\"])\n",
    "tree = mod.build_tree(training_data)\n",
    "print_tree(tree)"
   ]
  },
  {
   "cell_type": "code",
   "execution_count": 106,
   "id": "dietary-personal",
   "metadata": {
    "scrolled": true
   },
   "outputs": [
    {
     "data": {
      "application/javascript": [
       "\n",
       "            setTimeout(function() {\n",
       "                var nbb_cell_id = 106;\n",
       "                var nbb_unformatted_code = \"testing_data = pd.DataFrame(np.linspace(start=1, stop=45, num=40), columns=[\\\"dosage\\\"])\";\n",
       "                var nbb_formatted_code = \"testing_data = pd.DataFrame(np.linspace(start=1, stop=45, num=40), columns=[\\\"dosage\\\"])\";\n",
       "                var nbb_cells = Jupyter.notebook.get_cells();\n",
       "                for (var i = 0; i < nbb_cells.length; ++i) {\n",
       "                    if (nbb_cells[i].input_prompt_number == nbb_cell_id) {\n",
       "                        if (nbb_cells[i].get_text() == nbb_unformatted_code) {\n",
       "                             nbb_cells[i].set_text(nbb_formatted_code);\n",
       "                        }\n",
       "                        break;\n",
       "                    }\n",
       "                }\n",
       "            }, 500);\n",
       "            "
      ],
      "text/plain": [
       "<IPython.core.display.Javascript object>"
      ]
     },
     "metadata": {},
     "output_type": "display_data"
    }
   ],
   "source": [
    "testing_data = pd.DataFrame(np.linspace(start=1, stop=45, num=40), columns=[\"dosage\"])"
   ]
  },
  {
   "cell_type": "code",
   "execution_count": 107,
   "id": "honest-movement",
   "metadata": {},
   "outputs": [
    {
     "data": {
      "application/javascript": [
       "\n",
       "            setTimeout(function() {\n",
       "                var nbb_cell_id = 107;\n",
       "                var nbb_unformatted_code = \"preds = []\\nfor i in range(len(testing_data)):\\n    preds.append(predict(tree, testing_data[i : i + 1]))\";\n",
       "                var nbb_formatted_code = \"preds = []\\nfor i in range(len(testing_data)):\\n    preds.append(predict(tree, testing_data[i : i + 1]))\";\n",
       "                var nbb_cells = Jupyter.notebook.get_cells();\n",
       "                for (var i = 0; i < nbb_cells.length; ++i) {\n",
       "                    if (nbb_cells[i].input_prompt_number == nbb_cell_id) {\n",
       "                        if (nbb_cells[i].get_text() == nbb_unformatted_code) {\n",
       "                             nbb_cells[i].set_text(nbb_formatted_code);\n",
       "                        }\n",
       "                        break;\n",
       "                    }\n",
       "                }\n",
       "            }, 500);\n",
       "            "
      ],
      "text/plain": [
       "<IPython.core.display.Javascript object>"
      ]
     },
     "metadata": {},
     "output_type": "display_data"
    }
   ],
   "source": [
    "preds = []\n",
    "for i in range(len(testing_data)):\n",
    "    preds.append(predict(tree, testing_data[i : i + 1]))"
   ]
  },
  {
   "cell_type": "code",
   "execution_count": 108,
   "id": "third-scoop",
   "metadata": {},
   "outputs": [
    {
     "data": {
      "application/javascript": [
       "\n",
       "            setTimeout(function() {\n",
       "                var nbb_cell_id = 108;\n",
       "                var nbb_unformatted_code = \"testing_data = testing_data.assign(**{\\\"pred\\\": preds})\";\n",
       "                var nbb_formatted_code = \"testing_data = testing_data.assign(**{\\\"pred\\\": preds})\";\n",
       "                var nbb_cells = Jupyter.notebook.get_cells();\n",
       "                for (var i = 0; i < nbb_cells.length; ++i) {\n",
       "                    if (nbb_cells[i].input_prompt_number == nbb_cell_id) {\n",
       "                        if (nbb_cells[i].get_text() == nbb_unformatted_code) {\n",
       "                             nbb_cells[i].set_text(nbb_formatted_code);\n",
       "                        }\n",
       "                        break;\n",
       "                    }\n",
       "                }\n",
       "            }, 500);\n",
       "            "
      ],
      "text/plain": [
       "<IPython.core.display.Javascript object>"
      ]
     },
     "metadata": {},
     "output_type": "display_data"
    }
   ],
   "source": [
    "testing_data = testing_data.assign(**{\"pred\": preds})"
   ]
  },
  {
   "cell_type": "code",
   "execution_count": 109,
   "id": "round-magnet",
   "metadata": {},
   "outputs": [
    {
     "data": {
      "text/plain": [
       "<matplotlib.collections.PathCollection at 0x7fd834f155d0>"
      ]
     },
     "execution_count": 109,
     "metadata": {},
     "output_type": "execute_result"
    },
    {
     "data": {
      "image/png": "[encoded data removed]",
      "text/plain": [
       "<Figure size 432x288 with 1 Axes>"
      ]
     },
     "metadata": {
      "needs_background": "light"
     },
     "output_type": "display_data"
    },
    {
     "data": {
      "application/javascript": [
       "\n",
       "            setTimeout(function() {\n",
       "                var nbb_cell_id = 109;\n",
       "                var nbb_unformatted_code = \"plt.scatter(x=testing_data[\\\"dosage\\\"], y=testing_data[\\\"pred\\\"])\";\n",
       "                var nbb_formatted_code = \"plt.scatter(x=testing_data[\\\"dosage\\\"], y=testing_data[\\\"pred\\\"])\";\n",
       "                var nbb_cells = Jupyter.notebook.get_cells();\n",
       "                for (var i = 0; i < nbb_cells.length; ++i) {\n",
       "                    if (nbb_cells[i].input_prompt_number == nbb_cell_id) {\n",
       "                        if (nbb_cells[i].get_text() == nbb_unformatted_code) {\n",
       "                             nbb_cells[i].set_text(nbb_formatted_code);\n",
       "                        }\n",
       "                        break;\n",
       "                    }\n",
       "                }\n",
       "            }, 500);\n",
       "            "
      ],
      "text/plain": [
       "<IPython.core.display.Javascript object>"
      ]
     },
     "metadata": {},
     "output_type": "display_data"
    }
   ],
   "source": [
    "plt.scatter(x=testing_data[\"dosage\"], y=testing_data[\"pred\"])"
   ]
  },
  {
   "cell_type": "code",
   "execution_count": null,
   "id": "traditional-theology",
   "metadata": {},
   "outputs": [],
   "source": []
  }
 ],
 "metadata": {
  "kernelspec": {
   "display_name": "Python 3",
   "language": "python",
   "name": "python3"
  },
  "language_info": {
   "codemirror_mode": {
    "name": "ipython",
    "version": 3
   },
   "file_extension": ".py",
   "mimetype": "text/x-python",
   "name": "python",
   "nbconvert_exporter": "python",
   "pygments_lexer": "ipython3",
   "version": "3.7.9"
  }
 },
 "nbformat": 4,
 "nbformat_minor": 5
}
