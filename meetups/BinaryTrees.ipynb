{
 "cells": [
  {
   "cell_type": "markdown",
   "id": "experienced-exemption",
   "metadata": {},
   "source": [
    "# Binary Trees"
   ]
  },
  {
   "cell_type": "code",
   "execution_count": 1,
   "id": "continental-class",
   "metadata": {},
   "outputs": [
    {
     "data": {
      "application/javascript": [
       "\n",
       "            setTimeout(function() {\n",
       "                var nbb_cell_id = 1;\n",
       "                var nbb_unformatted_code = \"%load_ext nb_black\";\n",
       "                var nbb_formatted_code = \"%load_ext nb_black\";\n",
       "                var nbb_cells = Jupyter.notebook.get_cells();\n",
       "                for (var i = 0; i < nbb_cells.length; ++i) {\n",
       "                    if (nbb_cells[i].input_prompt_number == nbb_cell_id) {\n",
       "                        if (nbb_cells[i].get_text() == nbb_unformatted_code) {\n",
       "                             nbb_cells[i].set_text(nbb_formatted_code);\n",
       "                        }\n",
       "                        break;\n",
       "                    }\n",
       "                }\n",
       "            }, 500);\n",
       "            "
      ],
      "text/plain": [
       "<IPython.core.display.Javascript object>"
      ]
     },
     "metadata": {},
     "output_type": "display_data"
    }
   ],
   "source": [
    "%load_ext nb_black"
   ]
  },
  {
   "cell_type": "code",
   "execution_count": 19,
   "id": "therapeutic-taste",
   "metadata": {},
   "outputs": [
    {
     "data": {
      "application/javascript": [
       "\n",
       "            setTimeout(function() {\n",
       "                var nbb_cell_id = 19;\n",
       "                var nbb_unformatted_code = \"from typing import List\\nimport numpy as np\";\n",
       "                var nbb_formatted_code = \"from typing import List\\nimport numpy as np\";\n",
       "                var nbb_cells = Jupyter.notebook.get_cells();\n",
       "                for (var i = 0; i < nbb_cells.length; ++i) {\n",
       "                    if (nbb_cells[i].input_prompt_number == nbb_cell_id) {\n",
       "                        if (nbb_cells[i].get_text() == nbb_unformatted_code) {\n",
       "                             nbb_cells[i].set_text(nbb_formatted_code);\n",
       "                        }\n",
       "                        break;\n",
       "                    }\n",
       "                }\n",
       "            }, 500);\n",
       "            "
      ],
      "text/plain": [
       "<IPython.core.display.Javascript object>"
      ]
     },
     "metadata": {},
     "output_type": "display_data"
    }
   ],
   "source": [
    "from typing import List\n",
    "import numpy as np"
   ]
  },
  {
   "cell_type": "code",
   "execution_count": 16,
   "id": "local-development",
   "metadata": {},
   "outputs": [
    {
     "data": {
      "application/javascript": [
       "\n",
       "            setTimeout(function() {\n",
       "                var nbb_cell_id = 16;\n",
       "                var nbb_unformatted_code = \"class Node:\\n    def __init__(self, data: int):\\n        self.data = data\\n        self.right = None\\n        self.left = None\\n\\n    def __repr__(self):\\n        return f\\\"Node({self.data})\\\"\";\n",
       "                var nbb_formatted_code = \"class Node:\\n    def __init__(self, data: int):\\n        self.data = data\\n        self.right = None\\n        self.left = None\\n\\n    def __repr__(self):\\n        return f\\\"Node({self.data})\\\"\";\n",
       "                var nbb_cells = Jupyter.notebook.get_cells();\n",
       "                for (var i = 0; i < nbb_cells.length; ++i) {\n",
       "                    if (nbb_cells[i].input_prompt_number == nbb_cell_id) {\n",
       "                        if (nbb_cells[i].get_text() == nbb_unformatted_code) {\n",
       "                             nbb_cells[i].set_text(nbb_formatted_code);\n",
       "                        }\n",
       "                        break;\n",
       "                    }\n",
       "                }\n",
       "            }, 500);\n",
       "            "
      ],
      "text/plain": [
       "<IPython.core.display.Javascript object>"
      ]
     },
     "metadata": {},
     "output_type": "display_data"
    }
   ],
   "source": [
    "class Node:\n",
    "    def __init__(self, data: int):\n",
    "        self.data = data\n",
    "        self.right = None\n",
    "        self.left = None\n",
    "\n",
    "    def __repr__(self):\n",
    "        return f\"Node({self.data})\""
   ]
  },
  {
   "cell_type": "code",
   "execution_count": null,
   "id": "significant-blair",
   "metadata": {},
   "outputs": [],
   "source": []
  },
  {
   "cell_type": "code",
   "execution_count": 101,
   "id": "patient-replica",
   "metadata": {},
   "outputs": [
    {
     "data": {
      "text/plain": [
       "2"
      ]
     },
     "execution_count": 101,
     "metadata": {},
     "output_type": "execute_result"
    },
    {
     "data": {
      "application/javascript": [
       "\n",
       "            setTimeout(function() {\n",
       "                var nbb_cell_id = 101;\n",
       "                var nbb_unformatted_code = \"class BinaryTree:\\n    def __init__(self, root: Node):\\n        self.root = root\\n\\n    def build_tree(self, balanced=True):\\n\\n        if balanced:\\n\\n            self.root.left = Node(2)\\n            self.root.right = Node(6)\\n            self.root.left.left = Node(1)\\n            self.root.left.right = Node(3)\\n            self.root.right.left = Node(5)\\n            self.root.right.right = Node(7)\\n\\n        else:\\n            self.root.left = Node(2)\\n            self.root.left.left = Node(1)\\n            self.root.left.right = Node(3)\\n\\n    def print_tree(self, node=\\\"root\\\", level: int = 0):\\n\\n        if node == \\\"root\\\":\\n            node = self.root\\n\\n        if level == 0:\\n            print(\\\"  \\\" * level, node.data)\\n        else:\\n            print(\\\"  \\\" * level + \\\"|__\\\", node.data)\\n\\n        if node is None:\\n            return\\n\\n        if node.left:\\n            self.print_tree(node.left, level=level + 1)\\n\\n        if node.right:\\n            self.print_tree(node.right, level=level + 1)\\n\\n    def preorder_traversal(self, node=\\\"root\\\"):\\n\\n        if node == \\\"root\\\":\\n            node = self.root\\n\\n        if node is None:\\n            return []\\n        else:\\n            return (\\n                [node.data]\\n                + self.preorder_traversal(node.left)\\n                + self.preorder_traversal(node.right)\\n            )\\n\\n    def inorder_traversal(self, node=\\\"root\\\"):\\n\\n        if node == \\\"root\\\":\\n            node = self.root\\n\\n        if node is None:\\n            return []\\n        else:\\n            return (\\n                self.inorder_traversal(node.left)\\n                + [node.data]\\n                + self.inorder_traversal(node.right)\\n            )\\n\\n        pass\\n\\n    def postorder_traversal(self, node=\\\"root\\\"):\\n\\n        if node == \\\"root\\\":\\n            node = self.root\\n\\n        if node is None:\\n            return []\\n        else:\\n            return (\\n                self.postorder_traversal(node.left)\\n                + self.postorder_traversal(node.right)\\n                + [node.data]\\n            )\\n\\n    def max_depth(self, node=\\\"root\\\"):\\n\\n        if node == \\\"root\\\":\\n            node = self.root\\n\\n        if node is None:\\n            return 0\\n\\n        left_height = 0\\n        right_height = 0\\n\\n        if node.left:\\n            left_height = self.max_depth(node.left) + 1\\n\\n        if node.right:\\n            right_height = self.max_depth(node.right) + 1\\n\\n        return max(left_height, right_height)\\n\\n    def is_balanced(self, node=\\\"root\\\"):\\n\\n        if node == \\\"root\\\":\\n            node = self.root\\n\\n        if node is None:\\n            return\\n\\n        left_height = 0\\n        right_height = 0\\n        if node.left:\\n            left_height = self.is_balanced(node.left)\\n\\n        if node.right:\\n            right_height = self.is_balanced(node.right)\\n\\n        if np.abs(left_height - right_height) > 1:\\n            return -1\\n\\n        return max(left_height, right_height) + 1\\n\\n\\ntree = BinaryTree(Node(4))\\ntree.build_tree(balanced=False)\\n\\n\\ntree.preorder_traversal()\\ntree.inorder_traversal()\\ntree.postorder_traversal()\\n\\ntree.max_depth()\";\n",
       "                var nbb_formatted_code = \"class BinaryTree:\\n    def __init__(self, root: Node):\\n        self.root = root\\n\\n    def build_tree(self, balanced=True):\\n\\n        if balanced:\\n\\n            self.root.left = Node(2)\\n            self.root.right = Node(6)\\n            self.root.left.left = Node(1)\\n            self.root.left.right = Node(3)\\n            self.root.right.left = Node(5)\\n            self.root.right.right = Node(7)\\n\\n        else:\\n            self.root.left = Node(2)\\n            self.root.left.left = Node(1)\\n            self.root.left.right = Node(3)\\n\\n    def print_tree(self, node=\\\"root\\\", level: int = 0):\\n\\n        if node == \\\"root\\\":\\n            node = self.root\\n\\n        if level == 0:\\n            print(\\\"  \\\" * level, node.data)\\n        else:\\n            print(\\\"  \\\" * level + \\\"|__\\\", node.data)\\n\\n        if node is None:\\n            return\\n\\n        if node.left:\\n            self.print_tree(node.left, level=level + 1)\\n\\n        if node.right:\\n            self.print_tree(node.right, level=level + 1)\\n\\n    def preorder_traversal(self, node=\\\"root\\\"):\\n\\n        if node == \\\"root\\\":\\n            node = self.root\\n\\n        if node is None:\\n            return []\\n        else:\\n            return (\\n                [node.data]\\n                + self.preorder_traversal(node.left)\\n                + self.preorder_traversal(node.right)\\n            )\\n\\n    def inorder_traversal(self, node=\\\"root\\\"):\\n\\n        if node == \\\"root\\\":\\n            node = self.root\\n\\n        if node is None:\\n            return []\\n        else:\\n            return (\\n                self.inorder_traversal(node.left)\\n                + [node.data]\\n                + self.inorder_traversal(node.right)\\n            )\\n\\n        pass\\n\\n    def postorder_traversal(self, node=\\\"root\\\"):\\n\\n        if node == \\\"root\\\":\\n            node = self.root\\n\\n        if node is None:\\n            return []\\n        else:\\n            return (\\n                self.postorder_traversal(node.left)\\n                + self.postorder_traversal(node.right)\\n                + [node.data]\\n            )\\n\\n    def max_depth(self, node=\\\"root\\\"):\\n\\n        if node == \\\"root\\\":\\n            node = self.root\\n\\n        if node is None:\\n            return 0\\n\\n        left_height = 0\\n        right_height = 0\\n\\n        if node.left:\\n            left_height = self.max_depth(node.left) + 1\\n\\n        if node.right:\\n            right_height = self.max_depth(node.right) + 1\\n\\n        return max(left_height, right_height)\\n\\n    def is_balanced(self, node=\\\"root\\\"):\\n\\n        if node == \\\"root\\\":\\n            node = self.root\\n\\n        if node is None:\\n            return\\n\\n        left_height = 0\\n        right_height = 0\\n        if node.left:\\n            left_height = self.is_balanced(node.left)\\n\\n        if node.right:\\n            right_height = self.is_balanced(node.right)\\n\\n        if np.abs(left_height - right_height) > 1:\\n            return -1\\n\\n        return max(left_height, right_height) + 1\\n\\n\\ntree = BinaryTree(Node(4))\\ntree.build_tree(balanced=False)\\n\\n\\ntree.preorder_traversal()\\ntree.inorder_traversal()\\ntree.postorder_traversal()\\n\\ntree.max_depth()\";\n",
       "                var nbb_cells = Jupyter.notebook.get_cells();\n",
       "                for (var i = 0; i < nbb_cells.length; ++i) {\n",
       "                    if (nbb_cells[i].input_prompt_number == nbb_cell_id) {\n",
       "                        if (nbb_cells[i].get_text() == nbb_unformatted_code) {\n",
       "                             nbb_cells[i].set_text(nbb_formatted_code);\n",
       "                        }\n",
       "                        break;\n",
       "                    }\n",
       "                }\n",
       "            }, 500);\n",
       "            "
      ],
      "text/plain": [
       "<IPython.core.display.Javascript object>"
      ]
     },
     "metadata": {},
     "output_type": "display_data"
    }
   ],
   "source": [
    "class BinaryTree:\n",
    "    def __init__(self, root: Node):\n",
    "        self.root = root\n",
    "\n",
    "    def build_tree(self, balanced=True):\n",
    "\n",
    "        if balanced:\n",
    "\n",
    "            self.root.left = Node(2)\n",
    "            self.root.right = Node(6)\n",
    "            self.root.left.left = Node(1)\n",
    "            self.root.left.right = Node(3)\n",
    "            self.root.right.left = Node(5)\n",
    "            self.root.right.right = Node(7)\n",
    "\n",
    "        else:\n",
    "            self.root.left = Node(2)\n",
    "            self.root.left.left = Node(1)\n",
    "            self.root.left.right = Node(3)\n",
    "\n",
    "    def print_tree(self, node=\"root\", level: int = 0):\n",
    "\n",
    "        if node == \"root\":\n",
    "            node = self.root\n",
    "\n",
    "        if level == 0:\n",
    "            print(\"  \" * level, node.data)\n",
    "        else:\n",
    "            print(\"  \" * level + \"|__\", node.data)\n",
    "\n",
    "        if node is None:\n",
    "            return\n",
    "\n",
    "        if node.left:\n",
    "            self.print_tree(node.left, level=level + 1)\n",
    "\n",
    "        if node.right:\n",
    "            self.print_tree(node.right, level=level + 1)\n",
    "\n",
    "    def preorder_traversal(self, node=\"root\"):\n",
    "\n",
    "        if node == \"root\":\n",
    "            node = self.root\n",
    "\n",
    "        if node is None:\n",
    "            return []\n",
    "        else:\n",
    "            return (\n",
    "                [node.data]\n",
    "                + self.preorder_traversal(node.left)\n",
    "                + self.preorder_traversal(node.right)\n",
    "            )\n",
    "\n",
    "    def inorder_traversal(self, node=\"root\"):\n",
    "\n",
    "        if node == \"root\":\n",
    "            node = self.root\n",
    "\n",
    "        if node is None:\n",
    "            return []\n",
    "        else:\n",
    "            return (\n",
    "                self.inorder_traversal(node.left)\n",
    "                + [node.data]\n",
    "                + self.inorder_traversal(node.right)\n",
    "            )\n",
    "\n",
    "        pass\n",
    "\n",
    "    def postorder_traversal(self, node=\"root\"):\n",
    "\n",
    "        if node == \"root\":\n",
    "            node = self.root\n",
    "\n",
    "        if node is None:\n",
    "            return []\n",
    "        else:\n",
    "            return (\n",
    "                self.postorder_traversal(node.left)\n",
    "                + self.postorder_traversal(node.right)\n",
    "                + [node.data]\n",
    "            )\n",
    "\n",
    "    def max_depth(self, node=\"root\"):\n",
    "\n",
    "        if node == \"root\":\n",
    "            node = self.root\n",
    "\n",
    "        if node is None:\n",
    "            return 0\n",
    "\n",
    "        left_height = 0\n",
    "        right_height = 0\n",
    "\n",
    "        if node.left:\n",
    "            left_height = self.max_depth(node.left) + 1\n",
    "\n",
    "        if node.right:\n",
    "            right_height = self.max_depth(node.right) + 1\n",
    "\n",
    "        return max(left_height, right_height)\n",
    "\n",
    "    def is_balanced(self, node=\"root\"):\n",
    "\n",
    "        if node == \"root\":\n",
    "            node = self.root\n",
    "\n",
    "        if node is None:\n",
    "            return\n",
    "\n",
    "        left_height = 0\n",
    "        right_height = 0\n",
    "        if node.left:\n",
    "            left_height = self.is_balanced(node.left)\n",
    "\n",
    "        if node.right:\n",
    "            right_height = self.is_balanced(node.right)\n",
    "\n",
    "        if np.abs(left_height - right_height) > 1:\n",
    "            return -1\n",
    "\n",
    "        return max(left_height, right_height) + 1\n",
    "\n",
    "\n",
    "tree = BinaryTree(Node(4))\n",
    "tree.build_tree(balanced=False)\n",
    "\n",
    "\n",
    "tree.preorder_traversal()\n",
    "tree.inorder_traversal()\n",
    "tree.postorder_traversal()\n",
    "\n",
    "tree.max_depth()"
   ]
  },
  {
   "cell_type": "code",
   "execution_count": 102,
   "id": "acoustic-stream",
   "metadata": {},
   "outputs": [
    {
     "name": "stdout",
     "output_type": "stream",
     "text": [
      " 4\n",
      "  |__ 2\n",
      "    |__ 1\n",
      "    |__ 3\n"
     ]
    },
    {
     "data": {
      "application/javascript": [
       "\n",
       "            setTimeout(function() {\n",
       "                var nbb_cell_id = 102;\n",
       "                var nbb_unformatted_code = \"tree.print_tree()\";\n",
       "                var nbb_formatted_code = \"tree.print_tree()\";\n",
       "                var nbb_cells = Jupyter.notebook.get_cells();\n",
       "                for (var i = 0; i < nbb_cells.length; ++i) {\n",
       "                    if (nbb_cells[i].input_prompt_number == nbb_cell_id) {\n",
       "                        if (nbb_cells[i].get_text() == nbb_unformatted_code) {\n",
       "                             nbb_cells[i].set_text(nbb_formatted_code);\n",
       "                        }\n",
       "                        break;\n",
       "                    }\n",
       "                }\n",
       "            }, 500);\n",
       "            "
      ],
      "text/plain": [
       "<IPython.core.display.Javascript object>"
      ]
     },
     "metadata": {},
     "output_type": "display_data"
    }
   ],
   "source": [
    "tree.print_tree()"
   ]
  },
  {
   "cell_type": "code",
   "execution_count": 27,
   "id": "serious-providence",
   "metadata": {},
   "outputs": [
    {
     "ename": "TypeError",
     "evalue": "__init__() takes 2 positional arguments but 4 were given",
     "output_type": "error",
     "traceback": [
      "\u001b[0;31m---------------------------------------------------------------------------\u001b[0m",
      "\u001b[0;31mTypeError\u001b[0m                                 Traceback (most recent call last)",
      "\u001b[0;32m<ipython-input-27-4b52906a907f>\u001b[0m in \u001b[0;36m<module>\u001b[0;34m\u001b[0m\n\u001b[1;32m      4\u001b[0m \u001b[0;34m\u001b[0m\u001b[0m\n\u001b[1;32m      5\u001b[0m \u001b[0;34m\u001b[0m\u001b[0m\n\u001b[0;32m----> 6\u001b[0;31m \u001b[0mtree\u001b[0m \u001b[0;34m=\u001b[0m \u001b[0mNode\u001b[0m\u001b[0;34m(\u001b[0m\u001b[0;36m1\u001b[0m\u001b[0;34m,\u001b[0m \u001b[0mleft\u001b[0m\u001b[0;34m=\u001b[0m\u001b[0mNode\u001b[0m\u001b[0;34m(\u001b[0m\u001b[0;36m2\u001b[0m\u001b[0;34m,\u001b[0m \u001b[0mNode\u001b[0m\u001b[0;34m(\u001b[0m\u001b[0;36m4\u001b[0m\u001b[0;34m)\u001b[0m\u001b[0;34m,\u001b[0m \u001b[0mNode\u001b[0m\u001b[0;34m(\u001b[0m\u001b[0;36m7\u001b[0m\u001b[0;34m)\u001b[0m\u001b[0;34m)\u001b[0m\u001b[0;34m,\u001b[0m \u001b[0mright\u001b[0m\u001b[0;34m=\u001b[0m\u001b[0mNode\u001b[0m\u001b[0;34m(\u001b[0m\u001b[0;36m3\u001b[0m\u001b[0;34m,\u001b[0m \u001b[0mNode\u001b[0m\u001b[0;34m(\u001b[0m\u001b[0;36m10\u001b[0m\u001b[0;34m)\u001b[0m\u001b[0;34m,\u001b[0m \u001b[0mNode\u001b[0m\u001b[0;34m(\u001b[0m\u001b[0;36m17\u001b[0m\u001b[0;34m)\u001b[0m\u001b[0;34m)\u001b[0m\u001b[0;34m)\u001b[0m\u001b[0;34m\u001b[0m\u001b[0;34m\u001b[0m\u001b[0m\n\u001b[0m\u001b[1;32m      7\u001b[0m \u001b[0;34m\u001b[0m\u001b[0m\n\u001b[1;32m      8\u001b[0m \u001b[0;34m\u001b[0m\u001b[0m\n",
      "\u001b[0;31mTypeError\u001b[0m: __init__() takes 2 positional arguments but 4 were given"
     ]
    },
    {
     "data": {
      "application/javascript": [
       "\n",
       "            setTimeout(function() {\n",
       "                var nbb_cell_id = 27;\n",
       "                var nbb_unformatted_code = \"# Build a Tree and Traverse it\\n\\ndata = [1, 2, 3, 5, 7]\\n\\n\\ntree = Node(1, left=Node(2, Node(4), Node(7)), right=Node(3, Node(10), Node(17)))\\n\\n\\ndef traverse(root: Node):\\n\\n    print(root.data)\\n    if root is None:\\n        return\\n\\n    if root.left:\\n        traverse(root.left)\\n    if root.right:\\n        traverse(root.right)\\n\\n\\ntraverse(tree)\\n\\n# Find the max depth\\n\\n# Find if it's a balanced tree\\n\\n\\n# (Stretch) Lowest Common Ancestor\";\n",
       "                var nbb_formatted_code = \"# Build a Tree and Traverse it\\n\\ndata = [1, 2, 3, 5, 7]\\n\\n\\ntree = Node(1, left=Node(2, Node(4), Node(7)), right=Node(3, Node(10), Node(17)))\\n\\n\\ndef traverse(root: Node):\\n\\n    print(root.data)\\n    if root is None:\\n        return\\n\\n    if root.left:\\n        traverse(root.left)\\n    if root.right:\\n        traverse(root.right)\\n\\n\\ntraverse(tree)\\n\\n# Find the max depth\\n\\n# Find if it's a balanced tree\\n\\n\\n# (Stretch) Lowest Common Ancestor\";\n",
       "                var nbb_cells = Jupyter.notebook.get_cells();\n",
       "                for (var i = 0; i < nbb_cells.length; ++i) {\n",
       "                    if (nbb_cells[i].input_prompt_number == nbb_cell_id) {\n",
       "                        if (nbb_cells[i].get_text() == nbb_unformatted_code) {\n",
       "                             nbb_cells[i].set_text(nbb_formatted_code);\n",
       "                        }\n",
       "                        break;\n",
       "                    }\n",
       "                }\n",
       "            }, 500);\n",
       "            "
      ],
      "text/plain": [
       "<IPython.core.display.Javascript object>"
      ]
     },
     "metadata": {},
     "output_type": "display_data"
    }
   ],
   "source": [
    "# Build a Tree and Traverse it\n",
    "\n",
    "\n",
    "# Find the max depth\n",
    "\n",
    "# Find if it's a balanced tree"
   ]
  },
  {
   "cell_type": "code",
   "execution_count": null,
   "id": "diagnostic-crazy",
   "metadata": {},
   "outputs": [],
   "source": []
  }
 ],
 "metadata": {
  "kernelspec": {
   "display_name": "Python 3",
   "language": "python",
   "name": "python3"
  },
  "language_info": {
   "codemirror_mode": {
    "name": "ipython",
    "version": 3
   },
   "file_extension": ".py",
   "mimetype": "text/x-python",
   "name": "python",
   "nbconvert_exporter": "python",
   "pygments_lexer": "ipython3",
   "version": "3.7.9"
  }
 },
 "nbformat": 4,
 "nbformat_minor": 5
}
